{
  "nbformat": 4,
  "nbformat_minor": 0,
  "metadata": {
    "colab": {
      "provenance": []
    },
    "kernelspec": {
      "name": "python3",
      "display_name": "Python 3"
    },
    "language_info": {
      "name": "python"
    }
  },
  "cells": [
    {
      "cell_type": "markdown",
      "source": [
        "# 1. データの加工\n",
        "\n",
        "\n",
        "**1.   気象データの前処理**\n",
        "\n",
        " 市町村別気象データを都道府県別気象データにまとめ加工する。\n",
        "\n",
        "> 1-1. モジュールのインポート\n",
        "\n",
        "> 1-2. 関数の定義\n",
        "\n",
        "> 1-3. ファイルの取り込み\n",
        "\n",
        "> 1-4. 欠損値の確認\n",
        "\n",
        "> 1-5. 欠損値の穴埋め\n",
        "\n",
        "> 1-6. 市町村データを平均し都道府県別データにする\n",
        "\n",
        "> 1-7. データフレームをcsv形式で保存する\n",
        "\n",
        "\n",
        "**2. 気象データとブロッコリー収穫量データの結合**\n",
        "\n",
        "気象データとブロッコリー収穫量データを結合する。\n",
        "\n",
        ">2-1. モジュールのインポート\n",
        "\n",
        ">2-2. 気象データと収穫量データを結合し気象条件ごとにcsv形式で保存\n",
        "\n",
        "# 2. 機械学習によるブロッコリー収穫量の予測\n",
        "\n",
        "**1. ブロッコリー収穫量の予測1**\n",
        "\n",
        "生データ数値の気象データを用いてブロッコリーの収穫量を予測する。\n",
        "\n",
        ">1-1. 線形回帰による予測\n",
        "\n",
        ">1-2. ランダムフォレスト回帰による予測\n",
        "\n",
        "**2. ブロッコリー収穫量の予測2　説明変数のクラスタリング化**\n",
        "\n",
        "クラスタリングした気象データを用いてブロッコリーの収穫量を予測する。\n",
        "\n",
        ">2-1. 気象データのクラスタリング\n",
        "\n",
        "　　　2-1-2. 各気象条件ごとにデータをリスト化する\n",
        "\n",
        "　　　2-1-3. 各気象条件データをクラスタリングする\n",
        "\n",
        ">2-2. 線形回帰による予測\n",
        "\n",
        ">2-3. ランダムフォレスト回帰による予測\n",
        "\n",
        "**3. ブロッコリー収穫量の予測3　目的変数のクラス分け**\n",
        "\n",
        "収穫量に応じてブロッコリー収穫量を分類し、数値気象データを用いてブロッコリー収穫量を予測する。\n",
        "\n",
        ">3-1. 解析データの加工\n",
        "\n",
        "　　3-1-1. ブロッコリー収穫量を収穫量に応じてクラス分けする\n",
        "\n",
        "　　3-1-2. データファイルに上書きする\n",
        "\n",
        ">3-2. 機械学習による目的変数の予測\n",
        "\n",
        "　　3-2-1. モジュールをインポートし、ランダムを定義する\n",
        "\n",
        "　　3-2-2. 解析する都道府県データを収穫量カテゴリ別に分ける\n",
        "\n",
        "　　3-2-3. ランダムフォレストで予測する\n",
        "\n",
        "　　3-2-4. グリッドサーチで最適化する\n",
        "\n",
        "#3. ディープラーニングによるブロッコリー収穫量の予測\n",
        "**1. 数値気象データを用いた予測**\n",
        "\n",
        "生データ数値の気象データを用いてブロッコリーの収穫量を予測する。\n",
        "\n",
        "**2. クラス分けしたブロッコリー収穫量の予測**\n",
        "\n",
        "ブロッコリー収穫量を収穫量に応じてクラス分けして予測する。\n",
        "\n",
        "#4. ブロッコリー収穫量を決定する気象要因の探索\n",
        "**1. ブロッコリー収穫量に寄与する気象要因の特定**\n",
        "\n",
        "機械学習を用いて各気象データ毎にブロッコリー収穫量を予測する\n",
        "\n",
        "　1-1. モジュールのインポートとランダム設定\n",
        "\n",
        "　1-2. ファイルの読み込み\n",
        "\n",
        "　1-3. ランダムフォレストで分類予測\n",
        "\n",
        "　1-4. グリッドサーチにより予測モデルの最適化\n",
        "\n",
        "**2. ブロッコリー収穫量に寄与する日にちの特定**\n",
        "\n",
        "決定木を用いてブロッコリー収穫量を分類予測し、分岐日を抽出する\n",
        "\n",
        "　2-1. ファイルを読み込みデータをリスト化する\n",
        "\n",
        "　2-2. 決定木モデルを用いてブロッコリー収穫量予測する\n",
        "\n",
        "　2-3. モデルの分岐点を可視化する\n",
        "\n",
        "　2-4. 分岐の日付を確認する\n",
        "\n",
        "　2-5. （参考）降雪量の場合\n",
        "\n",
        "**3. 分岐日から気象要因をする**\n",
        "\n",
        "分岐日の前後5日の気象データを取り出す\n",
        "\n",
        "　3-1. 収穫量が多い地域での検証\n",
        "\n",
        "　3-2.　気温データ分岐日前5日間の平均気温\n",
        "\n",
        "　3-3.　気温データ分岐日後5日間の平均気温\n",
        "\n",
        "　3-4.　気温データ分岐日前後5日間の平均気温\n",
        "\n",
        "　3-5. 他の気象データの傾向\n",
        "\n",
        "　3-6. 収穫量が少ない地域での検証\n",
        "\n",
        "　3-7. （参考）収穫量が多い地域での検証"
      ],
      "metadata": {
        "id": "ZHFOiPf2Ix6S"
      }
    },
    {
      "cell_type": "markdown",
      "source": [
        "# 1. データの加工"
      ],
      "metadata": {
        "id": "-CpmjnCGlAyN"
      }
    },
    {
      "cell_type": "markdown",
      "source": [
        "**1. 気象データの前処理**\n",
        "\n",
        " 　市町村別気象データを都道府県気象データに加工する"
      ],
      "metadata": {
        "id": "yCDtWuDCyst2"
      }
    },
    {
      "cell_type": "markdown",
      "source": [
        "　1-1. モジュールのインポート"
      ],
      "metadata": {
        "id": "7O5QbzPjyipt"
      }
    },
    {
      "cell_type": "code",
      "source": [
        "import glob\n",
        "import pandas as pd\n",
        "import numpy as np"
      ],
      "metadata": {
        "id": "qaGsLHjl4EXY"
      },
      "execution_count": null,
      "outputs": []
    },
    {
      "cell_type": "markdown",
      "source": [
        "　1-2. 関数の定義"
      ],
      "metadata": {
        "id": "OxG_Vexr4YMp"
      }
    },
    {
      "cell_type": "code",
      "source": [
        "def nan_check():\n",
        "  for t_df in df_list:\n",
        "    print(t_df.head())\n",
        "    # 各列のNaNの確認\n",
        "    print(t_df['temp'].hasnans)\n",
        "    print(t_df['prec'].hasnans)\n",
        "    print(t_df['sun'].hasnans)\n",
        "    print(t_df['snow'].hasnans)\n",
        "    print(t_df['humi'].hasnans)"
      ],
      "metadata": {
        "id": "YwlJC-K94XeD"
      },
      "execution_count": null,
      "outputs": []
    },
    {
      "cell_type": "markdown",
      "source": [
        "　1-3. ファイルの取り込み\n",
        "*   Numbersで処理したcsvを都道府県ごとにcolab上にアップロードし、\n",
        "*   市町村全てのデータを取り込む\n",
        "\n",
        "*愛知県のデータ例: aa_22_m.csv, ag_22_m.csv, ai_22_m.csv, am_22_m.csv, ao_22_m.csv, as_22_m.csv, at_22_m.csv, aty_22_m.csv*"
      ],
      "metadata": {
        "id": "kz1Ui8yNwcqU"
      }
    },
    {
      "cell_type": "code",
      "source": [
        "file_list = glob.glob('/content/*.csv')\n",
        "print(type(file_list))\n",
        "print(file_list)"
      ],
      "metadata": {
        "id": "w67fD5xetvdZ"
      },
      "execution_count": null,
      "outputs": []
    },
    {
      "cell_type": "markdown",
      "source": [
        "　1-4. 欠損値の確認\n",
        "*   #1. pandasをインポート\n",
        "*   #2. 市町村データファイルをデータフレームに変換する\n",
        "*   #3. データを確認する\n",
        "*   #4. データのinfoを確認する\n",
        "*   #5. 各気象データの品質を確認する\n",
        "*   #6. 各気象データのNaNを確認する"
      ],
      "metadata": {
        "id": "hnL-nbduVXzB"
      }
    },
    {
      "cell_type": "code",
      "source": [
        "#1 pandasをインポート\n",
        "import pandas as pd\n",
        "\n",
        "#2 市町村データファイルをデータフレームに変換する\n",
        "for f in file_list:\n",
        "  df= pd.read_csv(f) # 個別にファイル名を指定\n",
        "\n",
        "  #3 データを確認する\n",
        "  print(df.head())\n",
        "\n",
        "  #4 データのinfoを確認する\n",
        "  df.info()\n",
        "\n",
        "  #5 各気象データの品質を確認する\n",
        "  print(df['temp_q'].value_counts())\n",
        "  print(df['prec_q'].value_counts())\n",
        "  print(df['sun_q'].value_counts())\n",
        "  print(df['snow_q'].value_counts())\n",
        "  print(df['humi_q'].value_counts())\n",
        "\n",
        "  #6 各気象データのNaNを確認する\n",
        "  print(df['temp'].hasnans)\n",
        "  print(df['prec'].hasnans)\n",
        "  print(df['sun'].hasnans)\n",
        "  print(df['snow'].hasnans)\n",
        "  print(df['humi'].hasnans)\n"
      ],
      "metadata": {
        "id": "B383k-tuVMY5"
      },
      "execution_count": null,
      "outputs": []
    },
    {
      "cell_type": "markdown",
      "source": [
        "（オプション）品質情報1のカラムのデータ確認\n",
        "\n",
        "※ 品質情報1:欠損、品質情報4:データとしての扱いに注意、品質情報5:データとして使用可能、品質情報8:正常データ"
      ],
      "metadata": {
        "id": "PQQnhlRDVwSe"
      }
    },
    {
      "cell_type": "code",
      "source": [
        "df.query('temp_q == 1')"
      ],
      "metadata": {
        "id": "vn14rHPuVp7L"
      },
      "execution_count": null,
      "outputs": []
    },
    {
      "cell_type": "markdown",
      "source": [
        "　1-5. 欠損値の穴埋め\n",
        "\n",
        "\n",
        "*   #1. pandasをインポートする（インポート済みの場合は不要）\n",
        "\n",
        "*   #2. 読み込んだファイルを順にデータフレームに変換する（データフレームに変換済みの場合は不要）\n",
        "\n",
        "*   #3. 欠損データを処理する：（気温データの場合）データdf['temp']がNaNかつ品質番号df['temp_q']が1である時、前後データから予測して欠損値を埋め、df['temp']がNaNまたはdf['temp_q']が1である場合は、0で埋める\n",
        "\n",
        "*   #4. 欠損値処理したデータからデータフレームを作成\n",
        "\n",
        "*   #5. データフレームをリストに追加する\n",
        "\n",
        "\n",
        "\n",
        "\n",
        "\n",
        "\n",
        "\n",
        "\n",
        "\n"
      ],
      "metadata": {
        "id": "skMXf1zrWdla"
      }
    },
    {
      "cell_type": "code",
      "source": [
        "#1 pandasをインポートする\n",
        "import pandas as pd\n",
        "df_list = []\n",
        "\n",
        "#2 csvファイルのデータフレーム化\n",
        "for f in file_list:\n",
        "  #3 欠損データを処理する\n",
        "  df= pd.read_csv(f) # 個別にファイル名を指定\n",
        "  if df['temp'].hasnans and 1 in df['temp_q'].values:\n",
        "    df['temp'].interpolate(inplace= True, limit_direction='both')\n",
        "  else:\n",
        "    df['temp'].fillna(0,inplace = True)\n",
        "\n",
        "  if df['prec'].hasnans and 1 in df['prec_q'].values:\n",
        "    df['prec'].interpolate(inplace= True, limit_direction='both')\n",
        "  else:\n",
        "    df['prec'].fillna(0,inplace = True)\n",
        "\n",
        "  if df['sun'].hasnans and 1 in df['sun_q'].values:\n",
        "    df['sun'].interpolate(inplace= True, limit_direction='both')\n",
        "  else:\n",
        "    df['sun'].fillna(0,inplace = True)\n",
        "\n",
        "  if df['snow'].hasnans and 1 in df['snow_q'].values:\n",
        "    df['snow'].interpolate(inplace= True, limit_direction='both')\n",
        "  else:\n",
        "    df['snow'].fillna(0,inplace = True)\n",
        "\n",
        "  if df['humi'].hasnans and 1 in df['humi_q'].values:\n",
        "    df['humi'].interpolate(inplace= True, limit_direction='both')\n",
        "  else:\n",
        "    df['humi'].fillna(0,inplace = True)\n",
        "\n",
        " #4 欠損処理済みデータフレームを作成\n",
        "  t_df = pd.DataFrame(df, columns= ['temp', 'prec', 'sun', 'snow', 'humi'])\n",
        "\n",
        "  #5 データフレームをリスト（df_list）に追加\n",
        "  df_list.append(t_df)\n",
        "\n",
        "df_list"
      ],
      "metadata": {
        "id": "O9KE3y7pWLti"
      },
      "execution_count": null,
      "outputs": []
    },
    {
      "cell_type": "markdown",
      "source": [
        "（オプション）欠損値データ確認"
      ],
      "metadata": {
        "id": "yPIBTV3ZV92R"
      }
    },
    {
      "cell_type": "code",
      "source": [
        "nan_check()"
      ],
      "metadata": {
        "id": "DRKRTnhzVn1m"
      },
      "execution_count": null,
      "outputs": []
    },
    {
      "cell_type": "markdown",
      "source": [
        "　1-6. 市町村データを平均し都道府県別データにする\n",
        "\n",
        "欠損処理した市町村データを気象条件ごとに平均値および標準偏差を算出し1つの都道府県データとする。\n",
        "\n",
        "\n",
        "\n",
        "*   #1 リスト(df_list)に入れたデータフレームの平均値および標準偏差を算出する\n",
        "\n",
        "*   #2 平均値の調節（データがある市町村から平均値を算出）\n",
        "\n",
        "*   #3 日付と平均値データフレームをマージする\n",
        "\n",
        "*   #4 #3のデータフレームに標準偏差データをマージする\n",
        "\n",
        "*   #5 データを確認する\n",
        "\n",
        "\n",
        "\n",
        "\n",
        "\n",
        "\n"
      ],
      "metadata": {
        "id": "f7eqoNDfXQIu"
      }
    },
    {
      "cell_type": "code",
      "source": [
        "#1 リスト（df_list）に入れたデータフレームの平均値および標準偏差を算出する。\n",
        "df_m = pd.DataFrame(np.mean([df_list[0], df_list[1], df_list[2], df_list[3], df_list[4], df_list[5], df_list[6], df_list[7]], 0), columns=t_df.columns)\n",
        "df_s = pd.DataFrame(np.std([df_list[0], df_list[1], df_list[2], df_list[3], df_list[4], df_list[5], df_list[6], df_list[7]], 0), columns=t_df.columns)\n",
        "\n",
        "\n",
        "#2 平均の調節\n",
        "df_m['snow'] = df_m['snow'] *8/4\n",
        "df_m['humi'] = df_m['humi'] *8/1\n",
        "\n",
        "#3 日付データと平均値データをマージする\n",
        "all_df = pd.merge(df[['date']], df_m, left_index=True, right_index= True)\n",
        "\n",
        "#4 #3データフレームに標準偏差をマージする\n",
        "pref_df = pd.merge(all_df, df_s[['temp_s', 'prec_s', 'sun_s', 'snow_s', 'humi_s']], left_index=True, right_index= True)\n",
        "\n",
        "#5 データを確認する\n",
        "pref_df.head()"
      ],
      "metadata": {
        "id": "YpF0WnWY34QI"
      },
      "execution_count": null,
      "outputs": []
    },
    {
      "cell_type": "markdown",
      "source": [
        "　1-7. データフレームをcsv形式で保存する\n",
        "\n",
        "市町村データから都道府県データにまとめたものをcsv形式で保存する"
      ],
      "metadata": {
        "id": "t8xUrOGgyGJe"
      }
    },
    {
      "cell_type": "code",
      "source": [
        "pref_df.to_csv('pref_df.csv')"
      ],
      "metadata": {
        "id": "ikdu4Wl05QLw"
      },
      "execution_count": null,
      "outputs": []
    },
    {
      "cell_type": "markdown",
      "source": [
        "**2. 気象データとブロッコリー収穫量データの結合**\n",
        "\n",
        "気象データとブロッコリー収穫量データを結合する。\n",
        "\n"
      ],
      "metadata": {
        "id": "dZwv1czgzD8I"
      }
    },
    {
      "cell_type": "markdown",
      "source": [
        "　2-1. モジュールのインポート\n",
        "\n",
        "\n"
      ],
      "metadata": {
        "id": "cwf-AqK_zgFa"
      }
    },
    {
      "cell_type": "code",
      "source": [
        "mport pandas as pd"
      ],
      "metadata": {
        "id": "YuneBZ3xycY1"
      },
      "execution_count": null,
      "outputs": []
    },
    {
      "cell_type": "markdown",
      "source": [
        "　2-2. 気象データと収穫量データを結合し気象条件ごとにcsv形式で保存\n",
        "\n",
        "\n",
        "\n",
        "*   #1. csvファイルを取り込みデータフレームにする\n",
        "*   #2. ブロッコリー収穫量をカラムに追加する\n",
        "*   #3. 各気象データと日付、収穫量を取り出しcsv形式で保存する\n",
        "*   #4. 取り込んだcsvファイルを上書きする\n",
        "\n",
        "\n",
        "\n"
      ],
      "metadata": {
        "id": "_V6W0fOFIg6M"
      }
    },
    {
      "cell_type": "code",
      "source": [
        "# 収穫量をデータフレームに追加して気象データごとにファイルを分割して保存する\n",
        "\n",
        "#1 csvファイルを取り込みデータフレームにする\n",
        "df = pd.read_csv('/content/pref_df.csv')\n",
        "\n",
        "#2 ブロッコリー収穫量をカラムに追加する\n",
        "df['Broc']= 1410\n",
        "\n",
        "#3 各気象データと日付、収穫量を取り出しcsv形式で保存する\n",
        "# 気温データのデータフレームを作成して、保存\n",
        "Br_temp = df[['date','temp','Broc']]\n",
        "Br_temp.to_csv('tBroc_pref_df.csv', index=False)\n",
        "\n",
        "# 降水量データのデータフレームを作成して、保存\n",
        "Br_prec = df[['date', 'prec', 'Broc']]\n",
        "Br_prec.to_csv('pBroc_pref_df.csv', index=False)\n",
        "\n",
        "# 日照時間データのデータフレームを作成して、保存\n",
        "Br_sun = df[['date', 'sun', 'Broc']]\n",
        "Br_sun.to_csv('sBroc_pref_df.csv', index=False)\n",
        "\n",
        "# 降雪量データのデータフレームを作成して、保存\n",
        "Br_snow = df[['date', 'snow', 'Broc']]\n",
        "Br_snow.to_csv('snBroc_pref_df.csv', index=False)\n",
        "\n",
        "# 湿度データのデータフレームを作成して、保存\n",
        "Br_humi = df[['date', 'humi', 'Broc']]\n",
        "Br_humi.to_csv('hBroc_pref_df.csv', index=False)\n",
        "\n",
        "#4 取り込んだcsvファイルを上書きする\n",
        "# ブロッコリーデータをpref_dfに加えて、保存\n",
        "df.to_csv('pref_df.csv', index=False)"
      ],
      "metadata": {
        "id": "NAlXfmuk4qUZ"
      },
      "execution_count": null,
      "outputs": []
    },
    {
      "cell_type": "markdown",
      "source": [
        "# 2. ブロッコリー収穫量の予測"
      ],
      "metadata": {
        "id": "Dp3HgM_jgRE3"
      }
    },
    {
      "cell_type": "markdown",
      "source": [
        "**1. ブロッコリー収穫量の予測1**\n",
        "\n",
        "生データ数値の気象データを用いてブロッコリーの収穫量を予測する。"
      ],
      "metadata": {
        "id": "WbiKc3DXgvqG"
      }
    },
    {
      "cell_type": "markdown",
      "source": [
        "　1-1. 線形回帰による予測\n",
        "\n",
        "*   #1. モジュールをインポートする\n",
        "\n",
        "*   #2. ファイルを読み込みリスト化する\n",
        "\n",
        "*   #3. csvファイルからデータセットのリストを作る\n",
        "\n",
        "*   #4. 学習データとテストデータを分割する\n",
        "\n",
        "*   #5. 線形回帰モデルで学習する\n",
        "\n",
        "*   #6. モデルを評価する\n"
      ],
      "metadata": {
        "id": "B5sY-8tl1QYj"
      }
    },
    {
      "cell_type": "code",
      "source": [
        "#1 モジュールをインポートする\n",
        "import pandas as pd\n",
        "import numpy as np\n",
        "import glob\n",
        "from sklearn.model_selection import train_test_split\n",
        "from sklearn.linear_model import LinearRegression\n",
        "\n",
        "#2 ファイルを読み込みリスト化する\n",
        "file_list = glob.glob('/content/*.csv')\n",
        "print(file_list) #取り込んだファイルの順序を表示する\n",
        "\n",
        "#3 csvファイルからデータセットのリストを作る\n",
        "# 説明変数リストdata_list、目的変数リストBrocを作成\n",
        "Broc = []\n",
        "data_list = []\n",
        "for file in file_list:\n",
        "  df = pd.read_csv(file)\n",
        "  Broc.append(df['Broc'][0]) # ブロッコリー収穫量をリスト化する目的変数にあたる\n",
        "\n",
        "  df = df[['temp','prec', 'sun', 'snow', 'humi']] # 気象データ5条件を取り出す\n",
        "  data_list.append(df.values.ravel()) # (365, 5)データを一次元配列にして、読み込みファイル分リスト化する説明変数にあたる\n",
        "\n",
        "#4　学習データとテストデータを分割する\n",
        "X_train, X_test, y_train, y_test = train_test_split(data_list, Broc, test_size= 0.3, random_state=0)\n",
        "\n",
        "#5 線形回帰モデルで学習する\n",
        "model = LinearRegression()\n",
        "model.fit(X_train, y_train)\n",
        "\n",
        "#6 モデルを評価する（正解率、予測結果の確認）\n",
        "model.score(X_test,y_test)\n",
        "model.predict(X_test)"
      ],
      "metadata": {
        "id": "fVZOwXXS2HQt"
      },
      "execution_count": null,
      "outputs": []
    },
    {
      "cell_type": "markdown",
      "source": [
        "　1-2. ランダムフォレスト回帰による予測\n",
        "\n",
        "*   #1. モジュールをインポートする\n",
        "\n",
        "*   #2. ファイルを読み込みリスト化する\n",
        "\n",
        "*   #3. csvファイルからデータセットのリストを作る\n",
        "\n",
        "*   #4. 学習データとテストデータを分割する\n",
        "\n",
        "*   #5. ランダムフォレスト回帰モデルで学習する\n",
        "\n",
        "*   #6. モデルを評価する"
      ],
      "metadata": {
        "id": "KyCa_Uqk9EpM"
      }
    },
    {
      "cell_type": "code",
      "source": [
        "#1 モジュールをインポートする\n",
        "import pandas as pd\n",
        "import numpy as np\n",
        "import glob\n",
        "from sklearn.model_selection import train_test_split\n",
        "from sklearn.ensemble import RandomForestRegressor\n",
        "\n",
        "#2 ファイルを読み込みリスト化する\n",
        "file_list = glob.glob('/content/*.csv')\n",
        "print(file_list) #取り込んだファイルの順序を表示する\n",
        "\n",
        "#3 csvファイルからデータセットのリストを作る\n",
        "# 説明変数リストdata_list、目的変数リストBrocを作成\n",
        "Broc = []\n",
        "data_list = []\n",
        "for file in file_list:\n",
        "  df = pd.read_csv(file)\n",
        "  Broc.append(df['Broc'][0]) # ブロッコリー収穫量をリスト化する目的変数にあたる\n",
        "\n",
        "  df = df[['temp','prec', 'sun', 'snow', 'humi']] # 気象データ5条件を取り出す\n",
        "  data_list.append(df.values.ravel()) # (365, 5)データを一次元配列にして、読み込みファイル分リスト化する説明変数にあたる\n",
        "\n",
        "#4　学習データとテストデータを分割する\n",
        "X_train, X_test, y_train, y_test = train_test_split(data_list, Broc, test_size= 0.3, random_state=0)\n",
        "\n",
        "#5 ランダムフォレスト回帰モデルで学習する\n",
        "model = RandomForestRegressor(n_estimators=10, criterion='squared_error', max_depth=None)\n",
        "model.fit(X_train, y_train)\n",
        "\n",
        "#6 モデルを評価する（正解率、予測結果の確認）\n",
        "model.score(X_test,y_test)\n",
        "model.predict(X_test)"
      ],
      "metadata": {
        "id": "Zu3_8nB58JjE"
      },
      "execution_count": null,
      "outputs": []
    },
    {
      "cell_type": "markdown",
      "source": [
        "**2. ブロッコリー収穫量の予測2　説明変数のクラスタリング化**\n",
        "\n",
        "クラスタリングした気象データを用いてブロッコリーの収穫量を予測する。"
      ],
      "metadata": {
        "id": "-mlHIsHupvwA"
      }
    },
    {
      "cell_type": "markdown",
      "source": [
        "　2-1. 気象データのクラスタリング\n",
        "\n",
        "　　　2-1. 各気象条件ごとにファイルを分別する\n",
        "\n",
        "*   #1. モジュールをインポートする\n",
        "*   #2. 都道府県ファイルを読み込む\n",
        "*   #3. 正規表現を使って、気象データごとにファイルを分別する\n"
      ],
      "metadata": {
        "id": "Aqx7wvXsj5w5"
      }
    },
    {
      "cell_type": "code",
      "source": [
        "#1 モジュールをインポートする\n",
        "import re\n",
        "\n",
        "#2 都道府県ファイルを読み込む\n",
        "file_list = glob.glob('/content/*.csv')\n",
        "\n",
        "#3 正規表現を使って、気象データごとにファイルを分別する\n",
        "# 気温データ道府県をリスト化する（ファイル名にtBrocがあるものを集める）\n",
        "file_name_pattern = re.compile(r'.*tBroc.*')\n",
        "file_t =[]\n",
        "for file_name in file_list:\n",
        "  # ファイル名に対する正規表現パターンが一致するか確認\n",
        "  if file_name_pattern.match(file_name):\n",
        "    file_t.append(file_name)\n",
        "  else:\n",
        "    continue\n",
        "\n",
        "# 日照時間データ道府県をリスト化する（ファイル名にsBrocがあるものを集める）\n",
        "file_name_pattern = re.compile(r'.*sBroc.*')\n",
        "file_s =[]\n",
        "for file_name in file_list:\n",
        "  # ファイル名に対する正規表現パターンが一致するか確認\n",
        "  if file_name_pattern.match(file_name):\n",
        "    file_s.append(file_name)\n",
        "  else:\n",
        "    continue\n",
        "\n",
        "# 降水量データ道府県をリスト化する（ファイル名にpBrocがあるものを集める）\n",
        "file_name_pattern = re.compile(r'.*pBroc.*')\n",
        "file_p =[]\n",
        "for file_name in file_list:\n",
        "  # ファイル名に対する正規表現パターンが一致するか確認\n",
        "  if file_name_pattern.match(file_name):\n",
        "    file_p.append(file_name)\n",
        "  else:\n",
        "    continue\n",
        "\n",
        "# 降雪量データ道府県をリスト化する（ファイル名にsnBrocがあるものを集める）\n",
        "file_name_pattern = re.compile(r'.*snBroc.*')\n",
        "file_sn =[]\n",
        "for file_name in file_list:\n",
        "  # ファイル名に対する正規表現パターンが一致するか確認\n",
        "  if file_name_pattern.match(file_name):\n",
        "    file_sn.append(file_name)\n",
        "  else:\n",
        "    continue\n",
        "\n",
        "# 湿度データ道府県をリスト化する（ファイル名にhBrocがあるものを集める）\n",
        "file_name_pattern = re.compile(r'.*hBroc.*')\n",
        "file_h =[]\n",
        "for file_name in file_list:\n",
        "  # ファイル名に対する正規表現パターンが一致するか確認\n",
        "  if file_name_pattern.match(file_name):\n",
        "    file_h.append(file_name)\n",
        "  else:\n",
        "    continue"
      ],
      "metadata": {
        "id": "2fzPEKNxp5Dx"
      },
      "execution_count": null,
      "outputs": []
    },
    {
      "cell_type": "markdown",
      "source": [
        "　　2-2. 各気象条件データをクラスタリングする\n",
        "\n",
        "気象条件ごとに実施する\n",
        "\n",
        "*   #1. モジュールをインポートする（インポート済みの場合は不要）\n",
        "\n",
        "*   #2. 気象条件別ファイルをブロッコリー収穫量と気象データに分ける\n",
        "\n",
        "*   #3. KMeansでクラスタリングする\n",
        "\n",
        "*   #4. 正規表現パターンでファイル名から道府県アルファベットを取り出す\n",
        "\n",
        "*   #5. クラスタリング結果と道府県名を持つデータフレームを作成する\n",
        "\n",
        "*   #6. 全ての気象データとブロッコリー収穫量、都道府県名を結合する\n",
        "\n",
        "\n"
      ],
      "metadata": {
        "id": "7s1s_o1WLbyv"
      }
    },
    {
      "cell_type": "code",
      "source": [
        "#1 モジュールをインポートする\n",
        "import re\n",
        "\n",
        "\n",
        "# 湿度\n",
        "#2 ファイルをブロッコリー収穫量と気象データに分ける\n",
        "Broc = []\n",
        "Humi = []\n",
        "\n",
        "for f in file_h:\n",
        "  df= pd.read_csv(f) # 個別にファイル名を指定\n",
        "\n",
        "  df = df.T #行列を入れ替える\n",
        "\n",
        "  df.columns = df.iloc[0] #日付をカラムにする\n",
        "\n",
        "  df = df.drop(df.index[0]) #日付行を削除する\n",
        "\n",
        "  # リストにデータを追加する\n",
        "  Broc.append(df.loc['Broc'][0]) #BrocリストにBrocの値を追加\n",
        "\n",
        "  Humi.append(df.loc['humi'].values) # HumiリストにHumiの値を追加\n",
        "\n",
        "#3 KMeansでクラスタリングする\n",
        "model = KMeans(n_clusters=4, random_state=0)\n",
        "model.fit(Humi)\n",
        "\n",
        "df_humi = pd.DataFrame(data = Humi)\n",
        "\n",
        "df_humi['クラス'] = model.labels_\n",
        "df_m['humi_c']=df_humi['クラス']\n",
        "\n",
        "\n",
        "#4 正規表現パターンでファイル名から道府県アルファベットを取り出す\n",
        "pattern = re.compile(r'_([A-Z]+)_')\n",
        "pref_list = []\n",
        "for f in file_h:\n",
        "  match = pattern.search(f) # ファイル名から正規表現に一致する部分を検索\n",
        "  if match: # 一致した部分を取り出す\n",
        "    result = match.group(1)\n",
        "    pref_list.append(result)\n",
        "  else:\n",
        "    print('Match not found.')\n",
        "\n",
        "#5 クラスタリング結果と道府県名を持つデータフレームを作成する\n",
        "df_humi['pref'] = pref_list\n",
        "df_humi['humi_c']=df_humi['クラス']\n",
        "\n",
        "# 日照時間\n",
        "\n",
        "# リストにデータを追加する\n",
        "Broc = []\n",
        "Sun = []\n",
        "\n",
        "for f in file_s:\n",
        "  df= pd.read_csv(f) # 個別にファイル名を指定\n",
        "\n",
        "  df = df.T #行列を入れ替える\n",
        "\n",
        "  df.columns = df.iloc[0] #日付をカラムにする\n",
        "\n",
        "  df = df.drop(df.index[0]) #日付行を削除する\n",
        "\n",
        "  # リストにデータを追加する\n",
        "  Broc.append(df.loc['Broc'][0]) #BrocリストにBrocの値を追加\n",
        "\n",
        "  Sun.append(df.loc['sun'].values) # TempリストにTempの値を追加\n",
        "\n",
        "\n",
        "# KMeansでクラスタリング\n",
        "model = KMeans(n_clusters=4, random_state=0)\n",
        "model.fit(Sun)\n",
        "\n",
        "df_sun = pd.DataFrame(data = Sun)\n",
        "\n",
        "df_sun['クラス'] = model.labels_\n",
        "df_m['sun_c']=df_sun['クラス']\n",
        "\n",
        "import re\n",
        "\n",
        "# 正規表現パターン\n",
        "pattern = re.compile(r'_([A-Z]+)_')\n",
        "pref_list = []\n",
        "for f in file_s:\n",
        "  match = pattern.search(f) # ファイル名から正規表現に一致する部分を検索\n",
        "  if match: # 一致した部分を取り出す\n",
        "    result = match.group(1)\n",
        "    pref_list.append(result)\n",
        "  else:\n",
        "    print('Match not found.')\n",
        "\n",
        "df_sun['pref'] = pref_list\n",
        "df_sun['sun_c']=df_prec['クラス']\n",
        "\n",
        "\n",
        "#　降水量\n",
        "\n",
        "# リストにデータを追加する\n",
        "Broc = []\n",
        "Prec = []\n",
        "\n",
        "for f in file_p:\n",
        "  df= pd.read_csv(f) # 個別にファイル名を指定\n",
        "\n",
        "  df = df.T #行列を入れ替える\n",
        "\n",
        "  df.columns = df.iloc[0] #日付をカラムにする\n",
        "\n",
        "  df = df.drop(df.index[0]) #日付行を削除する\n",
        "\n",
        "  # リストにデータを追加する\n",
        "  Broc.append(df.loc['Broc'][0]) #BrocリストにBrocの値を追加\n",
        "\n",
        "  Prec.append(df.loc['prec'].values) # PrecリストにPrecの値を追加\n",
        "\n",
        "#KMeansでクラスタリング　クラスタ4\n",
        "model = KMeans(n_clusters=4, random_state=0)\n",
        "model.fit(Prec)\n",
        "\n",
        "df_prec = pd.DataFrame(data = Prec)\n",
        "\n",
        "df_prec['クラス'] = model.labels_\n",
        "df_m['prec_c']=df_prec['クラス']\n",
        "\n",
        "import re\n",
        "\n",
        "# 正規表現パターン\n",
        "pattern = re.compile(r'_([A-Z]+)_')\n",
        "pref_list = []\n",
        "for f in file_p:\n",
        "  match = pattern.search(f) # ファイル名から正規表現に一致する部分を検索\n",
        "  if match: # 一致した部分を取り出す\n",
        "    result = match.group(1)\n",
        "    pref_list.append(result)\n",
        "  else:\n",
        "    print('Match not found.')\n",
        "\n",
        "df_prec['pref'] = pref_list\n",
        "df_prec['prec_c']=df_prec['クラス']\n",
        "\n",
        "\n",
        "#雪\n",
        "\n",
        "# リストにデータを追加する\n",
        "Broc = []\n",
        "Snow = []\n",
        "\n",
        "for f in file_sn:\n",
        "  df= pd.read_csv(f) # 個別にファイル名を指定\n",
        "\n",
        "  df = df.T #行列を入れ替える\n",
        "\n",
        "  df.columns = df.iloc[0] #日付をカラムにする\n",
        "\n",
        "  df = df.drop(df.index[0]) #日付行を削除する\n",
        "\n",
        "  # リストにデータを追加する\n",
        "  Broc.append(df.loc['Broc'][0]) #BrocリストにBrocの値を追加\n",
        "\n",
        "  Snow.append(df.loc['snow'].values) # TempリストにTempの値を追加\n",
        "\n",
        "\n",
        "#KMeansでクラスタリング クラスタ4\n",
        "model = KMeans(n_clusters=4, random_state=0)\n",
        "model.fit(Snow)\n",
        "\n",
        "df_snow = pd.DataFrame(data = Snow)\n",
        "\n",
        "df_snow['クラス'] = model.labels_\n",
        "df_m['snow_c']=df_snow['クラス']\n",
        "\n",
        "Date = df.columns.tolist()\n",
        "\n",
        "\n",
        "import re\n",
        "\n",
        "# 正規表現パターン\n",
        "pattern = re.compile(r'_([A-Z]+)_')\n",
        "pref_list = []\n",
        "for f in file_sn:\n",
        "  match = pattern.search(f) # ファイル名から正規表現に一致する部分を検索\n",
        "  if match: # 一致した部分を取り出す\n",
        "    result = match.group(1)\n",
        "    pref_list.append(result)\n",
        "  else:\n",
        "    print('Match not found.')\n",
        "\n",
        "df_snow['pref'] = pref_list\n",
        "df_snow['snow_c']=df_snow['クラス']\n",
        "\n",
        "\n",
        "#　気温\n",
        "\n",
        "# リストにデータを追加する\n",
        "Broc = []\n",
        "Temp = []\n",
        "\n",
        "for f in file_t:\n",
        "  df= pd.read_csv(f) # 個別にファイル名を指定\n",
        "\n",
        "  df = df.T #行列を入れ替える\n",
        "\n",
        "  df.columns = df.iloc[0] #日付をカラムにする\n",
        "\n",
        "  df = df.drop(df.index[0]) #日付行を削除する\n",
        "\n",
        "  # リストにデータを追加する\n",
        "  Broc.append(df.loc['Broc'][0]) #BrocリストにBrocの値を追加\n",
        "\n",
        "  Temp.append(df.loc['temp'].values) # TempリストにTempの値を追加\n",
        "\n",
        "#KMeansでクラスタリング\n",
        "model = KMeans(n_clusters=4, random_state=0)\n",
        "model.fit(Temp)\n",
        "\n",
        "df_temp = pd.DataFrame(data = Temp)\n",
        "\n",
        "df_temp['クラス'] = model.labels_\n",
        "df_m['temp_c']=df_temp['クラス']\n",
        "\n",
        "\n",
        "# 正規表現パターン\n",
        "pattern = re.compile(r'_([A-Z]+)_')\n",
        "pref_list = []\n",
        "for f in file_t:\n",
        "  match = pattern.search(f) # ファイル名から正規表現に一致する部分を検索\n",
        "  if match: # 一致した部分を取り出す\n",
        "    result = match.group(1)\n",
        "    pref_list.append(result)\n",
        "  else:\n",
        "    print('Match not found.')\n",
        "\n",
        "df_temp['pref'] = pref_list\n",
        "df_temp['temp_c']=df_temp['クラス']\n",
        "df_temp['Broc'] = Broc\n",
        "\n",
        "\n",
        "\n",
        "#6 全ての気象データとブロッコリー収穫量、都道府県名を結合する\n",
        "result_df = pd.merge(df_temp[['temp_c', 'pref','Broc']],\n",
        "                     df_snow[['snow_c', 'pref']],\n",
        "                     on='pref')\n",
        "\n",
        "result_df = pd.merge(result_df,\n",
        "                     df_humi[['humi_c', 'pref']],\n",
        "                     on='pref')\n",
        "\n",
        "result_df = pd.merge(result_df,\n",
        "                     df_sun[['sun_c', 'pref']],\n",
        "                     on='pref')\n",
        "\n",
        "result_df = pd.merge(result_df,\n",
        "                     df_prec[['prec_c', 'pref']],\n",
        "                     on='pref')\n",
        "\n",
        "\n",
        "result_df\n"
      ],
      "metadata": {
        "id": "fnc2K0Z5ryut"
      },
      "execution_count": null,
      "outputs": []
    },
    {
      "cell_type": "markdown",
      "source": [
        "　2-3. データを説明変数と目的変数に分ける\n",
        "\n",
        "\n",
        "\n"
      ],
      "metadata": {
        "id": "5IC6Vc2QzRp-"
      }
    },
    {
      "cell_type": "code",
      "source": [
        "data = result_df[['temp_c', 'snow_c', 'humi_c', 'sun_c', 'prec_c']]\n",
        "y = result_df['Broc']"
      ],
      "metadata": {
        "id": "kL55hF4zZEVc"
      },
      "execution_count": null,
      "outputs": []
    },
    {
      "cell_type": "markdown",
      "source": [
        "　2-4. 線形回帰による予測\n",
        "\n",
        "\n",
        "*   #1. モジュールをインポートする\n",
        "\n",
        "*   #2. 学習データとテストデータに分割する\n",
        "\n",
        "*   #3. 線形回帰モデルで学習する\n",
        "\n",
        "*   #4. モデルを評価する\n",
        "\n",
        "\n",
        "\n"
      ],
      "metadata": {
        "id": "mWPHYUoNL9mD"
      }
    },
    {
      "cell_type": "code",
      "source": [
        "#1　モジュールをインポートする\n",
        "from sklearn.model_selection import train_test_split\n",
        "from sklearn.linear_model import LinearRegression\n",
        "\n",
        "#2 学習データとテストデータに分割する\n",
        "X_train, X_test, y_train, y_test = train_test_split(data, y, test_size= 0.4, random_state=150)\n",
        "\n",
        "#3 線形回帰モデルで学習する\n",
        "model = LinearRegression()\n",
        "model.fit(X_train, y_train)\n",
        "\n",
        "#4 モデルを評価する\n",
        "model.score(X_test,y_test)\n",
        "model.predict(X_test)"
      ],
      "metadata": {
        "id": "mMCSLgLzZx3y"
      },
      "execution_count": null,
      "outputs": []
    },
    {
      "cell_type": "code",
      "source": [],
      "metadata": {
        "id": "PVxXjRdKnGPp"
      },
      "execution_count": null,
      "outputs": []
    },
    {
      "cell_type": "code",
      "source": [],
      "metadata": {
        "id": "w5Mzwad6zKQK"
      },
      "execution_count": null,
      "outputs": []
    },
    {
      "cell_type": "markdown",
      "source": [
        "　3-1. 解析データの加工"
      ],
      "metadata": {
        "id": "Af3TrJJiyCIo"
      }
    },
    {
      "cell_type": "markdown",
      "source": [
        "　　3-1-1. ブロッコリー収穫量を収穫量に応じてクラス分けする\n",
        "\n",
        "*   #1. pandasをインポートする\n",
        "*   #2. 都道府県データを読み込む\n",
        "*   #3. ブロッコリー収穫量に応じてクラス分けし、カテゴリごとにデータフレームに追加する\n",
        "*   #4. カテゴリの追加を確認する\n",
        "\n"
      ],
      "metadata": {
        "id": "0o0l4I5pVLdc"
      }
    },
    {
      "cell_type": "code",
      "source": [
        "#1 pandasをインポートする\n",
        "import pandas as pd\n",
        "\n",
        "#2 都道府県データを読み込む\n",
        "df = pd.read_csv('/content/YMN_df.csv')\n",
        "\n",
        "#3 ブロッコリー収穫量に応じてクラス分けし、以下の条件でカテゴリごとにデータフレームに追加する\n",
        "# カテゴリclass_2 収穫量1010kg/10a全国平均より多い(=0)、少ない(=1)\n",
        "if df['Broc'][0] > 1010:\n",
        "  df['Broc_class2'] = 0\n",
        "else:\n",
        "  df['Broc_class2'] = 1\n",
        "\n",
        "# カテゴリclass_6 収穫量に応じで6段階のクラス　0多い→5少ない\n",
        "if df['Broc'][0] > 1400:\n",
        "  df['Broc_class6'] = 0\n",
        "elif 1400 >= df['Broc'][0] > 1200:\n",
        "  df['Broc_class6'] = 1\n",
        "elif 1200 >= df['Broc'][0] > 1010:\n",
        "  df['Broc_class6'] = 2\n",
        "elif 1010 >= df['Broc'][0] > 800:\n",
        "  df['Broc_class6'] = 3\n",
        "elif 800 >= df['Broc'][0] > 600:\n",
        "  df['Broc_class6'] = 4\n",
        "else:\n",
        "  df['Broc_class6'] = 5\n",
        "\n",
        "# カテゴリclass_4 収穫量に応じて4段階のクラス 0多い 3少ない\n",
        "if df['Broc'][0] > 1300:\n",
        "  df['Broc_class4'] = 0\n",
        "elif 1300 >= df['Broc'][0] > 1010:\n",
        "  df['Broc_class4'] = 1\n",
        "elif 1010 >= df['Broc'][0] > 700:\n",
        "  df['Broc_class4'] = 2\n",
        "else:\n",
        "  df['Broc_class4'] = 3\n",
        "\n",
        "#4 カテゴリの追加についてデータフレームを確認\n",
        "df.head()"
      ],
      "metadata": {
        "colab": {
          "base_uri": "https://localhost:8080/",
          "height": 206
        },
        "id": "vX958_cbTMpd",
        "outputId": "2880a6ba-d648-4852-b083-f5a916f578a9"
      },
      "execution_count": null,
      "outputs": [
        {
          "output_type": "execute_result",
          "data": {
            "text/plain": [
              "       date    temp  prec     sun  snow       humi    temp_s  prec_s  \\\n",
              "0  2022/1/1 -0.9750   0.0  8.5875   0.0  38.666667  1.881987     0.0   \n",
              "1  2022/1/2 -1.1250   0.0  7.8750   0.0  59.333333  1.330179     0.0   \n",
              "2  2022/1/3  1.2250   0.0  8.5625   0.0  65.000000  1.046124     0.0   \n",
              "3  2022/1/4  2.0750   0.0  8.2250   0.0  52.666667  1.314106     0.0   \n",
              "4  2022/1/5  0.1125   0.0  8.5750   0.0  36.333333  2.123345     0.0   \n",
              "\n",
              "      sun_s  snow_s     humi_s  Broc  Broc_class2  Broc_class6  Broc_class4  \n",
              "0  0.590418     0.0  19.595918   981            1            3            2  \n",
              "1  0.465698     0.0  28.873647   981            1            3            2  \n",
              "2  0.624375     0.0  31.768449   981            1            3            2  \n",
              "3  0.672216     0.0  25.655165   981            1            3            2  \n",
              "4  0.619980     0.0  17.656001   981            1            3            2  "
            ],
            "text/html": [
              "\n",
              "  <div id=\"df-90ba17fa-ea06-42e0-8ce8-b0025622e07e\" class=\"colab-df-container\">\n",
              "    <div>\n",
              "<style scoped>\n",
              "    .dataframe tbody tr th:only-of-type {\n",
              "        vertical-align: middle;\n",
              "    }\n",
              "\n",
              "    .dataframe tbody tr th {\n",
              "        vertical-align: top;\n",
              "    }\n",
              "\n",
              "    .dataframe thead th {\n",
              "        text-align: right;\n",
              "    }\n",
              "</style>\n",
              "<table border=\"1\" class=\"dataframe\">\n",
              "  <thead>\n",
              "    <tr style=\"text-align: right;\">\n",
              "      <th></th>\n",
              "      <th>date</th>\n",
              "      <th>temp</th>\n",
              "      <th>prec</th>\n",
              "      <th>sun</th>\n",
              "      <th>snow</th>\n",
              "      <th>humi</th>\n",
              "      <th>temp_s</th>\n",
              "      <th>prec_s</th>\n",
              "      <th>sun_s</th>\n",
              "      <th>snow_s</th>\n",
              "      <th>humi_s</th>\n",
              "      <th>Broc</th>\n",
              "      <th>Broc_class2</th>\n",
              "      <th>Broc_class6</th>\n",
              "      <th>Broc_class4</th>\n",
              "    </tr>\n",
              "  </thead>\n",
              "  <tbody>\n",
              "    <tr>\n",
              "      <th>0</th>\n",
              "      <td>2022/1/1</td>\n",
              "      <td>-0.9750</td>\n",
              "      <td>0.0</td>\n",
              "      <td>8.5875</td>\n",
              "      <td>0.0</td>\n",
              "      <td>38.666667</td>\n",
              "      <td>1.881987</td>\n",
              "      <td>0.0</td>\n",
              "      <td>0.590418</td>\n",
              "      <td>0.0</td>\n",
              "      <td>19.595918</td>\n",
              "      <td>981</td>\n",
              "      <td>1</td>\n",
              "      <td>3</td>\n",
              "      <td>2</td>\n",
              "    </tr>\n",
              "    <tr>\n",
              "      <th>1</th>\n",
              "      <td>2022/1/2</td>\n",
              "      <td>-1.1250</td>\n",
              "      <td>0.0</td>\n",
              "      <td>7.8750</td>\n",
              "      <td>0.0</td>\n",
              "      <td>59.333333</td>\n",
              "      <td>1.330179</td>\n",
              "      <td>0.0</td>\n",
              "      <td>0.465698</td>\n",
              "      <td>0.0</td>\n",
              "      <td>28.873647</td>\n",
              "      <td>981</td>\n",
              "      <td>1</td>\n",
              "      <td>3</td>\n",
              "      <td>2</td>\n",
              "    </tr>\n",
              "    <tr>\n",
              "      <th>2</th>\n",
              "      <td>2022/1/3</td>\n",
              "      <td>1.2250</td>\n",
              "      <td>0.0</td>\n",
              "      <td>8.5625</td>\n",
              "      <td>0.0</td>\n",
              "      <td>65.000000</td>\n",
              "      <td>1.046124</td>\n",
              "      <td>0.0</td>\n",
              "      <td>0.624375</td>\n",
              "      <td>0.0</td>\n",
              "      <td>31.768449</td>\n",
              "      <td>981</td>\n",
              "      <td>1</td>\n",
              "      <td>3</td>\n",
              "      <td>2</td>\n",
              "    </tr>\n",
              "    <tr>\n",
              "      <th>3</th>\n",
              "      <td>2022/1/4</td>\n",
              "      <td>2.0750</td>\n",
              "      <td>0.0</td>\n",
              "      <td>8.2250</td>\n",
              "      <td>0.0</td>\n",
              "      <td>52.666667</td>\n",
              "      <td>1.314106</td>\n",
              "      <td>0.0</td>\n",
              "      <td>0.672216</td>\n",
              "      <td>0.0</td>\n",
              "      <td>25.655165</td>\n",
              "      <td>981</td>\n",
              "      <td>1</td>\n",
              "      <td>3</td>\n",
              "      <td>2</td>\n",
              "    </tr>\n",
              "    <tr>\n",
              "      <th>4</th>\n",
              "      <td>2022/1/5</td>\n",
              "      <td>0.1125</td>\n",
              "      <td>0.0</td>\n",
              "      <td>8.5750</td>\n",
              "      <td>0.0</td>\n",
              "      <td>36.333333</td>\n",
              "      <td>2.123345</td>\n",
              "      <td>0.0</td>\n",
              "      <td>0.619980</td>\n",
              "      <td>0.0</td>\n",
              "      <td>17.656001</td>\n",
              "      <td>981</td>\n",
              "      <td>1</td>\n",
              "      <td>3</td>\n",
              "      <td>2</td>\n",
              "    </tr>\n",
              "  </tbody>\n",
              "</table>\n",
              "</div>\n",
              "    <div class=\"colab-df-buttons\">\n",
              "\n",
              "  <div class=\"colab-df-container\">\n",
              "    <button class=\"colab-df-convert\" onclick=\"convertToInteractive('df-90ba17fa-ea06-42e0-8ce8-b0025622e07e')\"\n",
              "            title=\"Convert this dataframe to an interactive table.\"\n",
              "            style=\"display:none;\">\n",
              "\n",
              "  <svg xmlns=\"http://www.w3.org/2000/svg\" height=\"24px\" viewBox=\"0 -960 960 960\">\n",
              "    <path d=\"M120-120v-720h720v720H120Zm60-500h600v-160H180v160Zm220 220h160v-160H400v160Zm0 220h160v-160H400v160ZM180-400h160v-160H180v160Zm440 0h160v-160H620v160ZM180-180h160v-160H180v160Zm440 0h160v-160H620v160Z\"/>\n",
              "  </svg>\n",
              "    </button>\n",
              "\n",
              "  <style>\n",
              "    .colab-df-container {\n",
              "      display:flex;\n",
              "      gap: 12px;\n",
              "    }\n",
              "\n",
              "    .colab-df-convert {\n",
              "      background-color: #E8F0FE;\n",
              "      border: none;\n",
              "      border-radius: 50%;\n",
              "      cursor: pointer;\n",
              "      display: none;\n",
              "      fill: #1967D2;\n",
              "      height: 32px;\n",
              "      padding: 0 0 0 0;\n",
              "      width: 32px;\n",
              "    }\n",
              "\n",
              "    .colab-df-convert:hover {\n",
              "      background-color: #E2EBFA;\n",
              "      box-shadow: 0px 1px 2px rgba(60, 64, 67, 0.3), 0px 1px 3px 1px rgba(60, 64, 67, 0.15);\n",
              "      fill: #174EA6;\n",
              "    }\n",
              "\n",
              "    .colab-df-buttons div {\n",
              "      margin-bottom: 4px;\n",
              "    }\n",
              "\n",
              "    [theme=dark] .colab-df-convert {\n",
              "      background-color: #3B4455;\n",
              "      fill: #D2E3FC;\n",
              "    }\n",
              "\n",
              "    [theme=dark] .colab-df-convert:hover {\n",
              "      background-color: #434B5C;\n",
              "      box-shadow: 0px 1px 3px 1px rgba(0, 0, 0, 0.15);\n",
              "      filter: drop-shadow(0px 1px 2px rgba(0, 0, 0, 0.3));\n",
              "      fill: #FFFFFF;\n",
              "    }\n",
              "  </style>\n",
              "\n",
              "    <script>\n",
              "      const buttonEl =\n",
              "        document.querySelector('#df-90ba17fa-ea06-42e0-8ce8-b0025622e07e button.colab-df-convert');\n",
              "      buttonEl.style.display =\n",
              "        google.colab.kernel.accessAllowed ? 'block' : 'none';\n",
              "\n",
              "      async function convertToInteractive(key) {\n",
              "        const element = document.querySelector('#df-90ba17fa-ea06-42e0-8ce8-b0025622e07e');\n",
              "        const dataTable =\n",
              "          await google.colab.kernel.invokeFunction('convertToInteractive',\n",
              "                                                    [key], {});\n",
              "        if (!dataTable) return;\n",
              "\n",
              "        const docLinkHtml = 'Like what you see? Visit the ' +\n",
              "          '<a target=\"_blank\" href=https://colab.research.google.com/notebooks/data_table.ipynb>data table notebook</a>'\n",
              "          + ' to learn more about interactive tables.';\n",
              "        element.innerHTML = '';\n",
              "        dataTable['output_type'] = 'display_data';\n",
              "        await google.colab.output.renderOutput(dataTable, element);\n",
              "        const docLink = document.createElement('div');\n",
              "        docLink.innerHTML = docLinkHtml;\n",
              "        element.appendChild(docLink);\n",
              "      }\n",
              "    </script>\n",
              "  </div>\n",
              "\n",
              "\n",
              "<div id=\"df-1518015a-e0e1-41fe-a8b8-1086ea278912\">\n",
              "  <button class=\"colab-df-quickchart\" onclick=\"quickchart('df-1518015a-e0e1-41fe-a8b8-1086ea278912')\"\n",
              "            title=\"Suggest charts\"\n",
              "            style=\"display:none;\">\n",
              "\n",
              "<svg xmlns=\"http://www.w3.org/2000/svg\" height=\"24px\"viewBox=\"0 0 24 24\"\n",
              "     width=\"24px\">\n",
              "    <g>\n",
              "        <path d=\"M19 3H5c-1.1 0-2 .9-2 2v14c0 1.1.9 2 2 2h14c1.1 0 2-.9 2-2V5c0-1.1-.9-2-2-2zM9 17H7v-7h2v7zm4 0h-2V7h2v10zm4 0h-2v-4h2v4z\"/>\n",
              "    </g>\n",
              "</svg>\n",
              "  </button>\n",
              "\n",
              "<style>\n",
              "  .colab-df-quickchart {\n",
              "      --bg-color: #E8F0FE;\n",
              "      --fill-color: #1967D2;\n",
              "      --hover-bg-color: #E2EBFA;\n",
              "      --hover-fill-color: #174EA6;\n",
              "      --disabled-fill-color: #AAA;\n",
              "      --disabled-bg-color: #DDD;\n",
              "  }\n",
              "\n",
              "  [theme=dark] .colab-df-quickchart {\n",
              "      --bg-color: #3B4455;\n",
              "      --fill-color: #D2E3FC;\n",
              "      --hover-bg-color: #434B5C;\n",
              "      --hover-fill-color: #FFFFFF;\n",
              "      --disabled-bg-color: #3B4455;\n",
              "      --disabled-fill-color: #666;\n",
              "  }\n",
              "\n",
              "  .colab-df-quickchart {\n",
              "    background-color: var(--bg-color);\n",
              "    border: none;\n",
              "    border-radius: 50%;\n",
              "    cursor: pointer;\n",
              "    display: none;\n",
              "    fill: var(--fill-color);\n",
              "    height: 32px;\n",
              "    padding: 0;\n",
              "    width: 32px;\n",
              "  }\n",
              "\n",
              "  .colab-df-quickchart:hover {\n",
              "    background-color: var(--hover-bg-color);\n",
              "    box-shadow: 0 1px 2px rgba(60, 64, 67, 0.3), 0 1px 3px 1px rgba(60, 64, 67, 0.15);\n",
              "    fill: var(--button-hover-fill-color);\n",
              "  }\n",
              "\n",
              "  .colab-df-quickchart-complete:disabled,\n",
              "  .colab-df-quickchart-complete:disabled:hover {\n",
              "    background-color: var(--disabled-bg-color);\n",
              "    fill: var(--disabled-fill-color);\n",
              "    box-shadow: none;\n",
              "  }\n",
              "\n",
              "  .colab-df-spinner {\n",
              "    border: 2px solid var(--fill-color);\n",
              "    border-color: transparent;\n",
              "    border-bottom-color: var(--fill-color);\n",
              "    animation:\n",
              "      spin 1s steps(1) infinite;\n",
              "  }\n",
              "\n",
              "  @keyframes spin {\n",
              "    0% {\n",
              "      border-color: transparent;\n",
              "      border-bottom-color: var(--fill-color);\n",
              "      border-left-color: var(--fill-color);\n",
              "    }\n",
              "    20% {\n",
              "      border-color: transparent;\n",
              "      border-left-color: var(--fill-color);\n",
              "      border-top-color: var(--fill-color);\n",
              "    }\n",
              "    30% {\n",
              "      border-color: transparent;\n",
              "      border-left-color: var(--fill-color);\n",
              "      border-top-color: var(--fill-color);\n",
              "      border-right-color: var(--fill-color);\n",
              "    }\n",
              "    40% {\n",
              "      border-color: transparent;\n",
              "      border-right-color: var(--fill-color);\n",
              "      border-top-color: var(--fill-color);\n",
              "    }\n",
              "    60% {\n",
              "      border-color: transparent;\n",
              "      border-right-color: var(--fill-color);\n",
              "    }\n",
              "    80% {\n",
              "      border-color: transparent;\n",
              "      border-right-color: var(--fill-color);\n",
              "      border-bottom-color: var(--fill-color);\n",
              "    }\n",
              "    90% {\n",
              "      border-color: transparent;\n",
              "      border-bottom-color: var(--fill-color);\n",
              "    }\n",
              "  }\n",
              "</style>\n",
              "\n",
              "  <script>\n",
              "    async function quickchart(key) {\n",
              "      const quickchartButtonEl =\n",
              "        document.querySelector('#' + key + ' button');\n",
              "      quickchartButtonEl.disabled = true;  // To prevent multiple clicks.\n",
              "      quickchartButtonEl.classList.add('colab-df-spinner');\n",
              "      try {\n",
              "        const charts = await google.colab.kernel.invokeFunction(\n",
              "            'suggestCharts', [key], {});\n",
              "      } catch (error) {\n",
              "        console.error('Error during call to suggestCharts:', error);\n",
              "      }\n",
              "      quickchartButtonEl.classList.remove('colab-df-spinner');\n",
              "      quickchartButtonEl.classList.add('colab-df-quickchart-complete');\n",
              "    }\n",
              "    (() => {\n",
              "      let quickchartButtonEl =\n",
              "        document.querySelector('#df-1518015a-e0e1-41fe-a8b8-1086ea278912 button');\n",
              "      quickchartButtonEl.style.display =\n",
              "        google.colab.kernel.accessAllowed ? 'block' : 'none';\n",
              "    })();\n",
              "  </script>\n",
              "</div>\n",
              "\n",
              "    </div>\n",
              "  </div>\n"
            ]
          },
          "metadata": {},
          "execution_count": 11
        }
      ]
    },
    {
      "cell_type": "markdown",
      "source": [
        "　　3-1-2. データファイルに上書きする"
      ],
      "metadata": {
        "id": "zYNcWxR1IfXM"
      }
    },
    {
      "cell_type": "code",
      "source": [
        "df.to_csv('YMN_df.csv')"
      ],
      "metadata": {
        "id": "W3S6UkLHT7mt"
      },
      "execution_count": null,
      "outputs": []
    },
    {
      "cell_type": "markdown",
      "source": [
        "　3-2. 機械学習で目的変数を予測する\n",
        "\n",
        "　　3-2-1. モジュールをインポートし、ランダムを定義する"
      ],
      "metadata": {
        "id": "afVY-LiNJgdo"
      }
    },
    {
      "cell_type": "code",
      "source": [
        "import pandas as pd\n",
        "import numpy as np\n",
        "import glob\n",
        "from sklearn.metrics import mean_squared_error\n",
        "# 任意の整数をランダムシードとして設定\n",
        "random_seed = 0\n",
        "\n",
        "# NumPyのrandomモジュールにランダムシードを設定\n",
        "np.random.seed(random_seed)"
      ],
      "metadata": {
        "id": "bFtF-ZjTzK6O"
      },
      "execution_count": null,
      "outputs": []
    },
    {
      "cell_type": "markdown",
      "source": [
        "　　3-2-2. 解析する都道府県データを収穫量カテゴリ別に分ける\n",
        "*   #1. ファイルを読み込む\n",
        "*   #2. ファイルデータをリスト化する\n",
        "*   #3. 気象データを抽出しリスト化する"
      ],
      "metadata": {
        "id": "sHWHEI4JJ2X7"
      }
    },
    {
      "cell_type": "code",
      "source": [
        "#1 ファイルを読み込む\n",
        "file_list = glob.glob('/content/*.csv')\n",
        "print(file_list)\n",
        "\n",
        "#2 ファイルデータをリスト化する\n",
        "Broc = []\n",
        "Broc_class2 = []\n",
        "Broc_class4 = []\n",
        "Broc_class6 = []\n",
        "data_list = []\n",
        "df_list = []\n",
        "for file in file_list:\n",
        "  df = pd.read_csv(file)\n",
        "  Broc.append(df['Broc'][0])\n",
        "  Broc_class2.append(df['Broc_class2'][0])\n",
        "  Broc_class4.append(df['Broc_class4'][0])\n",
        "  Broc_class6.append(df['Broc_class6'][0])\n",
        "\n",
        "#3 気象データを抽出しリスト化する\n",
        "#  df = df[['temp','prec', 'sun', 'snow', 'humi']] #全ての気象データを分析データに用いる\n",
        "  df_cond = df[['temp','snow']] #気象データのうち気温と降雪量を抽出し分析データに用いる\n",
        "  data_list.append(df_cond.values.ravel())"
      ],
      "metadata": {
        "colab": {
          "base_uri": "https://localhost:8080/"
        },
        "outputId": "fa90320f-4547-4490-d5c0-47ccc726f446",
        "id": "nsAZcFxnzK6P"
      },
      "execution_count": null,
      "outputs": [
        {
          "output_type": "stream",
          "name": "stdout",
          "text": [
            "['/content/IWT_df.csv', '/content/SAG_df.csv', '/content/YGT_df.csv', '/content/TCG_df.csv', '/content/HYG_df.csv', '/content/NGN_df.csv', '/content/OKY_df.csv', '/content/AIC_df.csv', '/content/WKY_df.csv', '/content/SIG_df.csv', '/content/TTR_df.csv', '/content/SZO_df.csv', '/content/GNM_df.csv', '/content/IBR_df.csv', '/content/FKO_df.csv', '/content/FKI_df.csv', '/content/KNG_df.csv', '/content/ISK_df.csv', '/content/SMN_df.csv', '/content/YMN_df.csv', '/content/KUC_df.csv', '/content/AOM_df.csv', '/content/OIT_df.csv', '/content/HKD_df.csv', '/content/AKT_df.csv', '/content/GIF_df.csv', '/content/NAR_df.csv', '/content/KGW_df.csv', '/content/KMM_df.csv', '/content/NGT_df.csv', '/content/TYM_df.csv', '/content/FKS_df.csv', '/content/OKN_df.csv', '/content/MYZ_df.csv', '/content/MYG_df.csv', '/content/CHB_df.csv', '/content/NGS_df.csv', '/content/SIT_df.csv', '/content/OSK_df.csv', '/content/TKS_df.csv', '/content/YGC_df.csv', '/content/KYT_df.csv']\n"
          ]
        }
      ]
    },
    {
      "cell_type": "markdown",
      "source": [
        "　　3-2-3. ランダムフォレストで予測する\n",
        "*   #1. train_test_splitとRandomForestClassifierをインポートする\n",
        "*   #2. 説明変数と目的変数を定義する\n",
        "*   #3. 気象データを分割する　目的変数y4の場合\n",
        "*   #4. ランダムフォレストで分類する\n",
        "*   #5. モデルを評価する"
      ],
      "metadata": {
        "id": "_jUII2WJs0wy"
      }
    },
    {
      "cell_type": "code",
      "source": [
        "#1 train_test_splitとRandomForestClassifierをインポートする\n",
        "from sklearn.model_selection import train_test_split\n",
        "from sklearn.ensemble import RandomForestClassifier\n",
        "\n",
        "#2 説明変数と目的変数を定義する\n",
        "X = data_list #説明変数=気象データ\n",
        "#目的変数カテゴリ=ブロッコリー収穫量\n",
        "y2 = Broc_class2\n",
        "y4 = Broc_class4 #ほどよく精度が保たれる\n",
        "y6 = Broc_class6\n",
        "\n",
        "#3 気象データを分割する目的変数y4の場合\n",
        "X_train, X_test, y_train, y_test = train_test_split(X, y4, test_size= 0.3, random_state=random_seed)\n",
        "\n",
        "#4 ランダムフォレストで分類する\n",
        "model = RandomForestClassifier(random_state= random_seed)\n",
        "model.fit(X_train, y_train)\n",
        "\n",
        "#5 モデルを評価する\n",
        "model.score(X_test,y_test)"
      ],
      "metadata": {
        "colab": {
          "base_uri": "https://localhost:8080/"
        },
        "outputId": "4228cbc5-860d-4adc-81a0-954b104165c4",
        "id": "tLFb37SXND5d"
      },
      "execution_count": null,
      "outputs": [
        {
          "output_type": "execute_result",
          "data": {
            "text/plain": [
              "0.6153846153846154"
            ]
          },
          "metadata": {},
          "execution_count": 96
        }
      ]
    },
    {
      "cell_type": "markdown",
      "source": [
        "　　3-2-4. グリッドサーチで最適化する\n",
        "\n",
        "*   #1. グリッドサーチCVをインポートする\n",
        "\n",
        "*   #2. グリッドサーチCVで検討するパラメータを設定\n",
        "\n",
        "*   #3. グリッドサーチCVで最適なパラメータを検索\n",
        "\n",
        "*   #4. ベストなパラメータとベストなモデルの変数を定義\n",
        "\n",
        "*   #5. ベストなモデルで評価する\n",
        "\n",
        "\n"
      ],
      "metadata": {
        "id": "ysQjp4oss9ba"
      }
    },
    {
      "cell_type": "code",
      "source": [
        "#1 グリッドサーチCVをインポートする\n",
        "from sklearn.model_selection import GridSearchCV\n",
        "\n",
        "#2 グリッドサーチCVで検討するパラメータを設定\n",
        "param_grid = {\n",
        "    'n_estimators': [40, 50, 100, 200],\n",
        "    'max_depth': [None, 10, 20],\n",
        "    'min_samples_split': [2, 5, 10],\n",
        "    'min_samples_leaf': [1, 2, 4]\n",
        "}\n",
        "\n",
        "#3 グリッドサーチCVで最適なパラメータを検索\n",
        "grid_search = GridSearchCV(RandomForestClassifier(random_state=random_seed), param_grid, cv=2)\n",
        "grid_search.fit(X_train, y_train)\n",
        "\n",
        "#4 ベストなパラメータとベストなモデルの変数を定義\n",
        "best_params = grid_search.best_params_\n",
        "best_model = grid_search.best_estimator_\n",
        "\n",
        "#5 ベストなモデルで評価\n",
        "score = best_model.score(X_test, y_test)\n",
        "print(score)"
      ],
      "metadata": {
        "colab": {
          "base_uri": "https://localhost:8080/"
        },
        "outputId": "5e0776da-902d-4a9f-a0e6-632744240f60",
        "id": "UAjgEaLKND5d"
      },
      "execution_count": null,
      "outputs": [
        {
          "output_type": "stream",
          "name": "stdout",
          "text": [
            "0.7692307692307693\n"
          ]
        }
      ]
    },
    {
      "cell_type": "markdown",
      "source": [
        "#3. ディープラーニングによるブロッコリーの収穫量の予測\n"
      ],
      "metadata": {
        "id": "Hhx_tR6VtIeY"
      }
    },
    {
      "cell_type": "markdown",
      "source": [
        "**1. 数値気象データを用いた予測**\n",
        "\n",
        "生データ数値の気象データを用いてブロッコリーの収穫量を予測する。"
      ],
      "metadata": {
        "id": "piwQ07_GnjzO"
      }
    },
    {
      "cell_type": "markdown",
      "source": [
        "　1-1. データ前処理に必要なライブラリのインポート"
      ],
      "metadata": {
        "id": "LttZSPlbt_Ik"
      }
    },
    {
      "cell_type": "code",
      "source": [
        "import pandas as pd\n",
        "import numpy as np\n",
        "import glob"
      ],
      "metadata": {
        "id": "PN2_VXnBtUhe"
      },
      "execution_count": null,
      "outputs": []
    },
    {
      "cell_type": "markdown",
      "source": [
        "　1-2. ファイルの読み込みと使用データの抽出"
      ],
      "metadata": {
        "id": "2hTt8JNGuFoR"
      }
    },
    {
      "cell_type": "code",
      "source": [
        "#ファイルを読み込む\n",
        "file_list = glob.glob('/content/*.csv')\n",
        "print(file_list)\n",
        "Broc = []\n",
        "data_list = []\n",
        "df_list = []\n",
        "for file in file_list:\n",
        "  df = pd.read_csv(file)\n",
        "  Broc.append(df['Broc'][0]) #各都道府県のデータフレームからブロッコリー収穫量データを抽出リスト化\n",
        "\n",
        "  df = df[['temp','prec', 'sun', 'snow', 'humi']]# 各都道府県のデータフレームから使用する気象データを抽出\n",
        "\n",
        "  df_list.append(df.values) # 抽出気象データフレームをndarrayに変換してリスト化 >ディープラーニング用"
      ],
      "metadata": {
        "colab": {
          "base_uri": "https://localhost:8080/"
        },
        "outputId": "502a7e73-7a61-49bf-dc3e-ed7d389d8111",
        "id": "1__XP5uwtUhp"
      },
      "execution_count": null,
      "outputs": [
        {
          "output_type": "stream",
          "name": "stdout",
          "text": [
            "['/content/FKO_df.csv', '/content/GIF_df.csv', '/content/OSK_df.csv', '/content/AIC_df.csv', '/content/MYZ_df.csv', '/content/KUC_df.csv', '/content/GNM_df.csv', '/content/FKI_df.csv', '/content/KGW_df.csv', '/content/OKN_df.csv', '/content/KMM_df.csv', '/content/CHB_df.csv', '/content/HKD_df.csv', '/content/KYT_df.csv', '/content/SZO_df.csv', '/content/KNG_df.csv', '/content/AOM_df.csv', '/content/YGT_df.csv', '/content/YGC_df.csv', '/content/TTR_df.csv', '/content/NGS_df.csv', '/content/AKT_df.csv', '/content/ISK_df.csv', '/content/YMN_df.csv', '/content/TCG_df.csv', '/content/IWT_df.csv', '/content/HYG_df.csv', '/content/TKS_df.csv', '/content/MYG_df.csv', '/content/NAR_df.csv', '/content/TYM_df.csv', '/content/WKY_df.csv', '/content/NGN_df.csv', '/content/OIT_df.csv', '/content/SAG_df.csv', '/content/SIT_df.csv', '/content/SIG_df.csv', '/content/OKY_df.csv', '/content/SMN_df.csv', '/content/FKS_df.csv', '/content/NGT_df.csv', '/content/IBR_df.csv']\n"
          ]
        }
      ]
    },
    {
      "cell_type": "markdown",
      "source": [
        "　1-3. データを分割し、学習データリストとテストデータリストのndarray型への変換"
      ],
      "metadata": {
        "id": "n5o3SbAOwA9v"
      }
    },
    {
      "cell_type": "code",
      "source": [
        "# 学習データとテストデータを分割する\n",
        "from sklearn.model_selection import train_test_split\n",
        "\n",
        "X_train, X_test, y_train, y_test = train_test_split(df_list, Broc, test_size= 0.3, random_state=0)\n",
        "\n",
        "# X_trainとy_trainをNumPy配列に変換\n",
        "X_train_np = np.array(X_train)\n",
        "y_train_np = np.array(y_train)\n",
        "\n",
        "# X_testとy_testをNumPy配列に変換\n",
        "X_test_np = np.array(X_test)\n",
        "y_test_np = np.array(y_test)\n",
        "\n",
        "# データの形状を確認 (必要に応じて)\n",
        "print(X_train_np.shape)  # この出力が (サンプル数, 365, 5) になることを確認\n",
        "print(y_train_np.shape)  # この出力が (サンプル数,) または (サンプル数, 1) になることを確認\n"
      ],
      "metadata": {
        "colab": {
          "base_uri": "https://localhost:8080/"
        },
        "id": "b0SOGLwNvRi1",
        "outputId": "6d7a963b-7805-4d98-9cfa-4b045891aa16"
      },
      "execution_count": null,
      "outputs": [
        {
          "output_type": "stream",
          "name": "stdout",
          "text": [
            "(29, 365, 5)\n",
            "(29,)\n"
          ]
        }
      ]
    },
    {
      "cell_type": "markdown",
      "source": [
        "　1-4.　ディープラーニングに必要なライブラリをインポート"
      ],
      "metadata": {
        "id": "nMusBevVxG04"
      }
    },
    {
      "cell_type": "code",
      "source": [
        "from tensorflow.keras.models import Sequential\n",
        "from tensorflow.keras.layers import Flatten, Dense\n",
        "from tensorflow.keras.layers import Flatten, Dense, BatchNormalization\n"
      ],
      "metadata": {
        "id": "-tr6fvJUwTzt"
      },
      "execution_count": null,
      "outputs": []
    },
    {
      "cell_type": "markdown",
      "source": [
        "　1-5. モデルの設定"
      ],
      "metadata": {
        "id": "BKK9CgFExZl1"
      }
    },
    {
      "cell_type": "code",
      "source": [
        "model = Sequential()\n",
        "model.add(Flatten(input_shape=(365, 5)))\n",
        "model.add(Dense(128, activation='relu'))\n",
        "#model.add(BatchNormalization())  # Batch Normalization層の追加\n",
        "model.add(Dense(1, activation='linear'))\n",
        "\n",
        "# モデルの概要\n",
        "model.summary()"
      ],
      "metadata": {
        "colab": {
          "base_uri": "https://localhost:8080/"
        },
        "id": "E8xglrO_xM45",
        "outputId": "3f9875f0-89cb-4243-f463-d4dfaba490ec"
      },
      "execution_count": null,
      "outputs": [
        {
          "output_type": "stream",
          "name": "stdout",
          "text": [
            "Model: \"sequential\"\n",
            "_________________________________________________________________\n",
            " Layer (type)                Output Shape              Param #   \n",
            "=================================================================\n",
            " flatten (Flatten)           (None, 1825)              0         \n",
            "                                                                 \n",
            " dense (Dense)               (None, 128)               233728    \n",
            "                                                                 \n",
            " dense_1 (Dense)             (None, 1)                 129       \n",
            "                                                                 \n",
            "=================================================================\n",
            "Total params: 233857 (913.50 KB)\n",
            "Trainable params: 233857 (913.50 KB)\n",
            "Non-trainable params: 0 (0.00 Byte)\n",
            "_________________________________________________________________\n"
          ]
        }
      ]
    },
    {
      "cell_type": "markdown",
      "source": [
        "　1-6. モデルのトレーニング"
      ],
      "metadata": {
        "id": "D6WH1S9HyAe0"
      }
    },
    {
      "cell_type": "code",
      "source": [
        "# モデルのトレーニング設定\n",
        "from tensorflow.keras.optimizers import Adam\n",
        "optimizer = Adam(learning_rate=0.00001)  # 学習率を0.001に減少\n",
        "model.compile(optimizer=optimizer, loss='mean_squared_error')\n",
        "\n",
        "# モデルのトレーニング\n",
        "model.fit(X_train_np, y_train_np, batch_size=10, epochs=50)"
      ],
      "metadata": {
        "id": "wgNGpQxYcEU-"
      },
      "execution_count": null,
      "outputs": []
    },
    {
      "cell_type": "markdown",
      "source": [
        "　1-7. モデルの評価"
      ],
      "metadata": {
        "id": "k3jR0OKMyLZD"
      }
    },
    {
      "cell_type": "code",
      "source": [
        "y_pred=model.predict(X_test_np)\n",
        "print(y_pred)\n",
        "y_test"
      ],
      "metadata": {
        "colab": {
          "base_uri": "https://localhost:8080/"
        },
        "id": "IcI8fl8syC4C",
        "outputId": "26089a59-b88d-41df-a6c8-ce3419f24d01"
      },
      "execution_count": null,
      "outputs": [
        {
          "output_type": "stream",
          "name": "stderr",
          "text": [
            "WARNING:tensorflow:5 out of the last 5 calls to <function Model.make_predict_function.<locals>.predict_function at 0x79ad4344d120> triggered tf.function retracing. Tracing is expensive and the excessive number of tracings could be due to (1) creating @tf.function repeatedly in a loop, (2) passing tensors with different shapes, (3) passing Python objects instead of tensors. For (1), please define your @tf.function outside of the loop. For (2), @tf.function has reduce_retracing=True option that can avoid unnecessary retracing. For (3), please refer to https://www.tensorflow.org/guide/function#controlling_retracing and https://www.tensorflow.org/api_docs/python/tf/function for  more details.\n"
          ]
        },
        {
          "output_type": "stream",
          "name": "stdout",
          "text": [
            "1/1 [==============================] - 0s 41ms/step\n",
            "[[ 780.738  ]\n",
            " [ 992.4334 ]\n",
            " [1021.86597]\n",
            " [1022.7567 ]\n",
            " [ 883.9888 ]\n",
            " [ 804.71936]\n",
            " [ 952.74304]\n",
            " [1087.8271 ]\n",
            " [ 906.0602 ]\n",
            " [1154.8904 ]\n",
            " [1118.3839 ]\n",
            " [ 848.6231 ]\n",
            " [ 979.3304 ]]\n"
          ]
        },
        {
          "output_type": "execute_result",
          "data": {
            "text/plain": [
              "[880, 829, 1200, 1180, 938, 750, 669, 859, 895, 847, 1190, 1050, 908]"
            ]
          },
          "metadata": {},
          "execution_count": 23
        }
      ]
    },
    {
      "cell_type": "markdown",
      "source": [
        "**2. クラス分けしたブロッコリー収穫量の予測**\n",
        "\n",
        "ブロッコリー収穫量を収穫量に応じてクラス分けして予測する。\n",
        "\n",
        "目的変数を加工して予測する。"
      ],
      "metadata": {
        "id": "EaITCdUt2Zy6"
      }
    },
    {
      "cell_type": "markdown",
      "source": [
        " 2-1. モジュールのインポートとランダムの設定"
      ],
      "metadata": {
        "id": "qFdx8XcYvnwr"
      }
    },
    {
      "cell_type": "code",
      "source": [
        "import pandas as pd\n",
        "import numpy as np\n",
        "import glob\n",
        "from sklearn.metrics import mean_squared_error\n",
        "# 任意の整数をランダムシードとして設定\n",
        "random_seed = 0\n",
        "\n",
        "# NumPyのrandomモジュールにランダムシードを設定\n",
        "np.random.seed(random_seed)"
      ],
      "metadata": {
        "id": "SV-P9y-xYpDW"
      },
      "execution_count": null,
      "outputs": []
    },
    {
      "cell_type": "markdown",
      "source": [
        "　2-2. ファイルの読み込み"
      ],
      "metadata": {
        "id": "GmB68MLNvobJ"
      }
    },
    {
      "cell_type": "code",
      "source": [
        "#ファイルを読み込む\n",
        "file_list = glob.glob('/content/*.csv')\n",
        "print(file_list)\n",
        "Broc = []\n",
        "Broc_class2 = []\n",
        "Broc_class4 = []\n",
        "Broc_class6 = []\n",
        "data_list = []\n",
        "df_list = []\n",
        "for file in file_list:\n",
        "  df = pd.read_csv(file)\n",
        "  Broc.append(df['Broc'][0])\n",
        "  Broc_class2.append(df['Broc_class2'][0])\n",
        "  Broc_class4.append(df['Broc_class4'][0])\n",
        "  Broc_class6.append(df['Broc_class6'][0])\n",
        "\n",
        "\n",
        "  df = df[['temp','prec', 'sun', 'snow', 'humi']]\n",
        "#  df_cond = df[['temp','snow']]\n",
        "  data_list.append(df.values.ravel())\n",
        "  df_list.append(df.values)\n",
        "#Date = df['date'].tolist()"
      ],
      "metadata": {
        "colab": {
          "base_uri": "https://localhost:8080/"
        },
        "outputId": "48a1ef7a-cd14-4afa-db23-2b75537a7295",
        "id": "LxXOa8FlND5c"
      },
      "execution_count": null,
      "outputs": [
        {
          "output_type": "stream",
          "name": "stdout",
          "text": [
            "['/content/FKO_df.csv', '/content/GIF_df.csv', '/content/OSK_df.csv', '/content/AIC_df.csv', '/content/MYZ_df.csv', '/content/KUC_df.csv', '/content/GNM_df.csv', '/content/FKI_df.csv', '/content/KGW_df.csv', '/content/OKN_df.csv', '/content/KMM_df.csv', '/content/CHB_df.csv', '/content/HKD_df.csv', '/content/KYT_df.csv', '/content/SZO_df.csv', '/content/KNG_df.csv', '/content/AOM_df.csv', '/content/YGT_df.csv', '/content/YGC_df.csv', '/content/TTR_df.csv', '/content/NGS_df.csv', '/content/AKT_df.csv', '/content/ISK_df.csv', '/content/YMN_df.csv', '/content/TCG_df.csv', '/content/IWT_df.csv', '/content/HYG_df.csv', '/content/TKS_df.csv', '/content/MYG_df.csv', '/content/NAR_df.csv', '/content/TYM_df.csv', '/content/WKY_df.csv', '/content/NGN_df.csv', '/content/OIT_df.csv', '/content/SAG_df.csv', '/content/SIT_df.csv', '/content/SIG_df.csv', '/content/OKY_df.csv', '/content/SMN_df.csv', '/content/FKS_df.csv', '/content/NGT_df.csv', '/content/IBR_df.csv']\n"
          ]
        }
      ]
    },
    {
      "cell_type": "markdown",
      "source": [
        "　2-3. データの分割"
      ],
      "metadata": {
        "id": "6vk8x7C-v58H"
      }
    },
    {
      "cell_type": "code",
      "source": [
        "# データの分割\n",
        "from sklearn.model_selection import train_test_split\n",
        "X = df_list\n",
        "y2 = Broc_class2\n",
        "y4 = Broc_class4 #ほどよく精度が保たれる\n",
        "y6 = Broc_class6\n",
        "\n",
        "X_train, X_test, y_train, y_test = train_test_split(X, y4, test_size= 0.3, random_state=random_seed)\n",
        "\n",
        "# X_trainとy_trainをNumPy配列に変換\n",
        "X_train_np = np.array(X_train)\n",
        "y_train_np = np.array(y_train)\n",
        "\n",
        "# X_testとy_testをNumPy配列に変換\n",
        "X_test_np = np.array(X_test)\n",
        "y_test_np = np.array(y_test)\n",
        "\n",
        "# データの形状を確認 (必要に応じて)\n",
        "print(X_train_np.shape)  # この出力が (サンプル数, 365, 5) になることを確認\n",
        "print(y_train_np.shape)  # この出力が (サンプル数,) または (サンプル数, 1) になることを確認"
      ],
      "metadata": {
        "colab": {
          "base_uri": "https://localhost:8080/"
        },
        "id": "aiatu8I13ZRw",
        "outputId": "4b52118c-9c5b-4e23-c134-47e773610958"
      },
      "execution_count": null,
      "outputs": [
        {
          "output_type": "stream",
          "name": "stdout",
          "text": [
            "(29, 365, 5)\n",
            "(29,)\n"
          ]
        }
      ]
    },
    {
      "cell_type": "markdown",
      "source": [
        "　2-4. モジュールのインポート"
      ],
      "metadata": {
        "id": "Iun4kpfsbdtj"
      }
    },
    {
      "cell_type": "code",
      "source": [
        "from tensorflow.keras.models import Sequential\n",
        "from tensorflow.keras.layers import Flatten, Dense\n",
        "from tensorflow.keras.layers import Flatten, Dense, BatchNormalization"
      ],
      "metadata": {
        "id": "oILRI0x13-jd"
      },
      "execution_count": null,
      "outputs": []
    },
    {
      "cell_type": "markdown",
      "source": [
        "　2-5. 予測モデルの設定"
      ],
      "metadata": {
        "id": "gfw27x9jbk2v"
      }
    },
    {
      "cell_type": "code",
      "source": [
        "model = Sequential()\n",
        "model.add(Flatten(input_shape=(365, 5)))\n",
        "model.add(Dense(128, activation='relu'))\n",
        "model.add(Dense(64, activation='relu'))\n",
        "\n",
        "from tensorflow.keras.layers import Dropout\n",
        "model.add(Dropout(0.5))\n",
        "model.add(BatchNormalization())  # Batch Normalization層の追加\n",
        "model.add(Dense(4, activation='linear'))  # 0, 1, 2, 3のクラスを出力するための線形層\n",
        "\n",
        "# モデルの概要\n",
        "model.summary()"
      ],
      "metadata": {
        "colab": {
          "base_uri": "https://localhost:8080/"
        },
        "id": "iaDyRuLg4FqS",
        "outputId": "0bb1cb9a-6d3a-4534-e809-b85ce2199a54"
      },
      "execution_count": null,
      "outputs": [
        {
          "output_type": "stream",
          "name": "stdout",
          "text": [
            "Model: \"sequential_19\"\n",
            "_________________________________________________________________\n",
            " Layer (type)                Output Shape              Param #   \n",
            "=================================================================\n",
            " flatten_19 (Flatten)        (None, 1825)              0         \n",
            "                                                                 \n",
            " dense_55 (Dense)            (None, 128)               233728    \n",
            "                                                                 \n",
            " dense_56 (Dense)            (None, 64)                8256      \n",
            "                                                                 \n",
            " dropout_12 (Dropout)        (None, 64)                0         \n",
            "                                                                 \n",
            " batch_normalization_4 (Bat  (None, 64)                256       \n",
            " chNormalization)                                                \n",
            "                                                                 \n",
            " dense_57 (Dense)            (None, 4)                 260       \n",
            "                                                                 \n",
            "=================================================================\n",
            "Total params: 242500 (947.27 KB)\n",
            "Trainable params: 242372 (946.77 KB)\n",
            "Non-trainable params: 128 (512.00 Byte)\n",
            "_________________________________________________________________\n"
          ]
        }
      ]
    },
    {
      "cell_type": "markdown",
      "source": [
        "　2-6. 予測モデルのコンパイルとモデルの学習"
      ],
      "metadata": {
        "id": "4PvChHeSbrTx"
      }
    },
    {
      "cell_type": "code",
      "source": [
        "# モデルのコンパイル\n",
        "model.compile(optimizer='adam',\n",
        "              loss='sparse_categorical_crossentropy',  # 整数ラベルを使用するための損失関数\n",
        "              metrics=['accuracy'])\n",
        "# モデルのトレーニング\n",
        "model.fit(X_train_np, y_train_np, batch_size=29, epochs=5)"
      ],
      "metadata": {
        "colab": {
          "base_uri": "https://localhost:8080/"
        },
        "id": "M8C_7x104cXL",
        "outputId": "d8fba4fd-fe03-465b-ebdf-149043ba85cc"
      },
      "execution_count": null,
      "outputs": [
        {
          "output_type": "stream",
          "name": "stdout",
          "text": [
            "Epoch 1/5\n",
            "1/1 [==============================] - 1s 996ms/step - loss: 10.5601 - accuracy: 0.3448\n",
            "Epoch 2/5\n",
            "1/1 [==============================] - 0s 20ms/step - loss: 10.5601 - accuracy: 0.3448\n",
            "Epoch 3/5\n",
            "1/1 [==============================] - 0s 21ms/step - loss: 10.5601 - accuracy: 0.3448\n",
            "Epoch 4/5\n",
            "1/1 [==============================] - 0s 27ms/step - loss: 10.5601 - accuracy: 0.3448\n",
            "Epoch 5/5\n",
            "1/1 [==============================] - 0s 17ms/step - loss: 10.5601 - accuracy: 0.3448\n"
          ]
        },
        {
          "output_type": "execute_result",
          "data": {
            "text/plain": [
              "<keras.src.callbacks.History at 0x7a515c4d9480>"
            ]
          },
          "metadata": {},
          "execution_count": 33
        }
      ]
    },
    {
      "cell_type": "code",
      "source": [
        "　2-7. 予測モデルのカスタマイズ"
      ],
      "metadata": {
        "id": "e3-8jxMacR4C"
      },
      "execution_count": null,
      "outputs": []
    },
    {
      "cell_type": "code",
      "source": [
        "# Adamでの学習率のカスタマイズ\n",
        "\n",
        "from tensorflow.keras.optimizers import Adam\n",
        "optimizer = Adam(learning_rate=0.00001)  # 学習率を0.001に減少\n",
        "model.compile(optimizer=optimizer, loss='sparse_categorical_crossentropy', metrics=['accuracy'])\n"
      ],
      "metadata": {
        "id": "xndpR9jy-mcX"
      },
      "execution_count": null,
      "outputs": []
    },
    {
      "cell_type": "code",
      "source": [
        "# SGDでの学習率のカスタマイズ\n",
        "from tensorflow.keras.optimizers import SGD\n",
        "\n",
        "# 学習率の設定\n",
        "learning_rate = 0.01\n",
        "\n",
        "# SGDの初期化\n",
        "sgd_optimizer = SGD(learning_rate=learning_rate)\n",
        "\n",
        "# モデルのコンパイル時にSGDオプティマイザを使用\n",
        "model.compile(optimizer=sgd_optimizer, loss='sparse_categorical_crossentropy', metrics=['accuracy'])\n"
      ],
      "metadata": {
        "id": "N2Ao1d1kHW3B"
      },
      "execution_count": null,
      "outputs": []
    },
    {
      "cell_type": "code",
      "source": [
        "# モデルのトレーニング\n",
        "model.fit(X_train_np, y_train_np, batch_size=15, epochs=30)"
      ],
      "metadata": {
        "colab": {
          "base_uri": "https://localhost:8080/"
        },
        "id": "uCZXcSoxHTtX",
        "outputId": "07b0b674-4035-4d09-a869-dd3f733d9f5a"
      },
      "execution_count": null,
      "outputs": [
        {
          "output_type": "stream",
          "name": "stdout",
          "text": [
            "Epoch 1/30\n",
            "2/2 [==============================] - 0s 17ms/step - loss: 6.7011 - accuracy: 0.2759\n",
            "Epoch 2/30\n",
            "2/2 [==============================] - 0s 15ms/step - loss: 5.5106 - accuracy: 0.2759\n",
            "Epoch 3/30\n",
            "2/2 [==============================] - 0s 16ms/step - loss: 7.0875 - accuracy: 0.3103\n",
            "Epoch 4/30\n",
            "2/2 [==============================] - 0s 12ms/step - loss: 7.1538 - accuracy: 0.3103\n",
            "Epoch 5/30\n",
            "2/2 [==============================] - 0s 14ms/step - loss: 9.2782 - accuracy: 0.2069\n",
            "Epoch 6/30\n",
            "2/2 [==============================] - 0s 15ms/step - loss: 7.6415 - accuracy: 0.3103\n",
            "Epoch 7/30\n",
            "2/2 [==============================] - 0s 15ms/step - loss: 5.5189 - accuracy: 0.3448\n",
            "Epoch 8/30\n",
            "2/2 [==============================] - 0s 13ms/step - loss: 10.6911 - accuracy: 0.1379\n",
            "Epoch 9/30\n",
            "2/2 [==============================] - 0s 12ms/step - loss: 8.1170 - accuracy: 0.2759\n",
            "Epoch 10/30\n",
            "2/2 [==============================] - 0s 13ms/step - loss: 7.9672 - accuracy: 0.1724\n",
            "Epoch 11/30\n",
            "2/2 [==============================] - 0s 13ms/step - loss: 8.7022 - accuracy: 0.2759\n",
            "Epoch 12/30\n",
            "2/2 [==============================] - 0s 14ms/step - loss: 9.2153 - accuracy: 0.2069\n",
            "Epoch 13/30\n",
            "2/2 [==============================] - 0s 17ms/step - loss: 8.1416 - accuracy: 0.3103\n",
            "Epoch 14/30\n",
            "2/2 [==============================] - 0s 16ms/step - loss: 9.8954 - accuracy: 0.1379\n",
            "Epoch 15/30\n",
            "2/2 [==============================] - 0s 15ms/step - loss: 7.7344 - accuracy: 0.2759\n",
            "Epoch 16/30\n",
            "2/2 [==============================] - 0s 13ms/step - loss: 8.2996 - accuracy: 0.3793\n",
            "Epoch 17/30\n",
            "2/2 [==============================] - 0s 14ms/step - loss: 9.7075 - accuracy: 0.1034\n",
            "Epoch 18/30\n",
            "2/2 [==============================] - 0s 13ms/step - loss: 9.6779 - accuracy: 0.1034\n",
            "Epoch 19/30\n",
            "2/2 [==============================] - 0s 13ms/step - loss: 9.3821 - accuracy: 0.1724\n",
            "Epoch 20/30\n",
            "2/2 [==============================] - 0s 23ms/step - loss: 6.2483 - accuracy: 0.2759\n",
            "Epoch 21/30\n",
            "2/2 [==============================] - 0s 14ms/step - loss: 8.7674 - accuracy: 0.2759\n",
            "Epoch 22/30\n",
            "2/2 [==============================] - 0s 14ms/step - loss: 8.8042 - accuracy: 0.2759\n",
            "Epoch 23/30\n",
            "2/2 [==============================] - 0s 14ms/step - loss: 7.8169 - accuracy: 0.3448\n",
            "Epoch 24/30\n",
            "2/2 [==============================] - 0s 15ms/step - loss: 5.7514 - accuracy: 0.3103\n",
            "Epoch 25/30\n",
            "2/2 [==============================] - 0s 18ms/step - loss: 9.2151 - accuracy: 0.2069\n",
            "Epoch 26/30\n",
            "2/2 [==============================] - 0s 16ms/step - loss: 8.7210 - accuracy: 0.2759\n",
            "Epoch 27/30\n",
            "2/2 [==============================] - 0s 19ms/step - loss: 7.7382 - accuracy: 0.2759\n",
            "Epoch 28/30\n",
            "2/2 [==============================] - 0s 17ms/step - loss: 11.4512 - accuracy: 0.1379\n",
            "Epoch 29/30\n",
            "2/2 [==============================] - 0s 18ms/step - loss: 4.8985 - accuracy: 0.3103\n",
            "Epoch 30/30\n",
            "2/2 [==============================] - 0s 14ms/step - loss: 9.7164 - accuracy: 0.1379\n"
          ]
        },
        {
          "output_type": "execute_result",
          "data": {
            "text/plain": [
              "<keras.src.callbacks.History at 0x7a512e95ba30>"
            ]
          },
          "metadata": {},
          "execution_count": 158
        }
      ]
    },
    {
      "cell_type": "code",
      "source": [
        "y_pred=model.predict(X_test_np)\n",
        "print(y_pred)\n",
        "y_test"
      ],
      "metadata": {
        "colab": {
          "base_uri": "https://localhost:8080/"
        },
        "id": "vYcHz0kX5ARe",
        "outputId": "4b28615f-f460-4856-e5a2-33953fdef1ae"
      },
      "execution_count": null,
      "outputs": [
        {
          "output_type": "stream",
          "name": "stdout",
          "text": [
            "1/1 [==============================] - 0s 23ms/step\n",
            "[[-6.67262912e-01  1.41790703e-01  4.91414487e-01  4.15830940e-01]\n",
            " [-6.64473400e-02  2.48951435e-01 -2.01989621e-01 -2.35090733e-01]\n",
            " [-2.95573413e-01  1.01333869e+00 -1.36958921e+00 -1.03573310e+00]\n",
            " [ 2.56614351e+00 -2.39520817e+01  2.22930298e+01  3.14565525e+01]\n",
            " [-1.34506347e-02 -3.22576928e+00  3.09522939e+00  4.76202869e+00]\n",
            " [-1.40247598e-01  1.92240498e-03  1.70283973e-01  5.23988366e-01]\n",
            " [ 1.78226575e-01 -5.17452648e-03  5.06059051e-01 -3.79171781e-02]\n",
            " [-3.15508336e-01 -5.46025820e-02  5.02989411e-01 -2.19761938e-01]\n",
            " [ 5.86135648e-02  3.12666118e-01  3.35918926e-02 -5.43792695e-02]\n",
            " [ 1.46760613e-01  3.89448673e-01 -2.76111633e-01 -4.99575019e-01]\n",
            " [-2.24185362e-01  3.31625581e-01 -3.49825062e-02 -1.01876691e-01]\n",
            " [ 4.09786606e+00 -1.37334957e+01  1.05759025e+00  4.76638556e+00]\n",
            " [-6.65247560e-01  3.27529997e-01  5.18375039e-01 -1.14465654e-01]]\n"
          ]
        },
        {
          "output_type": "execute_result",
          "data": {
            "text/plain": [
              "[2, 2, 1, 1, 2, 2, 3, 2, 2, 2, 1, 1, 2]"
            ]
          },
          "metadata": {},
          "execution_count": 159
        }
      ]
    },
    {
      "cell_type": "code",
      "source": [
        "import numpy as np\n",
        "\n",
        "# 予測されたクラスのインデックスを取得\n",
        "predicted_classes = np.argmax(y_pred, axis=1)\n",
        "\n",
        "# 予測の正確さを計算\n",
        "accuracy = np.sum(predicted_classes == y_test) / len(y_test)\n",
        "\n",
        "print(f\"Accuracy: {accuracy * 100:.2f}%\")"
      ],
      "metadata": {
        "colab": {
          "base_uri": "https://localhost:8080/"
        },
        "id": "Jyz2bw_K8Xnu",
        "outputId": "f45078fd-a18c-4c83-b572-50175ec55729"
      },
      "execution_count": null,
      "outputs": [
        {
          "output_type": "stream",
          "name": "stdout",
          "text": [
            "Accuracy: 38.46%\n"
          ]
        }
      ]
    },
    {
      "cell_type": "code",
      "source": [
        "predicted_classes"
      ],
      "metadata": {
        "colab": {
          "base_uri": "https://localhost:8080/"
        },
        "id": "nmwU0gZSE41f",
        "outputId": "13098aed-6d06-49fc-fabd-c083daf7b2f9"
      },
      "execution_count": null,
      "outputs": [
        {
          "output_type": "execute_result",
          "data": {
            "text/plain": [
              "array([2, 1, 1, 3, 3, 3, 2, 2, 1, 1, 1, 3, 2])"
            ]
          },
          "metadata": {},
          "execution_count": 161
        }
      ]
    },
    {
      "cell_type": "code",
      "source": [
        "model.evaluate(X_test_np, y_test_np)"
      ],
      "metadata": {
        "colab": {
          "base_uri": "https://localhost:8080/"
        },
        "id": "IB-gBNMD5LW2",
        "outputId": "5f61fbb1-2245-4d38-aa38-365a1e4648c9"
      },
      "execution_count": null,
      "outputs": [
        {
          "output_type": "stream",
          "name": "stdout",
          "text": [
            "1/1 [==============================] - 0s 165ms/step - loss: 6.6417 - accuracy: 0.5385\n"
          ]
        },
        {
          "output_type": "execute_result",
          "data": {
            "text/plain": [
              "[6.641729354858398, 0.5384615659713745]"
            ]
          },
          "metadata": {},
          "execution_count": 43
        }
      ]
    },
    {
      "cell_type": "markdown",
      "source": [
        "#4. ブロッコリー収穫量を決定する気象要因の探索\n",
        "**1. ブロッコリー収穫量に寄与する気象要因の特定**\n",
        "\n",
        "機械学習を用いて各気象データ毎にブロッコリー収穫量を予測する\n",
        "\n"
      ],
      "metadata": {
        "id": "2wwR2X0SZpn-"
      }
    },
    {
      "cell_type": "markdown",
      "source": [
        "　1-1. モジュールのインポートとランダム設定"
      ],
      "metadata": {
        "id": "Jpl_C_r5fxUQ"
      }
    },
    {
      "cell_type": "code",
      "source": [
        "import pandas as pd\n",
        "import numpy as np\n",
        "import glob\n",
        "from sklearn.metrics import mean_squared_error\n",
        "# 任意の整数をランダムシードとして設定\n",
        "random_seed = 0\n",
        "\n",
        "# NumPyのrandomモジュールにランダムシードを設定\n",
        "np.random.seed(random_seed)"
      ],
      "metadata": {
        "id": "OudJVaQjfPj6"
      },
      "execution_count": null,
      "outputs": []
    },
    {
      "cell_type": "markdown",
      "source": [
        "　1-2. ファイルの読み込み\n",
        "\n",
        "下記プログラムを実行して予測精度が高い気象条件を「気温」と「降雪量」と特定"
      ],
      "metadata": {
        "id": "uwPhY_Yuf34V"
      }
    },
    {
      "cell_type": "code",
      "source": [
        "#ファイルを読み込む\n",
        "file_list = glob.glob('/content/*.csv')\n",
        "print(file_list)\n",
        "Broc = []\n",
        "Broc_class2 = []\n",
        "Broc_class4 = []\n",
        "Broc_class6 = []\n",
        "data_list = []\n",
        "df_list = []\n",
        "for file in file_list:\n",
        "  df = pd.read_csv(file)\n",
        "  Broc.append(df['Broc'][0])\n",
        "  Broc_class2.append(df['Broc_class2'][0])\n",
        "  Broc_class4.append(df['Broc_class4'][0])\n",
        "  Broc_class6.append(df['Broc_class6'][0])\n",
        "\n",
        "\n",
        "#  df = df[['temp','prec', 'sun', 'snow', 'humi']]\n",
        "  df_cond = df[['temp','snow']]\n",
        "  data_list.append(df_cond.values.ravel())\n",
        "#  df_list.append(df)\n",
        "#Date = df['date'].tolist()"
      ],
      "metadata": {
        "colab": {
          "base_uri": "https://localhost:8080/"
        },
        "outputId": "fa90320f-4547-4490-d5c0-47ccc726f446",
        "id": "hchw39N_fPj6"
      },
      "execution_count": null,
      "outputs": [
        {
          "output_type": "stream",
          "name": "stdout",
          "text": [
            "['/content/IWT_df.csv', '/content/SAG_df.csv', '/content/YGT_df.csv', '/content/TCG_df.csv', '/content/HYG_df.csv', '/content/NGN_df.csv', '/content/OKY_df.csv', '/content/AIC_df.csv', '/content/WKY_df.csv', '/content/SIG_df.csv', '/content/TTR_df.csv', '/content/SZO_df.csv', '/content/GNM_df.csv', '/content/IBR_df.csv', '/content/FKO_df.csv', '/content/FKI_df.csv', '/content/KNG_df.csv', '/content/ISK_df.csv', '/content/SMN_df.csv', '/content/YMN_df.csv', '/content/KUC_df.csv', '/content/AOM_df.csv', '/content/OIT_df.csv', '/content/HKD_df.csv', '/content/AKT_df.csv', '/content/GIF_df.csv', '/content/NAR_df.csv', '/content/KGW_df.csv', '/content/KMM_df.csv', '/content/NGT_df.csv', '/content/TYM_df.csv', '/content/FKS_df.csv', '/content/OKN_df.csv', '/content/MYZ_df.csv', '/content/MYG_df.csv', '/content/CHB_df.csv', '/content/NGS_df.csv', '/content/SIT_df.csv', '/content/OSK_df.csv', '/content/TKS_df.csv', '/content/YGC_df.csv', '/content/KYT_df.csv']\n"
          ]
        }
      ]
    },
    {
      "cell_type": "markdown",
      "source": [
        "　1-3. ランダムフォレストで分類予測"
      ],
      "metadata": {
        "id": "BlaWsMtdgNpP"
      }
    },
    {
      "cell_type": "code",
      "source": [
        "# ランダムフォレストで分類する\n",
        "from sklearn.model_selection import train_test_split\n",
        "from sklearn.ensemble import RandomForestClassifier\n",
        "X = data_list\n",
        "y2 = Broc_class2\n",
        "y4 = Broc_class4 #ほどよく精度が保たれる\n",
        "y6 = Broc_class6\n",
        "\n",
        "X_train, X_test, y_train, y_test = train_test_split(X, y4, test_size= 0.3, random_state=random_seed)\n",
        "model = RandomForestClassifier(random_state= random_seed)\n",
        "model.fit(X_train, y_train)\n",
        "model.score(X_test,y_test)\n",
        "#model.predict(X_test)"
      ],
      "metadata": {
        "colab": {
          "base_uri": "https://localhost:8080/"
        },
        "outputId": "4228cbc5-860d-4adc-81a0-954b104165c4",
        "id": "iJrjEtbefPj7"
      },
      "execution_count": null,
      "outputs": [
        {
          "output_type": "execute_result",
          "data": {
            "text/plain": [
              "0.6153846153846154"
            ]
          },
          "metadata": {},
          "execution_count": 96
        }
      ]
    },
    {
      "cell_type": "markdown",
      "source": [
        "　1-4. グリッドサーチにより予測モデルの最適化"
      ],
      "metadata": {
        "id": "1ougTxcQgUja"
      }
    },
    {
      "cell_type": "code",
      "source": [
        "from sklearn.model_selection import GridSearchCV\n",
        "\n",
        "param_grid = {\n",
        "    'n_estimators': [40, 50, 100, 200],\n",
        "    'max_depth': [None, 10, 20],\n",
        "    'min_samples_split': [2, 5, 10],\n",
        "    'min_samples_leaf': [1, 2, 4]\n",
        "}\n",
        "\n",
        "grid_search = GridSearchCV(RandomForestClassifier(random_state=random_seed), param_grid, cv=2)\n",
        "grid_search.fit(X_train, y_train)\n",
        "\n",
        "best_params = grid_search.best_params_\n",
        "best_model = grid_search.best_estimator_\n",
        "\n",
        "# ベストなモデルで評価\n",
        "score = best_model.score(X_test, y_test)\n",
        "print(score)"
      ],
      "metadata": {
        "colab": {
          "base_uri": "https://localhost:8080/"
        },
        "outputId": "5e0776da-902d-4a9f-a0e6-632744240f60",
        "id": "S8xT-Q4bfPj7"
      },
      "execution_count": null,
      "outputs": [
        {
          "output_type": "stream",
          "name": "stdout",
          "text": [
            "0.7692307692307693\n"
          ]
        }
      ]
    },
    {
      "cell_type": "markdown",
      "source": [
        "**2. ブロッコリー収穫量に寄与する日にちの特定**\n",
        "\n",
        "決定木を用いてブロッコリー収穫量を分類予測し、分岐日を抽出する\n"
      ],
      "metadata": {
        "id": "tQVfjIa9fXTM"
      }
    },
    {
      "cell_type": "markdown",
      "source": [
        "　2-1. ファイルを読み込みデータをリスト化する\n",
        "\n",
        "気温データを抽出しリスト化する。"
      ],
      "metadata": {
        "id": "09pq30W3puVA"
      }
    },
    {
      "cell_type": "code",
      "source": [
        "#1 ファイルを読み込む\n",
        "file_list = glob.glob('/content/*.csv')\n",
        "print(file_list)\n",
        "\n",
        "#2 データをリスト化する\n",
        "Broc = []\n",
        "Broc_class2 = []\n",
        "data_list = []\n",
        "\n",
        "for file in file_list:\n",
        "  df = pd.read_csv(file)\n",
        "  Broc.append(df['Broc'][0])\n",
        "  Broc_class2.append(df['Broc_class2'][0])\n",
        "  df_cond = df[['temp']]\n",
        "  data_list.append(df_cond.values.ravel())\n",
        "\n",
        "#3 日付データをリスト化する\n",
        "Date = df['date'].tolist()"
      ],
      "metadata": {
        "colab": {
          "base_uri": "https://localhost:8080/"
        },
        "outputId": "4a9bb6de-dd51-4ca1-fa41-b83b9573c1c2",
        "id": "W8MVmy1tpuVA"
      },
      "execution_count": null,
      "outputs": [
        {
          "output_type": "stream",
          "name": "stdout",
          "text": [
            "['/content/IWT_df.csv', '/content/SAG_df.csv', '/content/YGT_df.csv', '/content/TCG_df.csv', '/content/HYG_df.csv', '/content/NGN_df.csv', '/content/OKY_df.csv', '/content/AIC_df.csv', '/content/WKY_df.csv', '/content/SIG_df.csv', '/content/TTR_df.csv', '/content/SZO_df.csv', '/content/GNM_df.csv', '/content/IBR_df.csv', '/content/FKO_df.csv', '/content/FKI_df.csv', '/content/KNG_df.csv', '/content/ISK_df.csv', '/content/SMN_df.csv', '/content/YMN_df.csv', '/content/KUC_df.csv', '/content/AOM_df.csv', '/content/OIT_df.csv', '/content/HKD_df.csv', '/content/AKT_df.csv', '/content/GIF_df.csv', '/content/NAR_df.csv', '/content/KGW_df.csv', '/content/KMM_df.csv', '/content/NGT_df.csv', '/content/TYM_df.csv', '/content/FKS_df.csv', '/content/OKN_df.csv', '/content/MYZ_df.csv', '/content/MYG_df.csv', '/content/CHB_df.csv', '/content/NGS_df.csv', '/content/SIT_df.csv', '/content/OSK_df.csv', '/content/TKS_df.csv', '/content/YGC_df.csv', '/content/KYT_df.csv']\n"
          ]
        }
      ]
    },
    {
      "cell_type": "markdown",
      "source": [
        "　2-2. 決定木モデルを用いてブロッコリー収穫量予測する\n",
        "*   #1. train_test_splitとDecisionTreeClassifierをインポートする\n",
        "*   #2. 説明変数と目的変数を定義する\n",
        "*   #3. 学習データとテストデータを分割する\n",
        "*   #4. モデルを学習する\n",
        "*   #5. モデルを評価する"
      ],
      "metadata": {
        "id": "VAdXshD6dZWQ"
      }
    },
    {
      "cell_type": "code",
      "source": [
        "#1 train_test_splitとDecisionTreeClassifierをインポートする\n",
        "from sklearn.model_selection import train_test_split\n",
        "from sklearn.tree import DecisionTreeClassifier\n",
        "\n",
        "#2 説明変数と目的変数を定義する\n",
        "X = data_list\n",
        "y2 = Broc_class2\n",
        "\n",
        "#3 学習データとテストデータを分割する\n",
        "X_train, X_test, y_train, y_test = train_test_split(X, y2, test_size= 0.3, random_state=random_seed)\n",
        "\n",
        "#4 モデルを学習する\n",
        "model = DecisionTreeClassifier(random_state=random_seed)\n",
        "model.fit(X_train, y_train)\n",
        "\n",
        "#5 モデルを評価する\n",
        "model.score(X_test,y_test)"
      ],
      "metadata": {
        "colab": {
          "base_uri": "https://localhost:8080/"
        },
        "outputId": "b5671811-0575-43a5-a8b2-1c47743b6d66",
        "id": "wSnedm8GpuVB"
      },
      "execution_count": null,
      "outputs": [
        {
          "output_type": "execute_result",
          "data": {
            "text/plain": [
              "0.7692307692307693"
            ]
          },
          "metadata": {},
          "execution_count": 14
        }
      ]
    },
    {
      "cell_type": "markdown",
      "source": [
        "　2-3. モデルの分岐点を可視化する\n",
        "\n",
        "*   #1. graphvizをインポートする\n",
        "*   #2. graphvizで決定木モデルを解析する"
      ],
      "metadata": {
        "id": "C0C2APt9duHy"
      }
    },
    {
      "cell_type": "code",
      "source": [
        "#1 graphvizをインポートする\n",
        "import graphviz\n",
        "from sklearn.tree import export_graphviz\n",
        "\n",
        "#2 graphvizで決定木モデルを解析する\n",
        "dot_data = export_graphviz(model)\n",
        "\n",
        "graph_tree =graphviz.Source(dot_data)\n",
        "graph_tree"
      ],
      "metadata": {
        "colab": {
          "base_uri": "https://localhost:8080/",
          "height": 796
        },
        "outputId": "3280416e-5166-4c93-9f0c-a495857de713",
        "id": "Fnz_uZUipuVB"
      },
      "execution_count": null,
      "outputs": [
        {
          "output_type": "execute_result",
          "data": {
            "image/svg+xml": "<?xml version=\"1.0\" encoding=\"UTF-8\" standalone=\"no\"?>\n<!DOCTYPE svg PUBLIC \"-//W3C//DTD SVG 1.1//EN\"\n \"http://www.w3.org/Graphics/SVG/1.1/DTD/svg11.dtd\">\n<!-- Generated by graphviz version 2.43.0 (0)\n -->\n<!-- Title: Tree Pages: 1 -->\n<svg width=\"344pt\" height=\"581pt\"\n viewBox=\"0.00 0.00 344.00 581.00\" xmlns=\"http://www.w3.org/2000/svg\" xmlns:xlink=\"http://www.w3.org/1999/xlink\">\n<g id=\"graph0\" class=\"graph\" transform=\"scale(1 1) rotate(0) translate(4 577)\">\n<title>Tree</title>\n<polygon fill=\"white\" stroke=\"transparent\" points=\"-4,4 -4,-577 340,-577 340,4 -4,4\"/>\n<!-- 0 -->\n<g id=\"node1\" class=\"node\">\n<title>0</title>\n<polygon fill=\"none\" stroke=\"black\" points=\"285,-573 166,-573 166,-505 285,-505 285,-573\"/>\n<text text-anchor=\"middle\" x=\"225.5\" y=\"-557.8\" font-family=\"Helvetica,sans-Serif\" font-size=\"14.00\">x[237] &lt;= 26.887</text>\n<text text-anchor=\"middle\" x=\"225.5\" y=\"-542.8\" font-family=\"Helvetica,sans-Serif\" font-size=\"14.00\">gini = 0.452</text>\n<text text-anchor=\"middle\" x=\"225.5\" y=\"-527.8\" font-family=\"Helvetica,sans-Serif\" font-size=\"14.00\">samples = 29</text>\n<text text-anchor=\"middle\" x=\"225.5\" y=\"-512.8\" font-family=\"Helvetica,sans-Serif\" font-size=\"14.00\">value = [10, 19]</text>\n</g>\n<!-- 1 -->\n<g id=\"node2\" class=\"node\">\n<title>1</title>\n<polygon fill=\"none\" stroke=\"black\" points=\"223,-469 104,-469 104,-401 223,-401 223,-469\"/>\n<text text-anchor=\"middle\" x=\"163.5\" y=\"-453.8\" font-family=\"Helvetica,sans-Serif\" font-size=\"14.00\">x[110] &lt;= 13.152</text>\n<text text-anchor=\"middle\" x=\"163.5\" y=\"-438.8\" font-family=\"Helvetica,sans-Serif\" font-size=\"14.00\">gini = 0.33</text>\n<text text-anchor=\"middle\" x=\"163.5\" y=\"-423.8\" font-family=\"Helvetica,sans-Serif\" font-size=\"14.00\">samples = 24</text>\n<text text-anchor=\"middle\" x=\"163.5\" y=\"-408.8\" font-family=\"Helvetica,sans-Serif\" font-size=\"14.00\">value = [5, 19]</text>\n</g>\n<!-- 0&#45;&gt;1 -->\n<g id=\"edge1\" class=\"edge\">\n<title>0&#45;&gt;1</title>\n<path fill=\"none\" stroke=\"black\" d=\"M205.37,-504.88C200.17,-496.33 194.51,-487.01 189.07,-478.07\"/>\n<polygon fill=\"black\" stroke=\"black\" points=\"191.93,-476.03 183.74,-469.3 185.94,-479.66 191.93,-476.03\"/>\n<text text-anchor=\"middle\" x=\"177.82\" y=\"-489.89\" font-family=\"Helvetica,sans-Serif\" font-size=\"14.00\">True</text>\n</g>\n<!-- 10 -->\n<g id=\"node11\" class=\"node\">\n<title>10</title>\n<polygon fill=\"none\" stroke=\"black\" points=\"336,-461.5 241,-461.5 241,-408.5 336,-408.5 336,-461.5\"/>\n<text text-anchor=\"middle\" x=\"288.5\" y=\"-446.3\" font-family=\"Helvetica,sans-Serif\" font-size=\"14.00\">gini = 0.0</text>\n<text text-anchor=\"middle\" x=\"288.5\" y=\"-431.3\" font-family=\"Helvetica,sans-Serif\" font-size=\"14.00\">samples = 5</text>\n<text text-anchor=\"middle\" x=\"288.5\" y=\"-416.3\" font-family=\"Helvetica,sans-Serif\" font-size=\"14.00\">value = [5, 0]</text>\n</g>\n<!-- 0&#45;&gt;10 -->\n<g id=\"edge10\" class=\"edge\">\n<title>0&#45;&gt;10</title>\n<path fill=\"none\" stroke=\"black\" d=\"M245.95,-504.88C252.82,-493.78 260.48,-481.37 267.39,-470.18\"/>\n<polygon fill=\"black\" stroke=\"black\" points=\"270.46,-471.87 272.74,-461.52 264.5,-468.19 270.46,-471.87\"/>\n<text text-anchor=\"middle\" x=\"278.49\" y=\"-482.15\" font-family=\"Helvetica,sans-Serif\" font-size=\"14.00\">False</text>\n</g>\n<!-- 2 -->\n<g id=\"node3\" class=\"node\">\n<title>2</title>\n<polygon fill=\"none\" stroke=\"black\" points=\"149,-357.5 54,-357.5 54,-304.5 149,-304.5 149,-357.5\"/>\n<text text-anchor=\"middle\" x=\"101.5\" y=\"-342.3\" font-family=\"Helvetica,sans-Serif\" font-size=\"14.00\">gini = 0.0</text>\n<text text-anchor=\"middle\" x=\"101.5\" y=\"-327.3\" font-family=\"Helvetica,sans-Serif\" font-size=\"14.00\">samples = 3</text>\n<text text-anchor=\"middle\" x=\"101.5\" y=\"-312.3\" font-family=\"Helvetica,sans-Serif\" font-size=\"14.00\">value = [3, 0]</text>\n</g>\n<!-- 1&#45;&gt;2 -->\n<g id=\"edge2\" class=\"edge\">\n<title>1&#45;&gt;2</title>\n<path fill=\"none\" stroke=\"black\" d=\"M143.37,-400.88C136.62,-389.78 129.08,-377.37 122.28,-366.18\"/>\n<polygon fill=\"black\" stroke=\"black\" points=\"125.2,-364.25 117.01,-357.52 119.22,-367.88 125.2,-364.25\"/>\n</g>\n<!-- 3 -->\n<g id=\"node4\" class=\"node\">\n<title>3</title>\n<polygon fill=\"none\" stroke=\"black\" points=\"286,-365 167,-365 167,-297 286,-297 286,-365\"/>\n<text text-anchor=\"middle\" x=\"226.5\" y=\"-349.8\" font-family=\"Helvetica,sans-Serif\" font-size=\"14.00\">x[318] &lt;= 13.246</text>\n<text text-anchor=\"middle\" x=\"226.5\" y=\"-334.8\" font-family=\"Helvetica,sans-Serif\" font-size=\"14.00\">gini = 0.172</text>\n<text text-anchor=\"middle\" x=\"226.5\" y=\"-319.8\" font-family=\"Helvetica,sans-Serif\" font-size=\"14.00\">samples = 21</text>\n<text text-anchor=\"middle\" x=\"226.5\" y=\"-304.8\" font-family=\"Helvetica,sans-Serif\" font-size=\"14.00\">value = [2, 19]</text>\n</g>\n<!-- 1&#45;&gt;3 -->\n<g id=\"edge3\" class=\"edge\">\n<title>1&#45;&gt;3</title>\n<path fill=\"none\" stroke=\"black\" d=\"M183.95,-400.88C189.24,-392.33 194.99,-383.01 200.51,-374.07\"/>\n<polygon fill=\"black\" stroke=\"black\" points=\"203.66,-375.65 205.93,-365.3 197.7,-371.97 203.66,-375.65\"/>\n</g>\n<!-- 4 -->\n<g id=\"node5\" class=\"node\">\n<title>4</title>\n<polygon fill=\"none\" stroke=\"black\" points=\"223,-261 104,-261 104,-193 223,-193 223,-261\"/>\n<text text-anchor=\"middle\" x=\"163.5\" y=\"-245.8\" font-family=\"Helvetica,sans-Serif\" font-size=\"14.00\">x[136] &lt;= 13.506</text>\n<text text-anchor=\"middle\" x=\"163.5\" y=\"-230.8\" font-family=\"Helvetica,sans-Serif\" font-size=\"14.00\">gini = 0.095</text>\n<text text-anchor=\"middle\" x=\"163.5\" y=\"-215.8\" font-family=\"Helvetica,sans-Serif\" font-size=\"14.00\">samples = 20</text>\n<text text-anchor=\"middle\" x=\"163.5\" y=\"-200.8\" font-family=\"Helvetica,sans-Serif\" font-size=\"14.00\">value = [1, 19]</text>\n</g>\n<!-- 3&#45;&gt;4 -->\n<g id=\"edge4\" class=\"edge\">\n<title>3&#45;&gt;4</title>\n<path fill=\"none\" stroke=\"black\" d=\"M206.05,-296.88C200.76,-288.33 195.01,-279.01 189.49,-270.07\"/>\n<polygon fill=\"black\" stroke=\"black\" points=\"192.3,-267.97 184.07,-261.3 186.34,-271.65 192.3,-267.97\"/>\n</g>\n<!-- 9 -->\n<g id=\"node10\" class=\"node\">\n<title>9</title>\n<polygon fill=\"none\" stroke=\"black\" points=\"336,-253.5 241,-253.5 241,-200.5 336,-200.5 336,-253.5\"/>\n<text text-anchor=\"middle\" x=\"288.5\" y=\"-238.3\" font-family=\"Helvetica,sans-Serif\" font-size=\"14.00\">gini = 0.0</text>\n<text text-anchor=\"middle\" x=\"288.5\" y=\"-223.3\" font-family=\"Helvetica,sans-Serif\" font-size=\"14.00\">samples = 1</text>\n<text text-anchor=\"middle\" x=\"288.5\" y=\"-208.3\" font-family=\"Helvetica,sans-Serif\" font-size=\"14.00\">value = [1, 0]</text>\n</g>\n<!-- 3&#45;&gt;9 -->\n<g id=\"edge9\" class=\"edge\">\n<title>3&#45;&gt;9</title>\n<path fill=\"none\" stroke=\"black\" d=\"M246.63,-296.88C253.38,-285.78 260.92,-273.37 267.72,-262.18\"/>\n<polygon fill=\"black\" stroke=\"black\" points=\"270.78,-263.88 272.99,-253.52 264.8,-260.25 270.78,-263.88\"/>\n</g>\n<!-- 5 -->\n<g id=\"node6\" class=\"node\">\n<title>5</title>\n<polygon fill=\"none\" stroke=\"black\" points=\"155.5,-157 51.5,-157 51.5,-89 155.5,-89 155.5,-157\"/>\n<text text-anchor=\"middle\" x=\"103.5\" y=\"-141.8\" font-family=\"Helvetica,sans-Serif\" font-size=\"14.00\">x[58] &lt;= 0.962</text>\n<text text-anchor=\"middle\" x=\"103.5\" y=\"-126.8\" font-family=\"Helvetica,sans-Serif\" font-size=\"14.00\">gini = 0.5</text>\n<text text-anchor=\"middle\" x=\"103.5\" y=\"-111.8\" font-family=\"Helvetica,sans-Serif\" font-size=\"14.00\">samples = 2</text>\n<text text-anchor=\"middle\" x=\"103.5\" y=\"-96.8\" font-family=\"Helvetica,sans-Serif\" font-size=\"14.00\">value = [1, 1]</text>\n</g>\n<!-- 4&#45;&gt;5 -->\n<g id=\"edge5\" class=\"edge\">\n<title>4&#45;&gt;5</title>\n<path fill=\"none\" stroke=\"black\" d=\"M144.02,-192.88C138.99,-184.33 133.51,-175.01 128.25,-166.07\"/>\n<polygon fill=\"black\" stroke=\"black\" points=\"131.17,-164.14 123.09,-157.3 125.14,-167.69 131.17,-164.14\"/>\n</g>\n<!-- 8 -->\n<g id=\"node9\" class=\"node\">\n<title>8</title>\n<polygon fill=\"none\" stroke=\"black\" points=\"275.5,-149.5 173.5,-149.5 173.5,-96.5 275.5,-96.5 275.5,-149.5\"/>\n<text text-anchor=\"middle\" x=\"224.5\" y=\"-134.3\" font-family=\"Helvetica,sans-Serif\" font-size=\"14.00\">gini = 0.0</text>\n<text text-anchor=\"middle\" x=\"224.5\" y=\"-119.3\" font-family=\"Helvetica,sans-Serif\" font-size=\"14.00\">samples = 18</text>\n<text text-anchor=\"middle\" x=\"224.5\" y=\"-104.3\" font-family=\"Helvetica,sans-Serif\" font-size=\"14.00\">value = [0, 18]</text>\n</g>\n<!-- 4&#45;&gt;8 -->\n<g id=\"edge8\" class=\"edge\">\n<title>4&#45;&gt;8</title>\n<path fill=\"none\" stroke=\"black\" d=\"M183.3,-192.88C189.95,-181.78 197.37,-169.37 204.06,-158.18\"/>\n<polygon fill=\"black\" stroke=\"black\" points=\"207.11,-159.9 209.24,-149.52 201.1,-156.31 207.11,-159.9\"/>\n</g>\n<!-- 6 -->\n<g id=\"node7\" class=\"node\">\n<title>6</title>\n<polygon fill=\"none\" stroke=\"black\" points=\"95,-53 0,-53 0,0 95,0 95,-53\"/>\n<text text-anchor=\"middle\" x=\"47.5\" y=\"-37.8\" font-family=\"Helvetica,sans-Serif\" font-size=\"14.00\">gini = 0.0</text>\n<text text-anchor=\"middle\" x=\"47.5\" y=\"-22.8\" font-family=\"Helvetica,sans-Serif\" font-size=\"14.00\">samples = 1</text>\n<text text-anchor=\"middle\" x=\"47.5\" y=\"-7.8\" font-family=\"Helvetica,sans-Serif\" font-size=\"14.00\">value = [0, 1]</text>\n</g>\n<!-- 5&#45;&gt;6 -->\n<g id=\"edge6\" class=\"edge\">\n<title>5&#45;&gt;6</title>\n<path fill=\"none\" stroke=\"black\" d=\"M83.91,-88.95C78.76,-80.26 73.2,-70.86 68,-62.09\"/>\n<polygon fill=\"black\" stroke=\"black\" points=\"70.86,-60.06 62.75,-53.24 64.84,-63.62 70.86,-60.06\"/>\n</g>\n<!-- 7 -->\n<g id=\"node8\" class=\"node\">\n<title>7</title>\n<polygon fill=\"none\" stroke=\"black\" points=\"208,-53 113,-53 113,0 208,0 208,-53\"/>\n<text text-anchor=\"middle\" x=\"160.5\" y=\"-37.8\" font-family=\"Helvetica,sans-Serif\" font-size=\"14.00\">gini = 0.0</text>\n<text text-anchor=\"middle\" x=\"160.5\" y=\"-22.8\" font-family=\"Helvetica,sans-Serif\" font-size=\"14.00\">samples = 1</text>\n<text text-anchor=\"middle\" x=\"160.5\" y=\"-7.8\" font-family=\"Helvetica,sans-Serif\" font-size=\"14.00\">value = [1, 0]</text>\n</g>\n<!-- 5&#45;&gt;7 -->\n<g id=\"edge7\" class=\"edge\">\n<title>5&#45;&gt;7</title>\n<path fill=\"none\" stroke=\"black\" d=\"M123.44,-88.95C128.73,-80.17 134.47,-70.66 139.8,-61.82\"/>\n<polygon fill=\"black\" stroke=\"black\" points=\"142.81,-63.61 144.98,-53.24 136.81,-59.99 142.81,-63.61\"/>\n</g>\n</g>\n</svg>\n",
            "text/plain": [
              "<graphviz.sources.Source at 0x7aebeb1a9900>"
            ]
          },
          "metadata": {},
          "execution_count": 15
        }
      ]
    },
    {
      "cell_type": "markdown",
      "source": [
        "　2-4. 分岐の日付を確認する"
      ],
      "metadata": {
        "id": "0jCRo3uceeF8"
      }
    },
    {
      "cell_type": "code",
      "source": [
        "print(Date[237])\n",
        "print(Date[110])\n",
        "print(Date[318])\n",
        "print(Date[136])\n",
        "print(Date[58])"
      ],
      "metadata": {
        "colab": {
          "base_uri": "https://localhost:8080/"
        },
        "outputId": "9ddc2f4b-e368-404b-d33f-8062c47a4d16",
        "id": "8WIOJnsbpuVC"
      },
      "execution_count": null,
      "outputs": [
        {
          "output_type": "stream",
          "name": "stdout",
          "text": [
            "2022/8/26\n",
            "2022/4/21\n",
            "2022/11/15\n",
            "2022/5/17\n",
            "2022/2/28\n"
          ]
        }
      ]
    },
    {
      "cell_type": "markdown",
      "source": [
        "　2-5. （参考）降雪量の場合\n",
        "\n",
        "\n"
      ],
      "metadata": {
        "id": "bNSlSaQ2puVG"
      }
    },
    {
      "cell_type": "code",
      "source": [
        "#1 ファイルを読み込む\n",
        "file_list = glob.glob('/content/*.csv')\n",
        "print(file_list)\n",
        "\n",
        "#2 データをリスト化する\n",
        "Broc = []\n",
        "Broc_class2 = []\n",
        "data_list = []\n",
        "\n",
        "for file in file_list:\n",
        "  df = pd.read_csv(file)\n",
        "  Broc.append(df['Broc'][0])\n",
        "  Broc_class2.append(df['Broc_class2'][0])\n",
        "\n",
        "  df_cond = df[['snow']]\n",
        "  data_list.append(df_cond.values.ravel())\n",
        "\n",
        "#3 日付データをリスト化する\n",
        "Date = df['date'].tolist()"
      ],
      "metadata": {
        "colab": {
          "base_uri": "https://localhost:8080/"
        },
        "outputId": "e9cac8fb-3170-4a6a-efa2-ebd19548257d",
        "id": "HAxiUhXupuVG"
      },
      "execution_count": null,
      "outputs": [
        {
          "output_type": "stream",
          "name": "stdout",
          "text": [
            "['/content/IWT_df.csv', '/content/SAG_df.csv', '/content/YGT_df.csv', '/content/TCG_df.csv', '/content/HYG_df.csv', '/content/NGN_df.csv', '/content/OKY_df.csv', '/content/AIC_df.csv', '/content/WKY_df.csv', '/content/SIG_df.csv', '/content/TTR_df.csv', '/content/SZO_df.csv', '/content/GNM_df.csv', '/content/IBR_df.csv', '/content/FKO_df.csv', '/content/FKI_df.csv', '/content/KNG_df.csv', '/content/ISK_df.csv', '/content/SMN_df.csv', '/content/YMN_df.csv', '/content/KUC_df.csv', '/content/AOM_df.csv', '/content/OIT_df.csv', '/content/HKD_df.csv', '/content/AKT_df.csv', '/content/GIF_df.csv', '/content/NAR_df.csv', '/content/KGW_df.csv', '/content/KMM_df.csv', '/content/NGT_df.csv', '/content/TYM_df.csv', '/content/FKS_df.csv', '/content/OKN_df.csv', '/content/MYZ_df.csv', '/content/MYG_df.csv', '/content/CHB_df.csv', '/content/NGS_df.csv', '/content/SIT_df.csv', '/content/OSK_df.csv', '/content/TKS_df.csv', '/content/YGC_df.csv', '/content/KYT_df.csv']\n"
          ]
        }
      ]
    },
    {
      "cell_type": "code",
      "source": [
        "# ランダムフォレストで分類する\n",
        "from sklearn.model_selection import train_test_split\n",
        "from sklearn.ensemble import RandomForestClassifier\n",
        "X = data_list\n",
        "y2 = Broc_class2\n",
        "y4 = Broc_class4 #ほどよく精度が保たれる\n",
        "y6 = Broc_class6\n",
        "\n",
        "X_train, X_test, y_train, y_test = train_test_split(X, y2, test_size= 0.3, random_state=random_seed)\n",
        "model = RandomForestClassifier(random_state= random_seed)\n",
        "model.fit(X_train, y_train)\n",
        "model.score(X_test,y_test)\n",
        "#model.predict(X_test)"
      ],
      "metadata": {
        "colab": {
          "base_uri": "https://localhost:8080/"
        },
        "outputId": "e88b7b61-0e23-4191-b834-48f07def0d5a",
        "id": "vKQak0iSpuVG"
      },
      "execution_count": null,
      "outputs": [
        {
          "output_type": "execute_result",
          "data": {
            "text/plain": [
              "0.7692307692307693"
            ]
          },
          "metadata": {},
          "execution_count": 31
        }
      ]
    },
    {
      "cell_type": "code",
      "source": [
        "# 決定木\n",
        "from sklearn.model_selection import train_test_split\n",
        "from sklearn.ensemble import RandomForestClassifier\n",
        "from sklearn.tree import DecisionTreeClassifier\n",
        "\n",
        "X_train, X_test, y_train, y_test = train_test_split(X, y2, test_size= 0.3, random_state=random_seed)\n",
        "\n",
        "model = DecisionTreeClassifier(random_state=random_seed)\n",
        "model.fit(X_train, y_train)\n",
        "model.score(X_test,y_test)"
      ],
      "metadata": {
        "colab": {
          "base_uri": "https://localhost:8080/"
        },
        "outputId": "91e96f50-780a-45e2-fb5d-d2a9b7933845",
        "id": "EJ7w6YjypuVH"
      },
      "execution_count": null,
      "outputs": [
        {
          "output_type": "execute_result",
          "data": {
            "text/plain": [
              "0.6923076923076923"
            ]
          },
          "metadata": {},
          "execution_count": 32
        }
      ]
    },
    {
      "cell_type": "code",
      "source": [
        "import graphviz\n",
        "from sklearn.tree import export_graphviz\n",
        "\n",
        "dot_data = export_graphviz(model)\n",
        "\n",
        "\n",
        "graph_tree =graphviz.Source(dot_data)\n",
        "graph_tree"
      ],
      "metadata": {
        "colab": {
          "base_uri": "https://localhost:8080/",
          "height": 935
        },
        "outputId": "2392d023-f22c-4556-9c5a-d8c709116838",
        "id": "RAU2Qmq8puVH"
      },
      "execution_count": null,
      "outputs": [
        {
          "output_type": "execute_result",
          "data": {
            "image/svg+xml": "<?xml version=\"1.0\" encoding=\"UTF-8\" standalone=\"no\"?>\n<!DOCTYPE svg PUBLIC \"-//W3C//DTD SVG 1.1//EN\"\n \"http://www.w3.org/Graphics/SVG/1.1/DTD/svg11.dtd\">\n<!-- Generated by graphviz version 2.43.0 (0)\n -->\n<!-- Title: Tree Pages: 1 -->\n<svg width=\"571pt\" height=\"685pt\"\n viewBox=\"0.00 0.00 570.50 685.00\" xmlns=\"http://www.w3.org/2000/svg\" xmlns:xlink=\"http://www.w3.org/1999/xlink\">\n<g id=\"graph0\" class=\"graph\" transform=\"scale(1 1) rotate(0) translate(4 681)\">\n<title>Tree</title>\n<polygon fill=\"white\" stroke=\"transparent\" points=\"-4,4 -4,-681 566.5,-681 566.5,4 -4,4\"/>\n<!-- 0 -->\n<g id=\"node1\" class=\"node\">\n<title>0</title>\n<polygon fill=\"none\" stroke=\"black\" points=\"505.5,-677 395.5,-677 395.5,-609 505.5,-609 505.5,-677\"/>\n<text text-anchor=\"middle\" x=\"450.5\" y=\"-661.8\" font-family=\"Helvetica,sans-Serif\" font-size=\"14.00\">x[47] &lt;= 1.458</text>\n<text text-anchor=\"middle\" x=\"450.5\" y=\"-646.8\" font-family=\"Helvetica,sans-Serif\" font-size=\"14.00\">gini = 0.452</text>\n<text text-anchor=\"middle\" x=\"450.5\" y=\"-631.8\" font-family=\"Helvetica,sans-Serif\" font-size=\"14.00\">samples = 29</text>\n<text text-anchor=\"middle\" x=\"450.5\" y=\"-616.8\" font-family=\"Helvetica,sans-Serif\" font-size=\"14.00\">value = [10, 19]</text>\n</g>\n<!-- 1 -->\n<g id=\"node2\" class=\"node\">\n<title>1</title>\n<polygon fill=\"none\" stroke=\"black\" points=\"442.5,-573 338.5,-573 338.5,-505 442.5,-505 442.5,-573\"/>\n<text text-anchor=\"middle\" x=\"390.5\" y=\"-557.8\" font-family=\"Helvetica,sans-Serif\" font-size=\"14.00\">x[41] &lt;= 0.417</text>\n<text text-anchor=\"middle\" x=\"390.5\" y=\"-542.8\" font-family=\"Helvetica,sans-Serif\" font-size=\"14.00\">gini = 0.484</text>\n<text text-anchor=\"middle\" x=\"390.5\" y=\"-527.8\" font-family=\"Helvetica,sans-Serif\" font-size=\"14.00\">samples = 17</text>\n<text text-anchor=\"middle\" x=\"390.5\" y=\"-512.8\" font-family=\"Helvetica,sans-Serif\" font-size=\"14.00\">value = [10, 7]</text>\n</g>\n<!-- 0&#45;&gt;1 -->\n<g id=\"edge1\" class=\"edge\">\n<title>0&#45;&gt;1</title>\n<path fill=\"none\" stroke=\"black\" d=\"M431.02,-608.88C425.99,-600.33 420.51,-591.01 415.25,-582.07\"/>\n<polygon fill=\"black\" stroke=\"black\" points=\"418.17,-580.14 410.09,-573.3 412.14,-583.69 418.17,-580.14\"/>\n<text text-anchor=\"middle\" x=\"403.81\" y=\"-593.8\" font-family=\"Helvetica,sans-Serif\" font-size=\"14.00\">True</text>\n</g>\n<!-- 14 -->\n<g id=\"node15\" class=\"node\">\n<title>14</title>\n<polygon fill=\"none\" stroke=\"black\" points=\"562.5,-565.5 460.5,-565.5 460.5,-512.5 562.5,-512.5 562.5,-565.5\"/>\n<text text-anchor=\"middle\" x=\"511.5\" y=\"-550.3\" font-family=\"Helvetica,sans-Serif\" font-size=\"14.00\">gini = 0.0</text>\n<text text-anchor=\"middle\" x=\"511.5\" y=\"-535.3\" font-family=\"Helvetica,sans-Serif\" font-size=\"14.00\">samples = 12</text>\n<text text-anchor=\"middle\" x=\"511.5\" y=\"-520.3\" font-family=\"Helvetica,sans-Serif\" font-size=\"14.00\">value = [0, 12]</text>\n</g>\n<!-- 0&#45;&gt;14 -->\n<g id=\"edge14\" class=\"edge\">\n<title>0&#45;&gt;14</title>\n<path fill=\"none\" stroke=\"black\" d=\"M470.3,-608.88C476.95,-597.78 484.37,-585.37 491.06,-574.18\"/>\n<polygon fill=\"black\" stroke=\"black\" points=\"494.11,-575.9 496.24,-565.52 488.1,-572.31 494.11,-575.9\"/>\n<text text-anchor=\"middle\" x=\"502.34\" y=\"-586.06\" font-family=\"Helvetica,sans-Serif\" font-size=\"14.00\">False</text>\n</g>\n<!-- 2 -->\n<g id=\"node3\" class=\"node\">\n<title>2</title>\n<polygon fill=\"none\" stroke=\"black\" points=\"383.5,-469 279.5,-469 279.5,-401 383.5,-401 383.5,-469\"/>\n<text text-anchor=\"middle\" x=\"331.5\" y=\"-453.8\" font-family=\"Helvetica,sans-Serif\" font-size=\"14.00\">x[356] &lt;= 0.75</text>\n<text text-anchor=\"middle\" x=\"331.5\" y=\"-438.8\" font-family=\"Helvetica,sans-Serif\" font-size=\"14.00\">gini = 0.408</text>\n<text text-anchor=\"middle\" x=\"331.5\" y=\"-423.8\" font-family=\"Helvetica,sans-Serif\" font-size=\"14.00\">samples = 14</text>\n<text text-anchor=\"middle\" x=\"331.5\" y=\"-408.8\" font-family=\"Helvetica,sans-Serif\" font-size=\"14.00\">value = [10, 4]</text>\n</g>\n<!-- 1&#45;&gt;2 -->\n<g id=\"edge2\" class=\"edge\">\n<title>1&#45;&gt;2</title>\n<path fill=\"none\" stroke=\"black\" d=\"M371.34,-504.88C366.4,-496.33 361.01,-487.01 355.84,-478.07\"/>\n<polygon fill=\"black\" stroke=\"black\" points=\"358.8,-476.2 350.76,-469.3 352.74,-479.71 358.8,-476.2\"/>\n</g>\n<!-- 13 -->\n<g id=\"node14\" class=\"node\">\n<title>13</title>\n<polygon fill=\"none\" stroke=\"black\" points=\"497,-461.5 402,-461.5 402,-408.5 497,-408.5 497,-461.5\"/>\n<text text-anchor=\"middle\" x=\"449.5\" y=\"-446.3\" font-family=\"Helvetica,sans-Serif\" font-size=\"14.00\">gini = 0.0</text>\n<text text-anchor=\"middle\" x=\"449.5\" y=\"-431.3\" font-family=\"Helvetica,sans-Serif\" font-size=\"14.00\">samples = 3</text>\n<text text-anchor=\"middle\" x=\"449.5\" y=\"-416.3\" font-family=\"Helvetica,sans-Serif\" font-size=\"14.00\">value = [0, 3]</text>\n</g>\n<!-- 1&#45;&gt;13 -->\n<g id=\"edge13\" class=\"edge\">\n<title>1&#45;&gt;13</title>\n<path fill=\"none\" stroke=\"black\" d=\"M409.66,-504.88C416.08,-493.78 423.26,-481.37 429.73,-470.18\"/>\n<polygon fill=\"black\" stroke=\"black\" points=\"432.76,-471.93 434.74,-461.52 426.7,-468.42 432.76,-471.93\"/>\n</g>\n<!-- 3 -->\n<g id=\"node4\" class=\"node\">\n<title>3</title>\n<polygon fill=\"none\" stroke=\"black\" points=\"324.5,-365 220.5,-365 220.5,-297 324.5,-297 324.5,-365\"/>\n<text text-anchor=\"middle\" x=\"272.5\" y=\"-349.8\" font-family=\"Helvetica,sans-Serif\" font-size=\"14.00\">x[40] &lt;= 16.75</text>\n<text text-anchor=\"middle\" x=\"272.5\" y=\"-334.8\" font-family=\"Helvetica,sans-Serif\" font-size=\"14.00\">gini = 0.298</text>\n<text text-anchor=\"middle\" x=\"272.5\" y=\"-319.8\" font-family=\"Helvetica,sans-Serif\" font-size=\"14.00\">samples = 11</text>\n<text text-anchor=\"middle\" x=\"272.5\" y=\"-304.8\" font-family=\"Helvetica,sans-Serif\" font-size=\"14.00\">value = [9, 2]</text>\n</g>\n<!-- 2&#45;&gt;3 -->\n<g id=\"edge3\" class=\"edge\">\n<title>2&#45;&gt;3</title>\n<path fill=\"none\" stroke=\"black\" d=\"M312.34,-400.88C307.4,-392.33 302.01,-383.01 296.84,-374.07\"/>\n<polygon fill=\"black\" stroke=\"black\" points=\"299.8,-372.2 291.76,-365.3 293.74,-375.71 299.8,-372.2\"/>\n</g>\n<!-- 10 -->\n<g id=\"node11\" class=\"node\">\n<title>10</title>\n<polygon fill=\"none\" stroke=\"black\" points=\"438.5,-365 342.5,-365 342.5,-297 438.5,-297 438.5,-365\"/>\n<text text-anchor=\"middle\" x=\"390.5\" y=\"-349.8\" font-family=\"Helvetica,sans-Serif\" font-size=\"14.00\">x[357] &lt;= 0.5</text>\n<text text-anchor=\"middle\" x=\"390.5\" y=\"-334.8\" font-family=\"Helvetica,sans-Serif\" font-size=\"14.00\">gini = 0.444</text>\n<text text-anchor=\"middle\" x=\"390.5\" y=\"-319.8\" font-family=\"Helvetica,sans-Serif\" font-size=\"14.00\">samples = 3</text>\n<text text-anchor=\"middle\" x=\"390.5\" y=\"-304.8\" font-family=\"Helvetica,sans-Serif\" font-size=\"14.00\">value = [1, 2]</text>\n</g>\n<!-- 2&#45;&gt;10 -->\n<g id=\"edge10\" class=\"edge\">\n<title>2&#45;&gt;10</title>\n<path fill=\"none\" stroke=\"black\" d=\"M350.66,-400.88C355.6,-392.33 360.99,-383.01 366.16,-374.07\"/>\n<polygon fill=\"black\" stroke=\"black\" points=\"369.26,-375.71 371.24,-365.3 363.2,-372.2 369.26,-375.71\"/>\n</g>\n<!-- 4 -->\n<g id=\"node5\" class=\"node\">\n<title>4</title>\n<polygon fill=\"none\" stroke=\"black\" points=\"208.5,-261 110.5,-261 110.5,-193 208.5,-193 208.5,-261\"/>\n<text text-anchor=\"middle\" x=\"159.5\" y=\"-245.8\" font-family=\"Helvetica,sans-Serif\" font-size=\"14.00\">x[357] &lt;= 2.0</text>\n<text text-anchor=\"middle\" x=\"159.5\" y=\"-230.8\" font-family=\"Helvetica,sans-Serif\" font-size=\"14.00\">gini = 0.18</text>\n<text text-anchor=\"middle\" x=\"159.5\" y=\"-215.8\" font-family=\"Helvetica,sans-Serif\" font-size=\"14.00\">samples = 10</text>\n<text text-anchor=\"middle\" x=\"159.5\" y=\"-200.8\" font-family=\"Helvetica,sans-Serif\" font-size=\"14.00\">value = [9, 1]</text>\n</g>\n<!-- 3&#45;&gt;4 -->\n<g id=\"edge4\" class=\"edge\">\n<title>3&#45;&gt;4</title>\n<path fill=\"none\" stroke=\"black\" d=\"M235.81,-296.88C225.65,-287.71 214.5,-277.65 203.95,-268.12\"/>\n<polygon fill=\"black\" stroke=\"black\" points=\"206.16,-265.4 196.39,-261.3 201.47,-270.6 206.16,-265.4\"/>\n</g>\n<!-- 9 -->\n<g id=\"node10\" class=\"node\">\n<title>9</title>\n<polygon fill=\"none\" stroke=\"black\" points=\"322,-253.5 227,-253.5 227,-200.5 322,-200.5 322,-253.5\"/>\n<text text-anchor=\"middle\" x=\"274.5\" y=\"-238.3\" font-family=\"Helvetica,sans-Serif\" font-size=\"14.00\">gini = 0.0</text>\n<text text-anchor=\"middle\" x=\"274.5\" y=\"-223.3\" font-family=\"Helvetica,sans-Serif\" font-size=\"14.00\">samples = 1</text>\n<text text-anchor=\"middle\" x=\"274.5\" y=\"-208.3\" font-family=\"Helvetica,sans-Serif\" font-size=\"14.00\">value = [0, 1]</text>\n</g>\n<!-- 3&#45;&gt;9 -->\n<g id=\"edge9\" class=\"edge\">\n<title>3&#45;&gt;9</title>\n<path fill=\"none\" stroke=\"black\" d=\"M273.15,-296.88C273.36,-286.22 273.59,-274.35 273.8,-263.52\"/>\n<polygon fill=\"black\" stroke=\"black\" points=\"277.3,-263.59 274,-253.52 270.3,-263.45 277.3,-263.59\"/>\n</g>\n<!-- 5 -->\n<g id=\"node6\" class=\"node\">\n<title>5</title>\n<polygon fill=\"none\" stroke=\"black\" points=\"151,-157 56,-157 56,-89 151,-89 151,-157\"/>\n<text text-anchor=\"middle\" x=\"103.5\" y=\"-141.8\" font-family=\"Helvetica,sans-Serif\" font-size=\"14.00\">x[5] &lt;= 4.0</text>\n<text text-anchor=\"middle\" x=\"103.5\" y=\"-126.8\" font-family=\"Helvetica,sans-Serif\" font-size=\"14.00\">gini = 0.245</text>\n<text text-anchor=\"middle\" x=\"103.5\" y=\"-111.8\" font-family=\"Helvetica,sans-Serif\" font-size=\"14.00\">samples = 7</text>\n<text text-anchor=\"middle\" x=\"103.5\" y=\"-96.8\" font-family=\"Helvetica,sans-Serif\" font-size=\"14.00\">value = [6, 1]</text>\n</g>\n<!-- 4&#45;&gt;5 -->\n<g id=\"edge5\" class=\"edge\">\n<title>4&#45;&gt;5</title>\n<path fill=\"none\" stroke=\"black\" d=\"M141.32,-192.88C136.62,-184.33 131.51,-175.01 126.6,-166.07\"/>\n<polygon fill=\"black\" stroke=\"black\" points=\"129.66,-164.38 121.78,-157.3 123.53,-167.75 129.66,-164.38\"/>\n</g>\n<!-- 8 -->\n<g id=\"node9\" class=\"node\">\n<title>8</title>\n<polygon fill=\"none\" stroke=\"black\" points=\"264,-149.5 169,-149.5 169,-96.5 264,-96.5 264,-149.5\"/>\n<text text-anchor=\"middle\" x=\"216.5\" y=\"-134.3\" font-family=\"Helvetica,sans-Serif\" font-size=\"14.00\">gini = 0.0</text>\n<text text-anchor=\"middle\" x=\"216.5\" y=\"-119.3\" font-family=\"Helvetica,sans-Serif\" font-size=\"14.00\">samples = 3</text>\n<text text-anchor=\"middle\" x=\"216.5\" y=\"-104.3\" font-family=\"Helvetica,sans-Serif\" font-size=\"14.00\">value = [3, 0]</text>\n</g>\n<!-- 4&#45;&gt;8 -->\n<g id=\"edge8\" class=\"edge\">\n<title>4&#45;&gt;8</title>\n<path fill=\"none\" stroke=\"black\" d=\"M178.01,-192.88C184.15,-181.89 191.01,-169.62 197.21,-158.52\"/>\n<polygon fill=\"black\" stroke=\"black\" points=\"200.42,-159.96 202.24,-149.52 194.31,-156.54 200.42,-159.96\"/>\n</g>\n<!-- 6 -->\n<g id=\"node7\" class=\"node\">\n<title>6</title>\n<polygon fill=\"none\" stroke=\"black\" points=\"95,-53 0,-53 0,0 95,0 95,-53\"/>\n<text text-anchor=\"middle\" x=\"47.5\" y=\"-37.8\" font-family=\"Helvetica,sans-Serif\" font-size=\"14.00\">gini = 0.278</text>\n<text text-anchor=\"middle\" x=\"47.5\" y=\"-22.8\" font-family=\"Helvetica,sans-Serif\" font-size=\"14.00\">samples = 6</text>\n<text text-anchor=\"middle\" x=\"47.5\" y=\"-7.8\" font-family=\"Helvetica,sans-Serif\" font-size=\"14.00\">value = [5, 1]</text>\n</g>\n<!-- 5&#45;&gt;6 -->\n<g id=\"edge6\" class=\"edge\">\n<title>5&#45;&gt;6</title>\n<path fill=\"none\" stroke=\"black\" d=\"M83.91,-88.95C78.76,-80.26 73.2,-70.86 68,-62.09\"/>\n<polygon fill=\"black\" stroke=\"black\" points=\"70.86,-60.06 62.75,-53.24 64.84,-63.62 70.86,-60.06\"/>\n</g>\n<!-- 7 -->\n<g id=\"node8\" class=\"node\">\n<title>7</title>\n<polygon fill=\"none\" stroke=\"black\" points=\"208,-53 113,-53 113,0 208,0 208,-53\"/>\n<text text-anchor=\"middle\" x=\"160.5\" y=\"-37.8\" font-family=\"Helvetica,sans-Serif\" font-size=\"14.00\">gini = 0.0</text>\n<text text-anchor=\"middle\" x=\"160.5\" y=\"-22.8\" font-family=\"Helvetica,sans-Serif\" font-size=\"14.00\">samples = 1</text>\n<text text-anchor=\"middle\" x=\"160.5\" y=\"-7.8\" font-family=\"Helvetica,sans-Serif\" font-size=\"14.00\">value = [1, 0]</text>\n</g>\n<!-- 5&#45;&gt;7 -->\n<g id=\"edge7\" class=\"edge\">\n<title>5&#45;&gt;7</title>\n<path fill=\"none\" stroke=\"black\" d=\"M123.44,-88.95C128.73,-80.17 134.47,-70.66 139.8,-61.82\"/>\n<polygon fill=\"black\" stroke=\"black\" points=\"142.81,-63.61 144.98,-53.24 136.81,-59.99 142.81,-63.61\"/>\n</g>\n<!-- 11 -->\n<g id=\"node12\" class=\"node\">\n<title>11</title>\n<polygon fill=\"none\" stroke=\"black\" points=\"437,-253.5 342,-253.5 342,-200.5 437,-200.5 437,-253.5\"/>\n<text text-anchor=\"middle\" x=\"389.5\" y=\"-238.3\" font-family=\"Helvetica,sans-Serif\" font-size=\"14.00\">gini = 0.5</text>\n<text text-anchor=\"middle\" x=\"389.5\" y=\"-223.3\" font-family=\"Helvetica,sans-Serif\" font-size=\"14.00\">samples = 2</text>\n<text text-anchor=\"middle\" x=\"389.5\" y=\"-208.3\" font-family=\"Helvetica,sans-Serif\" font-size=\"14.00\">value = [1, 1]</text>\n</g>\n<!-- 10&#45;&gt;11 -->\n<g id=\"edge11\" class=\"edge\">\n<title>10&#45;&gt;11</title>\n<path fill=\"none\" stroke=\"black\" d=\"M390.18,-296.88C390.07,-286.33 389.96,-274.6 389.85,-263.85\"/>\n<polygon fill=\"black\" stroke=\"black\" points=\"393.35,-263.49 389.75,-253.52 386.35,-263.55 393.35,-263.49\"/>\n</g>\n<!-- 12 -->\n<g id=\"node13\" class=\"node\">\n<title>12</title>\n<polygon fill=\"none\" stroke=\"black\" points=\"550,-253.5 455,-253.5 455,-200.5 550,-200.5 550,-253.5\"/>\n<text text-anchor=\"middle\" x=\"502.5\" y=\"-238.3\" font-family=\"Helvetica,sans-Serif\" font-size=\"14.00\">gini = 0.0</text>\n<text text-anchor=\"middle\" x=\"502.5\" y=\"-223.3\" font-family=\"Helvetica,sans-Serif\" font-size=\"14.00\">samples = 1</text>\n<text text-anchor=\"middle\" x=\"502.5\" y=\"-208.3\" font-family=\"Helvetica,sans-Serif\" font-size=\"14.00\">value = [0, 1]</text>\n</g>\n<!-- 10&#45;&gt;12 -->\n<g id=\"edge12\" class=\"edge\">\n<title>10&#45;&gt;12</title>\n<path fill=\"none\" stroke=\"black\" d=\"M426.86,-296.88C439.66,-285.23 454.03,-272.14 466.78,-260.53\"/>\n<polygon fill=\"black\" stroke=\"black\" points=\"469.44,-262.84 474.48,-253.52 464.73,-257.67 469.44,-262.84\"/>\n</g>\n</g>\n</svg>\n",
            "text/plain": [
              "<graphviz.sources.Source at 0x7aebeb1a95d0>"
            ]
          },
          "metadata": {},
          "execution_count": 33
        }
      ]
    },
    {
      "cell_type": "code",
      "source": [
        "print(Date[47])\n",
        "print(Date[41])\n",
        "print(Date[356])\n",
        "print(Date[40])\n",
        "print(Date[357])\n",
        "print(Date[5])"
      ],
      "metadata": {
        "colab": {
          "base_uri": "https://localhost:8080/"
        },
        "outputId": "02f6d7c0-7ad5-4bab-d5c6-716385ec43ca",
        "id": "35lYtkHrpuVI"
      },
      "execution_count": null,
      "outputs": [
        {
          "output_type": "stream",
          "name": "stdout",
          "text": [
            "2022/2/17\n",
            "2022/2/11\n",
            "2022/12/23\n",
            "2022/2/10\n",
            "2022/12/24\n",
            "2022/1/6\n"
          ]
        }
      ]
    },
    {
      "cell_type": "markdown",
      "source": [
        "**3. 分岐日から気象要因をする**\n",
        "\n",
        "分岐日の前後5日の気象データを取り出す\n",
        "決定木モデルの分岐点を確認する\n"
      ],
      "metadata": {
        "id": "FVobixuyay5l"
      }
    },
    {
      "cell_type": "markdown",
      "source": [
        "　3-1. 収穫量が多い地域での検証"
      ],
      "metadata": {
        "id": "ZRRysdtSjLE_"
      }
    },
    {
      "cell_type": "code",
      "source": [
        "# pandasのインポートとファイルの読み込み\n",
        "import pandas as pd\n",
        "\n",
        "df = pd.read_csv('/content/AIC_df.csv')\n",
        "\n",
        "df.head()"
      ],
      "metadata": {
        "colab": {
          "base_uri": "https://localhost:8080/",
          "height": 244
        },
        "id": "gdDSkgbea7IJ",
        "outputId": "6f3cb598-e068-49f5-ab98-72d9ff39afc9"
      },
      "execution_count": null,
      "outputs": [
        {
          "output_type": "execute_result",
          "data": {
            "text/plain": [
              "   Unnamed: 0.2  Unnamed: 0.1  Unnamed: 0      date    temp   prec     sun  \\\n",
              "0             0             0           0  2022/1/1  1.7500  0.125  7.4500   \n",
              "1             1             1           1  2022/1/2  2.5500  0.000  8.1000   \n",
              "2             2             2           2  2022/1/3  4.7750  0.000  7.3000   \n",
              "3             3             3           3  2022/1/4  5.0125  0.000  4.2000   \n",
              "4             4             4           4  2022/1/5  3.5125  0.000  9.2125   \n",
              "\n",
              "   snow       humi    temp_s    prec_s     sun_s  snow_s     humi_s  Broc  \\\n",
              "0   0.0  63.333333  0.830662  0.216506  2.133659     0.0  30.792653  1550   \n",
              "1   0.0  62.666667  1.160819  0.000000  0.698212     0.0  30.356218  1550   \n",
              "2   0.0  75.666667  1.503953  0.000000  2.395308     0.0  36.663802  1550   \n",
              "3   0.0  67.000000  1.338318  0.000000  1.820027     0.0  32.574674  1550   \n",
              "4   0.0  51.000000  0.684539  0.000000  0.176334     0.0  24.735791  1550   \n",
              "\n",
              "   Broc_class2  Broc_class6  Broc_class4  \n",
              "0            0            0            0  \n",
              "1            0            0            0  \n",
              "2            0            0            0  \n",
              "3            0            0            0  \n",
              "4            0            0            0  "
            ],
            "text/html": [
              "\n",
              "  <div id=\"df-5af9c629-38bc-46d5-837c-9e3613655a08\" class=\"colab-df-container\">\n",
              "    <div>\n",
              "<style scoped>\n",
              "    .dataframe tbody tr th:only-of-type {\n",
              "        vertical-align: middle;\n",
              "    }\n",
              "\n",
              "    .dataframe tbody tr th {\n",
              "        vertical-align: top;\n",
              "    }\n",
              "\n",
              "    .dataframe thead th {\n",
              "        text-align: right;\n",
              "    }\n",
              "</style>\n",
              "<table border=\"1\" class=\"dataframe\">\n",
              "  <thead>\n",
              "    <tr style=\"text-align: right;\">\n",
              "      <th></th>\n",
              "      <th>Unnamed: 0.2</th>\n",
              "      <th>Unnamed: 0.1</th>\n",
              "      <th>Unnamed: 0</th>\n",
              "      <th>date</th>\n",
              "      <th>temp</th>\n",
              "      <th>prec</th>\n",
              "      <th>sun</th>\n",
              "      <th>snow</th>\n",
              "      <th>humi</th>\n",
              "      <th>temp_s</th>\n",
              "      <th>prec_s</th>\n",
              "      <th>sun_s</th>\n",
              "      <th>snow_s</th>\n",
              "      <th>humi_s</th>\n",
              "      <th>Broc</th>\n",
              "      <th>Broc_class2</th>\n",
              "      <th>Broc_class6</th>\n",
              "      <th>Broc_class4</th>\n",
              "    </tr>\n",
              "  </thead>\n",
              "  <tbody>\n",
              "    <tr>\n",
              "      <th>0</th>\n",
              "      <td>0</td>\n",
              "      <td>0</td>\n",
              "      <td>0</td>\n",
              "      <td>2022/1/1</td>\n",
              "      <td>1.7500</td>\n",
              "      <td>0.125</td>\n",
              "      <td>7.4500</td>\n",
              "      <td>0.0</td>\n",
              "      <td>63.333333</td>\n",
              "      <td>0.830662</td>\n",
              "      <td>0.216506</td>\n",
              "      <td>2.133659</td>\n",
              "      <td>0.0</td>\n",
              "      <td>30.792653</td>\n",
              "      <td>1550</td>\n",
              "      <td>0</td>\n",
              "      <td>0</td>\n",
              "      <td>0</td>\n",
              "    </tr>\n",
              "    <tr>\n",
              "      <th>1</th>\n",
              "      <td>1</td>\n",
              "      <td>1</td>\n",
              "      <td>1</td>\n",
              "      <td>2022/1/2</td>\n",
              "      <td>2.5500</td>\n",
              "      <td>0.000</td>\n",
              "      <td>8.1000</td>\n",
              "      <td>0.0</td>\n",
              "      <td>62.666667</td>\n",
              "      <td>1.160819</td>\n",
              "      <td>0.000000</td>\n",
              "      <td>0.698212</td>\n",
              "      <td>0.0</td>\n",
              "      <td>30.356218</td>\n",
              "      <td>1550</td>\n",
              "      <td>0</td>\n",
              "      <td>0</td>\n",
              "      <td>0</td>\n",
              "    </tr>\n",
              "    <tr>\n",
              "      <th>2</th>\n",
              "      <td>2</td>\n",
              "      <td>2</td>\n",
              "      <td>2</td>\n",
              "      <td>2022/1/3</td>\n",
              "      <td>4.7750</td>\n",
              "      <td>0.000</td>\n",
              "      <td>7.3000</td>\n",
              "      <td>0.0</td>\n",
              "      <td>75.666667</td>\n",
              "      <td>1.503953</td>\n",
              "      <td>0.000000</td>\n",
              "      <td>2.395308</td>\n",
              "      <td>0.0</td>\n",
              "      <td>36.663802</td>\n",
              "      <td>1550</td>\n",
              "      <td>0</td>\n",
              "      <td>0</td>\n",
              "      <td>0</td>\n",
              "    </tr>\n",
              "    <tr>\n",
              "      <th>3</th>\n",
              "      <td>3</td>\n",
              "      <td>3</td>\n",
              "      <td>3</td>\n",
              "      <td>2022/1/4</td>\n",
              "      <td>5.0125</td>\n",
              "      <td>0.000</td>\n",
              "      <td>4.2000</td>\n",
              "      <td>0.0</td>\n",
              "      <td>67.000000</td>\n",
              "      <td>1.338318</td>\n",
              "      <td>0.000000</td>\n",
              "      <td>1.820027</td>\n",
              "      <td>0.0</td>\n",
              "      <td>32.574674</td>\n",
              "      <td>1550</td>\n",
              "      <td>0</td>\n",
              "      <td>0</td>\n",
              "      <td>0</td>\n",
              "    </tr>\n",
              "    <tr>\n",
              "      <th>4</th>\n",
              "      <td>4</td>\n",
              "      <td>4</td>\n",
              "      <td>4</td>\n",
              "      <td>2022/1/5</td>\n",
              "      <td>3.5125</td>\n",
              "      <td>0.000</td>\n",
              "      <td>9.2125</td>\n",
              "      <td>0.0</td>\n",
              "      <td>51.000000</td>\n",
              "      <td>0.684539</td>\n",
              "      <td>0.000000</td>\n",
              "      <td>0.176334</td>\n",
              "      <td>0.0</td>\n",
              "      <td>24.735791</td>\n",
              "      <td>1550</td>\n",
              "      <td>0</td>\n",
              "      <td>0</td>\n",
              "      <td>0</td>\n",
              "    </tr>\n",
              "  </tbody>\n",
              "</table>\n",
              "</div>\n",
              "    <div class=\"colab-df-buttons\">\n",
              "\n",
              "  <div class=\"colab-df-container\">\n",
              "    <button class=\"colab-df-convert\" onclick=\"convertToInteractive('df-5af9c629-38bc-46d5-837c-9e3613655a08')\"\n",
              "            title=\"Convert this dataframe to an interactive table.\"\n",
              "            style=\"display:none;\">\n",
              "\n",
              "  <svg xmlns=\"http://www.w3.org/2000/svg\" height=\"24px\" viewBox=\"0 -960 960 960\">\n",
              "    <path d=\"M120-120v-720h720v720H120Zm60-500h600v-160H180v160Zm220 220h160v-160H400v160Zm0 220h160v-160H400v160ZM180-400h160v-160H180v160Zm440 0h160v-160H620v160ZM180-180h160v-160H180v160Zm440 0h160v-160H620v160Z\"/>\n",
              "  </svg>\n",
              "    </button>\n",
              "\n",
              "  <style>\n",
              "    .colab-df-container {\n",
              "      display:flex;\n",
              "      gap: 12px;\n",
              "    }\n",
              "\n",
              "    .colab-df-convert {\n",
              "      background-color: #E8F0FE;\n",
              "      border: none;\n",
              "      border-radius: 50%;\n",
              "      cursor: pointer;\n",
              "      display: none;\n",
              "      fill: #1967D2;\n",
              "      height: 32px;\n",
              "      padding: 0 0 0 0;\n",
              "      width: 32px;\n",
              "    }\n",
              "\n",
              "    .colab-df-convert:hover {\n",
              "      background-color: #E2EBFA;\n",
              "      box-shadow: 0px 1px 2px rgba(60, 64, 67, 0.3), 0px 1px 3px 1px rgba(60, 64, 67, 0.15);\n",
              "      fill: #174EA6;\n",
              "    }\n",
              "\n",
              "    .colab-df-buttons div {\n",
              "      margin-bottom: 4px;\n",
              "    }\n",
              "\n",
              "    [theme=dark] .colab-df-convert {\n",
              "      background-color: #3B4455;\n",
              "      fill: #D2E3FC;\n",
              "    }\n",
              "\n",
              "    [theme=dark] .colab-df-convert:hover {\n",
              "      background-color: #434B5C;\n",
              "      box-shadow: 0px 1px 3px 1px rgba(0, 0, 0, 0.15);\n",
              "      filter: drop-shadow(0px 1px 2px rgba(0, 0, 0, 0.3));\n",
              "      fill: #FFFFFF;\n",
              "    }\n",
              "  </style>\n",
              "\n",
              "    <script>\n",
              "      const buttonEl =\n",
              "        document.querySelector('#df-5af9c629-38bc-46d5-837c-9e3613655a08 button.colab-df-convert');\n",
              "      buttonEl.style.display =\n",
              "        google.colab.kernel.accessAllowed ? 'block' : 'none';\n",
              "\n",
              "      async function convertToInteractive(key) {\n",
              "        const element = document.querySelector('#df-5af9c629-38bc-46d5-837c-9e3613655a08');\n",
              "        const dataTable =\n",
              "          await google.colab.kernel.invokeFunction('convertToInteractive',\n",
              "                                                    [key], {});\n",
              "        if (!dataTable) return;\n",
              "\n",
              "        const docLinkHtml = 'Like what you see? Visit the ' +\n",
              "          '<a target=\"_blank\" href=https://colab.research.google.com/notebooks/data_table.ipynb>data table notebook</a>'\n",
              "          + ' to learn more about interactive tables.';\n",
              "        element.innerHTML = '';\n",
              "        dataTable['output_type'] = 'display_data';\n",
              "        await google.colab.output.renderOutput(dataTable, element);\n",
              "        const docLink = document.createElement('div');\n",
              "        docLink.innerHTML = docLinkHtml;\n",
              "        element.appendChild(docLink);\n",
              "      }\n",
              "    </script>\n",
              "  </div>\n",
              "\n",
              "\n",
              "<div id=\"df-7a246883-1d74-46a6-aca2-e3f8d0be17ff\">\n",
              "  <button class=\"colab-df-quickchart\" onclick=\"quickchart('df-7a246883-1d74-46a6-aca2-e3f8d0be17ff')\"\n",
              "            title=\"Suggest charts\"\n",
              "            style=\"display:none;\">\n",
              "\n",
              "<svg xmlns=\"http://www.w3.org/2000/svg\" height=\"24px\"viewBox=\"0 0 24 24\"\n",
              "     width=\"24px\">\n",
              "    <g>\n",
              "        <path d=\"M19 3H5c-1.1 0-2 .9-2 2v14c0 1.1.9 2 2 2h14c1.1 0 2-.9 2-2V5c0-1.1-.9-2-2-2zM9 17H7v-7h2v7zm4 0h-2V7h2v10zm4 0h-2v-4h2v4z\"/>\n",
              "    </g>\n",
              "</svg>\n",
              "  </button>\n",
              "\n",
              "<style>\n",
              "  .colab-df-quickchart {\n",
              "      --bg-color: #E8F0FE;\n",
              "      --fill-color: #1967D2;\n",
              "      --hover-bg-color: #E2EBFA;\n",
              "      --hover-fill-color: #174EA6;\n",
              "      --disabled-fill-color: #AAA;\n",
              "      --disabled-bg-color: #DDD;\n",
              "  }\n",
              "\n",
              "  [theme=dark] .colab-df-quickchart {\n",
              "      --bg-color: #3B4455;\n",
              "      --fill-color: #D2E3FC;\n",
              "      --hover-bg-color: #434B5C;\n",
              "      --hover-fill-color: #FFFFFF;\n",
              "      --disabled-bg-color: #3B4455;\n",
              "      --disabled-fill-color: #666;\n",
              "  }\n",
              "\n",
              "  .colab-df-quickchart {\n",
              "    background-color: var(--bg-color);\n",
              "    border: none;\n",
              "    border-radius: 50%;\n",
              "    cursor: pointer;\n",
              "    display: none;\n",
              "    fill: var(--fill-color);\n",
              "    height: 32px;\n",
              "    padding: 0;\n",
              "    width: 32px;\n",
              "  }\n",
              "\n",
              "  .colab-df-quickchart:hover {\n",
              "    background-color: var(--hover-bg-color);\n",
              "    box-shadow: 0 1px 2px rgba(60, 64, 67, 0.3), 0 1px 3px 1px rgba(60, 64, 67, 0.15);\n",
              "    fill: var(--button-hover-fill-color);\n",
              "  }\n",
              "\n",
              "  .colab-df-quickchart-complete:disabled,\n",
              "  .colab-df-quickchart-complete:disabled:hover {\n",
              "    background-color: var(--disabled-bg-color);\n",
              "    fill: var(--disabled-fill-color);\n",
              "    box-shadow: none;\n",
              "  }\n",
              "\n",
              "  .colab-df-spinner {\n",
              "    border: 2px solid var(--fill-color);\n",
              "    border-color: transparent;\n",
              "    border-bottom-color: var(--fill-color);\n",
              "    animation:\n",
              "      spin 1s steps(1) infinite;\n",
              "  }\n",
              "\n",
              "  @keyframes spin {\n",
              "    0% {\n",
              "      border-color: transparent;\n",
              "      border-bottom-color: var(--fill-color);\n",
              "      border-left-color: var(--fill-color);\n",
              "    }\n",
              "    20% {\n",
              "      border-color: transparent;\n",
              "      border-left-color: var(--fill-color);\n",
              "      border-top-color: var(--fill-color);\n",
              "    }\n",
              "    30% {\n",
              "      border-color: transparent;\n",
              "      border-left-color: var(--fill-color);\n",
              "      border-top-color: var(--fill-color);\n",
              "      border-right-color: var(--fill-color);\n",
              "    }\n",
              "    40% {\n",
              "      border-color: transparent;\n",
              "      border-right-color: var(--fill-color);\n",
              "      border-top-color: var(--fill-color);\n",
              "    }\n",
              "    60% {\n",
              "      border-color: transparent;\n",
              "      border-right-color: var(--fill-color);\n",
              "    }\n",
              "    80% {\n",
              "      border-color: transparent;\n",
              "      border-right-color: var(--fill-color);\n",
              "      border-bottom-color: var(--fill-color);\n",
              "    }\n",
              "    90% {\n",
              "      border-color: transparent;\n",
              "      border-bottom-color: var(--fill-color);\n",
              "    }\n",
              "  }\n",
              "</style>\n",
              "\n",
              "  <script>\n",
              "    async function quickchart(key) {\n",
              "      const quickchartButtonEl =\n",
              "        document.querySelector('#' + key + ' button');\n",
              "      quickchartButtonEl.disabled = true;  // To prevent multiple clicks.\n",
              "      quickchartButtonEl.classList.add('colab-df-spinner');\n",
              "      try {\n",
              "        const charts = await google.colab.kernel.invokeFunction(\n",
              "            'suggestCharts', [key], {});\n",
              "      } catch (error) {\n",
              "        console.error('Error during call to suggestCharts:', error);\n",
              "      }\n",
              "      quickchartButtonEl.classList.remove('colab-df-spinner');\n",
              "      quickchartButtonEl.classList.add('colab-df-quickchart-complete');\n",
              "    }\n",
              "    (() => {\n",
              "      let quickchartButtonEl =\n",
              "        document.querySelector('#df-7a246883-1d74-46a6-aca2-e3f8d0be17ff button');\n",
              "      quickchartButtonEl.style.display =\n",
              "        google.colab.kernel.accessAllowed ? 'block' : 'none';\n",
              "    })();\n",
              "  </script>\n",
              "</div>\n",
              "\n",
              "    </div>\n",
              "  </div>\n"
            ]
          },
          "metadata": {},
          "execution_count": 47
        }
      ]
    },
    {
      "cell_type": "markdown",
      "source": [
        "　3-2.　気温データ分岐日前5日間の平均気温"
      ],
      "metadata": {
        "id": "brY1cNF_jL2I"
      }
    },
    {
      "cell_type": "code",
      "source": [
        "import numpy as np\n",
        "'''気温の傾向'''\n",
        "df['temp'][104:110].mean()"
      ],
      "metadata": {
        "colab": {
          "base_uri": "https://localhost:8080/"
        },
        "id": "et0wdEF0beKn",
        "outputId": "7f1f0594-4049-442f-bf43-4bd8ebd436b2"
      },
      "execution_count": null,
      "outputs": [
        {
          "output_type": "execute_result",
          "data": {
            "text/plain": [
              "14.806249999999999"
            ]
          },
          "metadata": {},
          "execution_count": 12
        }
      ]
    },
    {
      "cell_type": "markdown",
      "source": [
        "　3-3.　気温データ分岐日後5日間の平均気温"
      ],
      "metadata": {
        "id": "xJ3QvskqjOuc"
      }
    },
    {
      "cell_type": "code",
      "source": [
        "df['temp'][111:117].mean()"
      ],
      "metadata": {
        "colab": {
          "base_uri": "https://localhost:8080/"
        },
        "id": "oD49ooeHb4FO",
        "outputId": "3b1ceeb1-6e31-47e0-f02d-d5e92d582dc6"
      },
      "execution_count": null,
      "outputs": [
        {
          "output_type": "execute_result",
          "data": {
            "text/plain": [
              "19.239583333333336"
            ]
          },
          "metadata": {},
          "execution_count": 13
        }
      ]
    },
    {
      "cell_type": "markdown",
      "source": [
        "　3-4.　気温データ分岐日前後5日間の平均気温\n",
        "\n",
        "3-1および3-2で検討した日にち以外のデータの検討"
      ],
      "metadata": {
        "id": "2pl8Q4OvjS3F"
      }
    },
    {
      "cell_type": "code",
      "source": [
        "# 5/17\n",
        "print(f'Befor 5days: {df[\"temp\"][130:136].mean()}')\n",
        "print(f'After 5days: {df[\"temp\"][137:142].mean()}')\n",
        "\n",
        "#11/15\n",
        "print(f'Nov15_Befor 5days: {df[\"temp\"][312:318].mean()}')\n",
        "print(f'Nov15_After 5days: {df[\"temp\"][319:325].mean()}')"
      ],
      "metadata": {
        "colab": {
          "base_uri": "https://localhost:8080/"
        },
        "id": "7ofsNgeOgYTB",
        "outputId": "79472581-e1ed-4687-c65d-7d1c7b9f1e3c"
      },
      "execution_count": null,
      "outputs": [
        {
          "output_type": "stream",
          "name": "stdout",
          "text": [
            "Befor 5days: 18.114583333333332\n",
            "After 5days: 19.15\n",
            "Nov15_Befor 5days: 14.627083333333331\n",
            "Nov15_After 5days: 12.858333333333334\n"
          ]
        }
      ]
    },
    {
      "cell_type": "markdown",
      "source": [
        "　3-5. 他の気象データの傾向"
      ],
      "metadata": {
        "id": "ETCvhJTokSyw"
      }
    },
    {
      "cell_type": "code",
      "source": [
        "import numpy as np\n",
        "'''日照時間の傾向'''\n",
        "print('---日照時間の傾向---')\n",
        "# 4/28\n",
        "print(f'Apr28_Befor 5days: {df[\"sun\"][111:117].mean()}')\n",
        "print(f'Apr28_After 5days: {df[\"sun\"][118:124].mean()}')\n",
        "\n",
        "# 5/8\n",
        "print(f'May8_Befor 5days: {df[\"sun\"][121:127].mean()}')\n",
        "print(f'May8_After 5days: {df[\"sun\"][128:135].mean()}')\n",
        "\n",
        "'''降水量の傾向'''\n",
        "print('---降水量の傾向---')\n",
        "#7/29\n",
        "print(f'Jul29_Befor 5days: {round(df[\"prec\"][203:209].mean(),2)}')\n",
        "print(f'Jul29_Befor 5days: {round(df[\"prec\"][210:216].mean(),2)}')\n",
        "#10/7\n",
        "print(f'Oct7_Befor 5days: {round(df[\"prec\"][273:279].mean(),2)}')\n",
        "print(f'Oct7_Befor 5days: {round(df[\"prec\"][280:286].mean(),2)}')\n",
        "\n",
        "'''降雪量の傾向'''\n",
        "print('---降雪量の傾向---')\n",
        "#12/23\n",
        "print(f'Dec23_Befor 5days: {round(df[\"snow\"][350:356].mean(),2)}')\n",
        "print(f'Dec23_Befor 5days: {round(df[\"snow\"][357:363].mean(),2)}')\n",
        "#12/24\n",
        "print(f'Dec24_Befor 5days: {round(df[\"snow\"][351:357].mean(),2)}')\n",
        "print(f'Dec24_Befor 5days: {round(df[\"snow\"][358:364].mean(),2)}')\n",
        "\n",
        "'''湿度の傾向'''\n",
        "print('---湿度の傾向---')\n",
        "#5/20\n",
        "print(f'May20_Befor 5days: {round(df[\"humi\"][133:139].mean(),2)}')\n",
        "print(f'May20_Befor 5days: {round(df[\"humi\"][140:146].mean(),2)}')"
      ],
      "metadata": {
        "colab": {
          "base_uri": "https://localhost:8080/"
        },
        "id": "GzxmhM0zplin",
        "outputId": "2105dcde-c25a-4e2e-d8c0-33fbd0a733f7"
      },
      "execution_count": null,
      "outputs": [
        {
          "output_type": "stream",
          "name": "stdout",
          "text": [
            "---日照時間の傾向---\n",
            "Apr28_Befor 5days: 4.895833333333333\n",
            "Apr28_After 5days: 6.722916666666667\n",
            "May8_Befor 5days: 9.535416666666666\n",
            "May8_After 5days: 3.1535714285714285\n",
            "---降水量の傾向---\n",
            "Jul29_Befor 5days: 12.11\n",
            "Jul29_Befor 5days: 0.53\n",
            "Oct7_Befor 5days: 0.49\n",
            "Oct7_Befor 5days: 3.16\n",
            "---降雪量の傾向---\n",
            "Dec23_Befor 5days: 0.0\n",
            "Dec23_Befor 5days: 0.0\n",
            "Dec24_Befor 5days: 0.0\n",
            "Dec24_Befor 5days: 0.0\n",
            "---湿度の傾向---\n",
            "May20_Befor 5days: 78.44\n",
            "May20_Befor 5days: 83.17\n"
          ]
        }
      ]
    },
    {
      "cell_type": "markdown",
      "source": [
        "　3-6. 収穫量が少ない地域での検証"
      ],
      "metadata": {
        "id": "d8lL3WefkaNs"
      }
    },
    {
      "cell_type": "code",
      "source": [
        "df = pd.read_csv('/content/AOM_df.csv')\n",
        "\n",
        "'''気温の傾向'''\n",
        "print(f'Apr21_Befor 5days: {round(df[\"temp\"][104:110].mean(),2)}')\n",
        "print(f'Apr21_After 5days: {round(df[\"temp\"][111:117].mean(),2)}')\n",
        "# 5/17\n",
        "print(f'May17_Befor 5days: {round(df[\"temp\"][130:136].mean(),2)}')\n",
        "print(f'May17_After 5days: {round(df[\"temp\"][137:142].mean(),2)}')\n",
        "#11/15\n",
        "print(f'Nov15_Befor 5days: {round(df[\"temp\"][312:318].mean(),2)}')\n",
        "print(f'Nov15_After 5days: {round(df[\"temp\"][319:325].mean(),2)}')\n",
        "\n",
        "'''日照時間の傾向'''\n",
        "print('---日照時間の傾向---')\n",
        "# 4/28\n",
        "print(f'Apr28_Befor 5days: {round(df[\"sun\"][111:117].mean(),2)}')\n",
        "print(f'Apr28_After 5days: {round(df[\"sun\"][118:124].mean(),2)}')\n",
        "\n",
        "# 5/8\n",
        "print(f'May8_Befor 5days: {round(df[\"sun\"][121:127].mean(),2)}')\n",
        "print(f'May8_After 5days: {round(df[\"sun\"][128:135].mean(),2)}')\n",
        "\n",
        "'''降水量の傾向'''\n",
        "print('---降水量の傾向---')\n",
        "#7/29\n",
        "print(f'Jul29_Befor 5days: {round(df[\"prec\"][203:209].mean(),2)}')\n",
        "print(f'Jul29_Befor 5days: {round(df[\"prec\"][210:216].mean(),2)}')\n",
        "#10/7\n",
        "print(f'Oct7_Befor 5days: {round(df[\"prec\"][273:279].mean(),2)}')\n",
        "print(f'Oct7_Befor 5days: {round(df[\"prec\"][280:286].mean(),2)}')\n",
        "\n",
        "'''降雪量の傾向'''\n",
        "print('---降雪量の傾向---')\n",
        "#12/23\n",
        "print(f'Dec23_Befor 5days: {round(df[\"snow\"][350:356].mean(),2)}')\n",
        "print(f'Dec23_Befor 5days: {round(df[\"snow\"][357:363].mean(),2)}')\n",
        "#12/24\n",
        "print(f'Dec24_Befor 5days: {round(df[\"snow\"][351:357].mean(),2)}')\n",
        "print(f'Dec24_Befor 5days: {round(df[\"snow\"][358:364].mean(),2)}')\n",
        "\n",
        "'''湿度の傾向'''\n",
        "print('---湿度の傾向---')\n",
        "#5/20\n",
        "print(f'May20_Befor 5days: {round(df[\"humi\"][133:139].mean(),2)}')\n",
        "print(f'May20_Befor 5days: {round(df[\"humi\"][140:146].mean(),2)}')"
      ],
      "metadata": {
        "colab": {
          "base_uri": "https://localhost:8080/"
        },
        "id": "tLB42SDIcamG",
        "outputId": "a93c53bc-fa77-477d-9822-179f12656203"
      },
      "execution_count": null,
      "outputs": [
        {
          "output_type": "stream",
          "name": "stdout",
          "text": [
            "Apr21_Befor 5days: 8.47\n",
            "Apr21_After 5days: 13.52\n",
            "May17_Befor 5days: 14.48\n",
            "May17_After 5days: 16.16\n",
            "Nov15_Befor 5days: 9.93\n",
            "Nov15_After 5days: 6.92\n",
            "---日照時間の傾向---\n",
            "Apr28_Befor 5days: 7.17\n",
            "Apr28_After 5days: 6.89\n",
            "May8_Befor 5days: 10.91\n",
            "May8_After 5days: 7.41\n",
            "---降水量の傾向---\n",
            "Jul29_Befor 5days: 0.18\n",
            "Jul29_Befor 5days: 25.59\n",
            "Oct7_Befor 5days: 1.9\n",
            "Oct7_Befor 5days: 5.97\n",
            "---降雪量の傾向---\n",
            "Dec23_Befor 5days: 3.52\n",
            "Dec23_Befor 5days: 1.9\n",
            "Dec24_Befor 5days: 3.17\n",
            "Dec24_Befor 5days: 2.45\n",
            "---湿度の傾向---\n",
            "May20_Befor 5days: 65.47\n",
            "May20_Befor 5days: 74.17\n"
          ]
        }
      ]
    },
    {
      "cell_type": "markdown",
      "source": [
        "　3-7. （参考）収穫量が多い地域での検証"
      ],
      "metadata": {
        "id": "GPj4rvMaktVz"
      }
    },
    {
      "cell_type": "code",
      "source": [
        "df = pd.read_csv('/content/SZO_df.csv')\n",
        "print(f'Apr21_Befor 5days: {round(df[\"temp\"][104:110].mean(),2)}')\n",
        "print(f'Apr21_After 5days: {round(df[\"temp\"][111:117].mean(),2)}')\n",
        "# 5/17\n",
        "print(f'May17_Befor 5days: {round(df[\"temp\"][130:136].mean(),2)}')\n",
        "print(f'May17_After 5days: {round(df[\"temp\"][137:142].mean(),2)}')\n",
        "#11/15\n",
        "print(f'Nov15_Befor 5days: {round(df[\"temp\"][312:318].mean(),2)}')\n",
        "print(f'Nov15_After 5days: {round(df[\"temp\"][319:325].mean(),2)}')\n",
        "\n",
        "'''日照時間の傾向'''\n",
        "print('---日照時間の傾向---')\n",
        "# 4/28\n",
        "print(f'Apr28_Befor 5days: {round(df[\"sun\"][111:117].mean(),2)}')\n",
        "print(f'Apr28_After 5days: {round(df[\"sun\"][118:124].mean(),2)}')\n",
        "\n",
        "# 5/8\n",
        "print(f'May8_Befor 5days: {round(df[\"sun\"][121:127].mean(),2)}')\n",
        "print(f'May8_After 5days: {round(df[\"sun\"][128:135].mean(),2)}')\n",
        "\n",
        "'''降水量の傾向'''\n",
        "print('---降水量の傾向---')\n",
        "#7/29\n",
        "print(f'Jul29_Befor 5days: {round(df[\"prec\"][203:209].mean(),2)}')\n",
        "print(f'Jul29_Befor 5days: {round(df[\"prec\"][210:216].mean(),2)}')\n",
        "#10/7\n",
        "print(f'Oct7_Befor 5days: {round(df[\"prec\"][273:279].mean(),2)}')\n",
        "print(f'Oct7_Befor 5days: {round(df[\"prec\"][280:286].mean(),2)}')\n",
        "\n",
        "'''降雪量の傾向'''\n",
        "print('---降雪量の傾向---')\n",
        "#12/23\n",
        "print(f'Dec23_Befor 5days: {round(df[\"snow\"][350:356].mean(),2)}')\n",
        "print(f'Dec23_Befor 5days: {round(df[\"snow\"][357:363].mean(),2)}')\n",
        "#12/24\n",
        "print(f'Dec24_Befor 5days: {round(df[\"snow\"][351:357].mean(),2)}')\n",
        "print(f'Dec24_Befor 5days: {round(df[\"snow\"][358:364].mean(),2)}')\n",
        "\n",
        "'''湿度の傾向'''\n",
        "print('---湿度の傾向---')\n",
        "#5/20\n",
        "print(f'May20_Befor 5days: {round(df[\"humi\"][133:139].mean(),2)}')\n",
        "print(f'May20_Befor 5days: {round(df[\"humi\"][140:146].mean(),2)}')"
      ],
      "metadata": {
        "colab": {
          "base_uri": "https://localhost:8080/"
        },
        "id": "7OHcZkxvd5Ld",
        "outputId": "be3181ee-ee41-48e8-f3c9-2d54c7bc56bc"
      },
      "execution_count": null,
      "outputs": [
        {
          "output_type": "stream",
          "name": "stdout",
          "text": [
            "Apr21_Befor 5days: 14.08\n",
            "Apr21_After 5days: 19.32\n",
            "May17_Befor 5days: 18.1\n",
            "May17_After 5days: 18.5\n",
            "Nov15_Befor 5days: 15.48\n",
            "Nov15_After 5days: 13.12\n",
            "---日照時間の傾向---\n",
            "Apr28_Befor 5days: 5.29\n",
            "Apr28_After 5days: 6.4\n",
            "May8_Befor 5days: 9.18\n",
            "May8_After 5days: 3.78\n",
            "---降水量の傾向---\n",
            "Jul29_Befor 5days: 17.56\n",
            "Jul29_Befor 5days: 1.78\n",
            "Oct7_Befor 5days: 3.34\n",
            "Oct7_Befor 5days: 4.26\n",
            "---降雪量の傾向---\n",
            "Dec23_Befor 5days: 0.0\n",
            "Dec23_Befor 5days: 0.0\n",
            "Dec24_Befor 5days: 0.0\n",
            "Dec24_Befor 5days: 0.0\n",
            "---湿度の傾向---\n",
            "May20_Befor 5days: 80.42\n",
            "May20_Befor 5days: 79.96\n"
          ]
        }
      ]
    },
    {
      "cell_type": "code",
      "source": [
        "df = pd.read_csv('/content/MYZ_df.csv')\n",
        "print(f'Apr21_Befor 5days: {round(df[\"temp\"][104:110].mean(),2)}')\n",
        "print(f'Apr21_After 5days: {round(df[\"temp\"][111:117].mean(),2)}')\n",
        "# 5/17\n",
        "print(f'May17_Befor 5days: {round(df[\"temp\"][130:136].mean(),2)}')\n",
        "print(f'May17_After 5days: {round(df[\"temp\"][137:142].mean(),2)}')\n",
        "#11/15\n",
        "print(f'Nov15_Befor 5days: {round(df[\"temp\"][312:318].mean(),2)}')\n",
        "print(f'Nov15_After 5days: {round(df[\"temp\"][319:325].mean(),2)}')\n",
        "\n",
        "'''日照時間の傾向'''\n",
        "print('---日照時間の傾向---')\n",
        "# 4/28\n",
        "print(f'Apr28_Befor 5days: {round(df[\"sun\"][111:117].mean(),2)}')\n",
        "print(f'Apr28_After 5days: {round(df[\"sun\"][118:124].mean(),2)}')\n",
        "\n",
        "# 5/8\n",
        "print(f'May8_Befor 5days: {round(df[\"sun\"][121:127].mean(),2)}')\n",
        "print(f'May8_After 5days: {round(df[\"sun\"][128:135].mean(),2)}')\n",
        "\n",
        "'''降水量の傾向'''\n",
        "print('---降水量の傾向---')\n",
        "#7/29\n",
        "print(f'Jul29_Befor 5days: {round(df[\"prec\"][203:209].mean(),2)}')\n",
        "print(f'Jul29_Befor 5days: {round(df[\"prec\"][210:216].mean(),2)}')\n",
        "#10/7\n",
        "print(f'Oct7_Befor 5days: {round(df[\"prec\"][273:279].mean(),2)}')\n",
        "print(f'Oct7_Befor 5days: {round(df[\"prec\"][280:286].mean(),2)}')\n",
        "\n",
        "'''降雪量の傾向'''\n",
        "print('---降雪量の傾向---')\n",
        "#12/23\n",
        "print(f'Dec23_Befor 5days: {round(df[\"snow\"][350:356].mean(),2)}')\n",
        "print(f'Dec23_Befor 5days: {round(df[\"snow\"][357:363].mean(),2)}')\n",
        "#12/24\n",
        "print(f'Dec24_Befor 5days: {round(df[\"snow\"][351:357].mean(),2)}')\n",
        "print(f'Dec24_Befor 5days: {round(df[\"snow\"][358:364].mean(),2)}')\n",
        "\n",
        "'''湿度の傾向'''\n",
        "print('---湿度の傾向---')\n",
        "#5/20\n",
        "print(f'May20_Befor 5days: {round(df[\"humi\"][133:139].mean(),2)}')\n",
        "print(f'May20_Befor 5days: {round(df[\"humi\"][140:146].mean(),2)}')"
      ],
      "metadata": {
        "colab": {
          "base_uri": "https://localhost:8080/"
        },
        "id": "ctukj7NZeMeo",
        "outputId": "ee38e93d-d17a-4dfb-9172-49722752795b"
      },
      "execution_count": null,
      "outputs": [
        {
          "output_type": "stream",
          "name": "stdout",
          "text": [
            "Apr21_Befor 5days: 16.22\n",
            "Apr21_After 5days: 19.46\n",
            "May17_Befor 5days: 19.02\n",
            "May17_After 5days: 18.41\n",
            "Nov15_Befor 5days: 17.54\n",
            "Nov15_After 5days: 14.86\n",
            "---日照時間の傾向---\n",
            "Apr28_Befor 5days: 2.66\n",
            "Apr28_After 5days: 7.08\n",
            "May8_Befor 5days: 6.12\n",
            "May8_After 5days: 0.84\n",
            "---降水量の傾向---\n",
            "Jul29_Befor 5days: 3.02\n",
            "Jul29_Befor 5days: 9.29\n",
            "Oct7_Befor 5days: 0.04\n",
            "Oct7_Befor 5days: 0.91\n",
            "---降雪量の傾向---\n",
            "Dec23_Befor 5days: 0.0\n",
            "Dec23_Befor 5days: 0.0\n",
            "Dec24_Befor 5days: 0.0\n",
            "Dec24_Befor 5days: 0.0\n",
            "---湿度の傾向---\n",
            "May20_Befor 5days: 77.04\n",
            "May20_Befor 5days: 85.67\n"
          ]
        }
      ]
    },
    {
      "cell_type": "code",
      "source": [
        "df = pd.read_csv('/content/SIT_df.csv')\n",
        "print(f'Apr21_Befor 5days: {round(df[\"temp\"][104:110].mean(),2)}')\n",
        "print(f'Apr21_After 5days: {round(df[\"temp\"][111:117].mean(),2)}')\n",
        "# 5/17\n",
        "print(f'May17_Befor 5days: {round(df[\"temp\"][130:136].mean(),2)}')\n",
        "print(f'May17_After 5days: {round(df[\"temp\"][137:142].mean(),2)}')\n",
        "#11/15\n",
        "print(f'Nov15_Befor 5days: {round(df[\"temp\"][312:318].mean(),2)}')\n",
        "print(f'Nov15_After 5days: {round(df[\"temp\"][319:325].mean(),2)}')\n",
        "\n",
        "'''日照時間の傾向'''\n",
        "print('---日照時間の傾向---')\n",
        "# 4/28\n",
        "print(f'Apr28_Befor 5days: {round(df[\"sun\"][111:117].mean(),2)}')\n",
        "print(f'Apr28_After 5days: {round(df[\"sun\"][118:124].mean(),2)}')\n",
        "\n",
        "# 5/8\n",
        "print(f'May8_Befor 5days: {round(df[\"sun\"][121:127].mean(),2)}')\n",
        "print(f'May8_After 5days: {round(df[\"sun\"][128:135].mean(),2)}')\n",
        "\n",
        "'''降水量の傾向'''\n",
        "print('---降水量の傾向---')\n",
        "#7/29\n",
        "print(f'Jul29_Befor 5days: {round(df[\"prec\"][203:209].mean(),2)}')\n",
        "print(f'Jul29_Befor 5days: {round(df[\"prec\"][210:216].mean(),2)}')\n",
        "#10/7\n",
        "print(f'Oct7_Befor 5days: {round(df[\"prec\"][273:279].mean(),2)}')\n",
        "print(f'Oct7_Befor 5days: {round(df[\"prec\"][280:286].mean(),2)}')\n",
        "\n",
        "'''降雪量の傾向'''\n",
        "print('---降雪量の傾向---')\n",
        "#12/23\n",
        "print(f'Dec23_Befor 5days: {round(df[\"snow\"][350:356].mean(),2)}')\n",
        "print(f'Dec23_Befor 5days: {round(df[\"snow\"][357:363].mean(),2)}')\n",
        "#12/24\n",
        "print(f'Dec24_Befor 5days: {round(df[\"snow\"][351:357].mean(),2)}')\n",
        "print(f'Dec24_Befor 5days: {round(df[\"snow\"][358:364].mean(),2)}')\n",
        "\n",
        "'''湿度の傾向'''\n",
        "print('---湿度の傾向---')\n",
        "#5/20\n",
        "print(f'May20_Befor 5days: {round(df[\"humi\"][133:139].mean(),2)}')\n",
        "print(f'May20_Befor 5days: {round(df[\"humi\"][140:146].mean(),2)}')"
      ],
      "metadata": {
        "colab": {
          "base_uri": "https://localhost:8080/"
        },
        "id": "_pN6NpbSehL6",
        "outputId": "8c2d1a72-292e-4d23-a4e1-4e1039206c81"
      },
      "execution_count": null,
      "outputs": [
        {
          "output_type": "stream",
          "name": "stdout",
          "text": [
            "Apr21_Befor 5days: 11.98\n",
            "Apr21_After 5days: 19.71\n",
            "May17_Befor 5days: 17.79\n",
            "May17_After 5days: 18.9\n",
            "Nov15_Befor 5days: 13.49\n",
            "Nov15_After 5days: 10.7\n",
            "---日照時間の傾向---\n",
            "Apr28_Befor 5days: 5.64\n",
            "Apr28_After 5days: 7.62\n",
            "May8_Befor 5days: 9.72\n",
            "May8_After 5days: 3.54\n",
            "---降水量の傾向---\n",
            "Jul29_Befor 5days: 5.09\n",
            "Jul29_Befor 5days: 4.99\n",
            "Oct7_Befor 5days: 3.1\n",
            "Oct7_Befor 5days: 2.62\n",
            "---降雪量の傾向---\n",
            "Dec23_Befor 5days: 0.0\n",
            "Dec23_Befor 5days: 0.0\n",
            "Dec24_Befor 5days: 0.0\n",
            "Dec24_Befor 5days: 0.0\n",
            "---湿度の傾向---\n",
            "May20_Befor 5days: 74.67\n",
            "May20_Befor 5days: 73.83\n"
          ]
        }
      ]
    },
    {
      "cell_type": "code",
      "source": [
        "df = pd.read_csv('/content/TYM_df.csv')\n",
        "print(f'Apr21_Befor 5days: {round(df[\"temp\"][104:110].mean(),2)}')\n",
        "print(f'Apr21_After 5days: {round(df[\"temp\"][111:117].mean(),2)}')\n",
        "# 5/17\n",
        "print(f'May17_Befor 5days: {round(df[\"temp\"][130:136].mean(),2)}')\n",
        "print(f'May17_After 5days: {round(df[\"temp\"][137:142].mean(),2)}')\n",
        "#11/15\n",
        "print(f'Nov15_Befor 5days: {round(df[\"temp\"][312:318].mean(),2)}')\n",
        "print(f'Nov15_After 5days: {round(df[\"temp\"][319:325].mean(),2)}')\n",
        "\n",
        "'''日照時間の傾向'''\n",
        "print('---日照時間の傾向---')\n",
        "# 4/28\n",
        "print(f'Apr28_Befor 5days: {round(df[\"sun\"][111:117].mean(),2)}')\n",
        "print(f'Apr28_After 5days: {round(df[\"sun\"][118:124].mean(),2)}')\n",
        "\n",
        "# 5/8\n",
        "print(f'May8_Befor 5days: {round(df[\"sun\"][121:127].mean(),2)}')\n",
        "print(f'May8_After 5days: {round(df[\"sun\"][128:135].mean(),2)}')\n",
        "\n",
        "'''降水量の傾向'''\n",
        "print('---降水量の傾向---')\n",
        "#7/29\n",
        "print(f'Jul29_Befor 5days: {round(df[\"prec\"][203:209].mean(),2)}')\n",
        "print(f'Jul29_Befor 5days: {round(df[\"prec\"][210:216].mean(),2)}')\n",
        "#10/7\n",
        "print(f'Oct7_Befor 5days: {round(df[\"prec\"][273:279].mean(),2)}')\n",
        "print(f'Oct7_Befor 5days: {round(df[\"prec\"][280:286].mean(),2)}')\n",
        "\n",
        "'''降雪量の傾向'''\n",
        "print('---降雪量の傾向---')\n",
        "#12/23\n",
        "print(f'Dec23_Befor 5days: {round(df[\"snow\"][350:356].mean(),2)}')\n",
        "print(f'Dec23_Befor 5days: {round(df[\"snow\"][357:363].mean(),2)}')\n",
        "#12/24\n",
        "print(f'Dec24_Befor 5days: {round(df[\"snow\"][351:357].mean(),2)}')\n",
        "print(f'Dec24_Befor 5days: {round(df[\"snow\"][358:364].mean(),2)}')\n",
        "\n",
        "'''湿度の傾向'''\n",
        "print('---湿度の傾向---')\n",
        "#5/20\n",
        "print(f'May20_Befor 5days: {round(df[\"humi\"][133:139].mean(),2)}')\n",
        "print(f'May20_Befor 5days: {round(df[\"humi\"][140:146].mean(),2)}')"
      ],
      "metadata": {
        "colab": {
          "base_uri": "https://localhost:8080/"
        },
        "id": "jrm4QGjCeyft",
        "outputId": "8b636969-a36b-44fe-ebaa-e8c4228810e8"
      },
      "execution_count": null,
      "outputs": [
        {
          "output_type": "stream",
          "name": "stdout",
          "text": [
            "Apr21_Befor 5days: 10.89\n",
            "Apr21_After 5days: 16.41\n",
            "May17_Befor 5days: 16.22\n",
            "May17_After 5days: 19.28\n",
            "Nov15_Befor 5days: 13.15\n",
            "Nov15_After 5days: 11.12\n",
            "---日照時間の傾向---\n",
            "Apr28_Befor 5days: 3.18\n",
            "Apr28_After 5days: 7.25\n",
            "May8_Befor 5days: 11.39\n",
            "May8_After 5days: 3.75\n",
            "---降水量の傾向---\n",
            "Jul29_Befor 5days: 5.85\n",
            "Jul29_Befor 5days: 10.74\n",
            "Oct7_Befor 5days: 5.64\n",
            "Oct7_Befor 5days: 6.62\n",
            "---降雪量の傾向---\n",
            "Dec23_Befor 5days: 5.03\n",
            "Dec23_Befor 5days: 0.77\n",
            "Dec24_Befor 5days: 9.4\n",
            "Dec24_Befor 5days: 0.47\n",
            "---湿度の傾向---\n",
            "May20_Befor 5days: 65.67\n",
            "May20_Befor 5days: 69.03\n"
          ]
        }
      ]
    },
    {
      "cell_type": "code",
      "source": [
        "df = pd.read_csv('/content/TTR_df.csv')\n",
        "print(f'Apr21_Befor 5days: {round(df[\"temp\"][104:110].mean(),2)}')\n",
        "print(f'Apr21_After 5days: {round(df[\"temp\"][111:117].mean(),2)}')\n",
        "# 5/17\n",
        "print(f'May17_Befor 5days: {round(df[\"temp\"][130:136].mean(),2)}')\n",
        "print(f'May17_After 5days: {round(df[\"temp\"][137:142].mean(),2)}')\n",
        "#11/15\n",
        "print(f'Nov15_Befor 5days: {round(df[\"temp\"][312:318].mean(),2)}')\n",
        "print(f'Nov15_After 5days: {round(df[\"temp\"][319:325].mean(),2)}')\n",
        "\n",
        "'''日照時間の傾向'''\n",
        "print('---日照時間の傾向---')\n",
        "# 4/28\n",
        "print(f'Apr28_Befor 5days: {round(df[\"sun\"][111:117].mean(),2)}')\n",
        "print(f'Apr28_After 5days: {round(df[\"sun\"][118:124].mean(),2)}')\n",
        "\n",
        "# 5/8\n",
        "print(f'May8_Befor 5days: {round(df[\"sun\"][121:127].mean(),2)}')\n",
        "print(f'May8_After 5days: {round(df[\"sun\"][128:135].mean(),2)}')\n",
        "\n",
        "'''降水量の傾向'''\n",
        "print('---降水量の傾向---')\n",
        "#7/29\n",
        "print(f'Jul29_Befor 5days: {round(df[\"prec\"][203:209].mean(),2)}')\n",
        "print(f'Jul29_Befor 5days: {round(df[\"prec\"][210:216].mean(),2)}')\n",
        "#10/7\n",
        "print(f'Oct7_Befor 5days: {round(df[\"prec\"][273:279].mean(),2)}')\n",
        "print(f'Oct7_Befor 5days: {round(df[\"prec\"][280:286].mean(),2)}')\n",
        "\n",
        "'''降雪量の傾向'''\n",
        "print('---降雪量の傾向---')\n",
        "#12/23\n",
        "print(f'Dec23_Befor 5days: {round(df[\"snow\"][350:356].mean(),2)}')\n",
        "print(f'Dec23_Befor 5days: {round(df[\"snow\"][357:363].mean(),2)}')\n",
        "#12/24\n",
        "print(f'Dec24_Befor 5days: {round(df[\"snow\"][351:357].mean(),2)}')\n",
        "print(f'Dec24_Befor 5days: {round(df[\"snow\"][358:364].mean(),2)}')\n",
        "\n",
        "'''湿度の傾向'''\n",
        "print('---湿度の傾向---')\n",
        "#5/20\n",
        "print(f'May20_Befor 5days: {round(df[\"humi\"][133:139].mean(),2)}')\n",
        "print(f'May20_Befor 5days: {round(df[\"humi\"][140:146].mean(),2)}')"
      ],
      "metadata": {
        "colab": {
          "base_uri": "https://localhost:8080/"
        },
        "id": "Q44af6iYfKZb",
        "outputId": "b5a4fcc1-c8b4-4e9a-fa9b-36a1abfb6729"
      },
      "execution_count": null,
      "outputs": [
        {
          "output_type": "stream",
          "name": "stdout",
          "text": [
            "Apr21_Befor 5days: 11.62\n",
            "Apr21_After 5days: 17.64\n",
            "May17_Befor 5days: 16.88\n",
            "May17_After 5days: 18.73\n",
            "Nov15_Befor 5days: 14.33\n",
            "Nov15_After 5days: 10.96\n",
            "---日照時間の傾向---\n",
            "Apr28_Befor 5days: 4.83\n",
            "Apr28_After 5days: 7.86\n",
            "May8_Befor 5days: 10.64\n",
            "May8_After 5days: 3.31\n",
            "---降水量の傾向---\n",
            "Jul29_Befor 5days: 1.09\n",
            "Jul29_Befor 5days: 0.23\n",
            "Oct7_Befor 5days: 3.34\n",
            "Oct7_Befor 5days: 2.21\n",
            "---降雪量の傾向---\n",
            "Dec23_Befor 5days: 1.3\n",
            "Dec23_Befor 5days: 0.53\n",
            "Dec24_Befor 5days: 2.0\n",
            "Dec24_Befor 5days: 0.03\n",
            "---湿度の傾向---\n",
            "May20_Befor 5days: 66.4\n",
            "May20_Befor 5days: 69.4\n"
          ]
        }
      ]
    }
  ]
}